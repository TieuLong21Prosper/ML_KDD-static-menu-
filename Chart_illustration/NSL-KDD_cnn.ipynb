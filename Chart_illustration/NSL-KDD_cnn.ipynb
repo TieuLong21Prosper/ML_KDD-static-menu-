{
 "cells": [
  {
   "cell_type": "markdown",
   "metadata": {},
   "source": [
    "Nguyen Ngoc Tieu Long"
   ]
  },
  {
   "cell_type": "code",
   "execution_count": 1,
   "metadata": {},
   "outputs": [],
   "source": [
    "import numpy as np\n",
    "import pandas as pd\n",
    "import matplotlib.pyplot as plt\n",
    "import seaborn as sns\n",
    "from sklearn.preprocessing import LabelEncoder, OneHotEncoder\n",
    "from sklearn import preprocessing\n",
    "import sklearn.metrics as metrics"
   ]
  },
  {
   "cell_type": "markdown",
   "metadata": {},
   "source": [
    "# START: DATA GATHERING"
   ]
  },
  {
   "cell_type": "code",
   "execution_count": 2,
   "metadata": {},
   "outputs": [],
   "source": [
    "# Các thuộc tính của dataset\n",
    "col_names = [\"duration\", \"protocol_type\", \"service\", \"flag\", \"src_bytes\",\n",
    "             \"dst_bytes\", \"land\", \"wrong_fragment\", \"urgent\", \"hot\", \"num_failed_logins\",\n",
    "             \"logged_in\", \"num_compromised\", \"root_shell\", \"su_attempted\", \"num_root\",\n",
    "             \"num_file_creations\", \"num_shells\", \"num_access_files\", \"num_outbound_cmds\",\n",
    "             \"is_host_login\", \"is_guest_login\", \"count\", \"srv_count\", \"serror_rate\",\n",
    "             \"srv_serror_rate\", \"rerror_rate\", \"srv_rerror_rate\", \"same_srv_rate\",\n",
    "             \"diff_srv_rate\", \"srv_diff_host_rate\", \"dst_host_count\", \"dst_host_srv_count\",\n",
    "             \"dst_host_same_srv_rate\", \"dst_host_diff_srv_rate\", \"dst_host_same_src_port_rate\",\n",
    "             \"dst_host_srv_diff_host_rate\", \"dst_host_serror_rate\", \"dst_host_srv_serror_rate\",\n",
    "             \"dst_host_rerror_rate\", \"dst_host_srv_rerror_rate\", \"label\"]"
   ]
  },
  {
   "cell_type": "code",
   "execution_count": 3,
   "metadata": {},
   "outputs": [
    {
     "name": "stdout",
     "output_type": "stream",
     "text": [
      "(125973, 42)\n",
      "(22544, 42)\n"
     ]
    }
   ],
   "source": [
    "# Load dataset\n",
    "origin_train_dataFrame = pd.read_csv(\"NSL_KDD_Train.csv\", header=None, names=col_names)\n",
    "origin_test_dataFrame = pd.read_csv(\"NSL_KDD_Test.csv\", header=None, names=col_names)\n",
    "# origin_train_dataFrame.drop(\"score\",axis=1,inplace=True)\n",
    "# origin_test_dataFrame.drop(\"score\",axis=1,inplace=True)\n",
    "print(origin_train_dataFrame.shape)\n",
    "print(origin_test_dataFrame.shape)"
   ]
  },
  {
   "cell_type": "markdown",
   "metadata": {},
   "source": [
    "Nhóm các features vào 3 nhóm"
   ]
  },
  {
   "cell_type": "code",
   "execution_count": 4,
   "metadata": {},
   "outputs": [],
   "source": [
    "# nominal features: 2 - 3 - 4\n",
    "# binary features: 7 - 12 - 14 - 15 - 21\n",
    "# Còn lại là numeric features\n",
    "nominal_features = [\"protocol_type\", \"service\", \"flag\"]\n",
    "binary_features = [\"land\", \"logged_in\", \"root_shell\",\n",
    "                   \"su_attempted\", \"is_host_login\", \"is_guest_login\"]\n",
    "numeric_features = []\n",
    "for feature in col_names:\n",
    "    if ((feature not in nominal_features) and (feature not in binary_features) and (feature != \"label\")):\n",
    "        numeric_features.append(feature)"
   ]
  },
  {
   "cell_type": "code",
   "execution_count": 5,
   "metadata": {},
   "outputs": [
    {
     "name": "stdout",
     "output_type": "stream",
     "text": [
      "Nominal feature (3): ['protocol_type', 'service', 'flag']\n",
      "Binary features (6): ['land', 'logged_in', 'root_shell', 'su_attempted', 'is_host_login', 'is_guest_login']\n",
      "Numeric features (32): ['duration', 'src_bytes', 'dst_bytes', 'wrong_fragment', 'urgent', 'hot', 'num_failed_logins', 'num_compromised', 'num_root', 'num_file_creations', 'num_shells', 'num_access_files', 'num_outbound_cmds', 'count', 'srv_count', 'serror_rate', 'srv_serror_rate', 'rerror_rate', 'srv_rerror_rate', 'same_srv_rate', 'diff_srv_rate', 'srv_diff_host_rate', 'dst_host_count', 'dst_host_srv_count', 'dst_host_same_srv_rate', 'dst_host_diff_srv_rate', 'dst_host_same_src_port_rate', 'dst_host_srv_diff_host_rate', 'dst_host_serror_rate', 'dst_host_srv_serror_rate', 'dst_host_rerror_rate', 'dst_host_srv_rerror_rate']\n"
     ]
    }
   ],
   "source": [
    "# Liệt kê các features theo từng nhóm\n",
    "print(\"Nominal feature (\", len(nominal_features), \"): \", nominal_features, sep=\"\")\n",
    "print(\"Binary features (\", len(binary_features), \"): \", binary_features, sep=\"\")\n",
    "print(\"Numeric features (\", len(numeric_features), \"): \", numeric_features, sep=\"\")"
   ]
  },
  {
   "cell_type": "markdown",
   "metadata": {},
   "source": [
    "Chia lại các record vào 4 phân lớp tấn công"
   ]
  },
  {
   "cell_type": "code",
   "execution_count": 6,
   "metadata": {},
   "outputs": [
    {
     "name": "stdout",
     "output_type": "stream",
     "text": [
      "['normal' 'neptune' 'warezclient' 'ipsweep' 'portsweep' 'teardrop' 'nmap'\n",
      " 'satan' 'smurf' 'pod' 'back' 'guess_passwd' 'ftp_write' 'multihop'\n",
      " 'rootkit' 'buffer_overflow' 'imap' 'warezmaster' 'phf' 'land'\n",
      " 'loadmodule' 'spy' 'perl']\n",
      "['neptune' 'normal' 'saint' 'mscan' 'guess_passwd' 'smurf' 'apache2'\n",
      " 'satan' 'buffer_overflow' 'back' 'warezmaster' 'snmpgetattack'\n",
      " 'processtable' 'pod' 'httptunnel' 'nmap' 'ps' 'snmpguess' 'ipsweep'\n",
      " 'mailbomb' 'portsweep' 'multihop' 'named' 'sendmail' 'loadmodule' 'xterm'\n",
      " 'worm' 'teardrop' 'rootkit' 'xlock' 'perl' 'land' 'xsnoop' 'sqlattack'\n",
      " 'ftp_write' 'imap' 'udpstorm' 'phf']\n",
      "['httptunnel', 'udpstorm', 'apache2', 'snmpguess', 'processtable', 'mailbomb', 'sqlattack', 'ps', 'saint', 'snmpgetattack', 'sendmail', 'xlock', 'named', 'mscan', 'xterm', 'worm', 'xsnoop']\n"
     ]
    }
   ],
   "source": [
    "# Xem sự phân phối các subclass\n",
    "print(origin_train_dataFrame[\"label\"].unique())\n",
    "print(origin_test_dataFrame[\"label\"].unique())\n",
    "\n",
    "trainLabels = origin_train_dataFrame[\"label\"].tolist()\n",
    "testLabels = origin_test_dataFrame[\"label\"].tolist()\n",
    "\n",
    "differentLabels = list(set(testLabels) - set(trainLabels))\n",
    "print(differentLabels)\n",
    "# N19DCAT033 - Tran Viet Hoang"
   ]
  },
  {
   "cell_type": "code",
   "execution_count": 7,
   "metadata": {},
   "outputs": [],
   "source": [
    "# Trước tiên cần phải liệt kê danh sách các subclass của 4 phân lớp DoS, Probe, U2R, R2L\n",
    "# Tấn công DoS\n",
    "label_DoS = ['apache2', 'back', 'land', 'neptune', 'mailbomb',\n",
    "             'pod', 'processtable', 'smurf', 'teardrop', 'udpstorm', 'worm']\n",
    "# Tấn công thu thập thông tin\n",
    "label_Probe = ['ipsweep', 'mscan', 'nmap', 'portsweep', 'saint', 'satan']\n",
    "# Tấn công chiếm quyền, leo thang đặc quyền\n",
    "label_U2R = ['buffer_overflow', 'loadmodule',\n",
    "             'perl', 'ps', 'rootkit', 'sqlattack', 'xterm']\n",
    "# Tấn công kết nối truy cập từ xa\n",
    "label_R2L = ['ftp_write', 'guess_passwd', 'httptunnel', 'imap', 'multihop', 'named', 'phf',\n",
    "             'sendmail', 'snmpgetattack', 'snmpguess', 'spy', 'warezclient', 'warezmaster', 'xlock', 'xsnoop']"
   ]
  },
  {
   "cell_type": "markdown",
   "metadata": {},
   "source": [
    "Tách column label thành labels2 (normal - attack) và labels5 (normal - DoS, Probe, R2L, U2R)"
   ]
  },
  {
   "cell_type": "code",
   "execution_count": 8,
   "metadata": {},
   "outputs": [],
   "source": [
    "attack_labels = []\n",
    "attack_labels.extend(label_DoS)\n",
    "attack_labels.extend(label_Probe)\n",
    "attack_labels.extend(label_U2R)\n",
    "attack_labels.extend(label_R2L)"
   ]
  },
  {
   "cell_type": "code",
   "execution_count": 9,
   "metadata": {},
   "outputs": [],
   "source": [
    "# Đối với TRAIN DATASET\n",
    "origin_train_dataFrame.rename(columns={\"label\": \"labels2\"}, inplace=True)\n",
    "trainLabels2Column = origin_train_dataFrame[\"labels2\"].tolist()\n",
    "origin_train_dataFrame[\"labels5\"] = trainLabels2Column\n",
    "origin_train_dataFrame[\"labels2\"].replace(attack_labels, \"attack\", inplace=True)\n"
   ]
  },
  {
   "cell_type": "code",
   "execution_count": 10,
   "metadata": {},
   "outputs": [],
   "source": [
    "# Đối với TEST DATASET\n",
    "origin_test_dataFrame.rename(columns={\"label\": \"labels2\"}, inplace=True)\n",
    "testLabels2Column = origin_test_dataFrame[\"labels2\"].tolist()\n",
    "origin_test_dataFrame[\"labels5\"] = testLabels2Column\n",
    "origin_test_dataFrame[\"labels2\"].replace(attack_labels, \"attack\", inplace=True)"
   ]
  },
  {
   "cell_type": "code",
   "execution_count": 11,
   "metadata": {},
   "outputs": [
    {
     "name": "stdout",
     "output_type": "stream",
     "text": [
      "['normal' 'attack']\n",
      "['normal' 'neptune' 'warezclient' 'ipsweep' 'portsweep' 'teardrop' 'nmap'\n",
      " 'satan' 'smurf' 'pod' 'back' 'guess_passwd' 'ftp_write' 'multihop'\n",
      " 'rootkit' 'buffer_overflow' 'imap' 'warezmaster' 'phf' 'land'\n",
      " 'loadmodule' 'spy' 'perl']\n",
      "\n",
      "['attack' 'normal']\n",
      "['neptune' 'normal' 'saint' 'mscan' 'guess_passwd' 'smurf' 'apache2'\n",
      " 'satan' 'buffer_overflow' 'back' 'warezmaster' 'snmpgetattack'\n",
      " 'processtable' 'pod' 'httptunnel' 'nmap' 'ps' 'snmpguess' 'ipsweep'\n",
      " 'mailbomb' 'portsweep' 'multihop' 'named' 'sendmail' 'loadmodule' 'xterm'\n",
      " 'worm' 'teardrop' 'rootkit' 'xlock' 'perl' 'land' 'xsnoop' 'sqlattack'\n",
      " 'ftp_write' 'imap' 'udpstorm' 'phf']\n"
     ]
    }
   ],
   "source": [
    "print(origin_train_dataFrame[\"labels2\"].unique())\n",
    "print(origin_train_dataFrame[\"labels5\"].unique())\n",
    "print()\n",
    "print(origin_test_dataFrame[\"labels2\"].unique())\n",
    "print(origin_test_dataFrame[\"labels5\"].unique())"
   ]
  },
  {
   "cell_type": "code",
   "execution_count": 12,
   "metadata": {},
   "outputs": [],
   "source": [
    "# Đối với TRAIN DATASET\n",
    "# Chia các record vào DoS\n",
    "origin_train_dataFrame[\"labels5\"].replace(label_DoS, \"DoS\", inplace=True)\n",
    "# Chia các record vào Probe\n",
    "origin_train_dataFrame[\"labels5\"].replace(label_Probe, \"Probe\", inplace=True)\n",
    "# Chia các record vào U2R\n",
    "origin_train_dataFrame[\"labels5\"].replace(label_U2R, \"U2R\", inplace=True)\n",
    "# Chia các record vào R2L\n",
    "origin_train_dataFrame[\"labels5\"].replace(label_R2L, \"R2L\", inplace=True)\n",
    "\n",
    "# Đối với TEST DATASET\n",
    "# Chia các record vào DoS\n",
    "origin_test_dataFrame[\"labels5\"].replace(label_DoS, \"DoS\", inplace=True)\n",
    "# Chia các record vào Probe\n",
    "origin_test_dataFrame[\"labels5\"].replace(label_Probe, \"Probe\", inplace=True)\n",
    "# Chia các record vào U2R\n",
    "origin_test_dataFrame[\"labels5\"].replace(label_U2R, \"U2R\", inplace=True)\n",
    "# Chia các record vào R2L\n",
    "origin_test_dataFrame[\"labels5\"].replace(label_R2L, \"R2L\", inplace=True)"
   ]
  },
  {
   "cell_type": "code",
   "execution_count": 13,
   "metadata": {},
   "outputs": [
    {
     "name": "stdout",
     "output_type": "stream",
     "text": [
      "normal    67343\n",
      "attack    58630\n",
      "Name: labels2, dtype: int64\n"
     ]
    },
    {
     "data": {
      "image/png": "[encoded data removed]",
      "text/plain": [
       "<Figure size 640x480 with 1 Axes>"
      ]
     },
     "metadata": {},
     "output_type": "display_data"
    }
   ],
   "source": [
    "# Xem sự phân phối theo normal - attack\n",
    "print(origin_train_dataFrame[\"labels2\"].value_counts())\n",
    "# Vẽ biểu đồ phân phối theo normal - attack\n",
    "x_label_distribute = np.array(\n",
    "    origin_train_dataFrame[\"labels2\"].value_counts().index.tolist())\n",
    "y_label_distribute = np.array(\n",
    "    origin_train_dataFrame[\"labels2\"].value_counts().values.tolist())\n",
    "plt.bar(x_label_distribute, y_label_distribute)\n",
    "plt.show()"
   ]
  },
  {
   "cell_type": "code",
   "execution_count": 14,
   "metadata": {},
   "outputs": [
    {
     "name": "stdout",
     "output_type": "stream",
     "text": [
      "normal    67343\n",
      "DoS       45927\n",
      "Probe     11656\n",
      "R2L         995\n",
      "U2R          52\n",
      "Name: labels5, dtype: int64\n"
     ]
    },
    {
     "data": {
      "image/png": "[encoded data removed]",
      "text/plain": [
       "<Figure size 640x480 with 1 Axes>"
      ]
     },
     "metadata": {},
     "output_type": "display_data"
    }
   ],
   "source": [
    "# Xem lại sự phân phối theo lớp tấn công\n",
    "print(origin_train_dataFrame[\"labels5\"].value_counts())\n",
    "# Vẽ biểu đồ phân phối theo lớp tấn công\n",
    "x_label_distribute = np.array(\n",
    "    origin_train_dataFrame[\"labels5\"].value_counts().index.tolist())\n",
    "y_label_distribute = np.array(\n",
    "    origin_train_dataFrame[\"labels5\"].value_counts().values.tolist())\n",
    "plt.bar(x_label_distribute, y_label_distribute)\n",
    "plt.show()"
   ]
  },
  {
   "cell_type": "markdown",
   "metadata": {},
   "source": [
    "# END: DATA GATHERING"
   ]
  },
  {
   "cell_type": "markdown",
   "metadata": {},
   "source": [
    "# START: DATA PROCESSING"
   ]
  },
  {
   "cell_type": "code",
   "execution_count": 15,
   "metadata": {},
   "outputs": [],
   "source": [
    "# N19DCAT033 - Tran Viet Hoang\n",
    "# Trong dataset nsl-kdd có 3 thuộc tính nominal (string) nên không thể thực hiện tính toán các chỉ số trực tiếp\n",
    "# Sử dụng one-hot encoding để chuyển các nominal attribute sang numeric attribute\n",
    "# Các feature được scale để tránh việc các feature mang giá trị quá lớn ảnh hưởng tới kết quả của mô hình"
   ]
  },
  {
   "cell_type": "code",
   "execution_count": 16,
   "metadata": {},
   "outputs": [
    {
     "name": "stdout",
     "output_type": "stream",
     "text": [
      "\n",
      "Number of unique values in TRAIN DATASET for nominal attributes\n",
      "Feature 'protocol_type' has 3 categories\n",
      "Feature 'service' has 70 categories\n",
      "Feature 'flag' has 11 categories\n",
      "\n",
      "Number of unique values in TEST DATASET for nominal attributes\n",
      "Feature 'protocol_type' has 3 categories\n",
      "Feature 'service' has 64 categories\n",
      "Feature 'flag' has 11 categories\n"
     ]
    }
   ],
   "source": [
    "# Số lượng các giá trị khác nhau trong 3 nominal attribute\n",
    "print(\"\\nNumber of unique values in TRAIN DATASET for nominal attributes\")\n",
    "for col in origin_train_dataFrame.columns:\n",
    "    if origin_train_dataFrame[col].dtypes == 'object' and col != \"labels2\" and col != \"labels5\":\n",
    "        unique_cat = len(origin_train_dataFrame[col].unique())\n",
    "        print(\"Feature '{col}' has {unique_cat} categories\".format(\n",
    "            col=col, unique_cat=unique_cat))\n",
    "\n",
    "print(\"\\nNumber of unique values in TEST DATASET for nominal attributes\")\n",
    "for col in origin_test_dataFrame.columns:\n",
    "    if origin_test_dataFrame[col].dtypes == 'object' and col != \"labels2\" and col != \"labels5\":\n",
    "        unique_cat = len(origin_test_dataFrame[col].unique())\n",
    "        print(\"Feature '{col}' has {unique_cat} categories\".format(\n",
    "            col=col, unique_cat=unique_cat))"
   ]
  },
  {
   "cell_type": "code",
   "execution_count": 17,
   "metadata": {},
   "outputs": [],
   "source": [
    "# Với TRAIN DATASET thì sẽ có tổng cộng 3+70+11=84 dummies khi sử dụng one-hot encoding\n",
    "# Với TEST DATASET thì sẽ có tổng cộng 3+64+11=78 dummies khi sử dụng one-hot encoding"
   ]
  },
  {
   "cell_type": "markdown",
   "metadata": {},
   "source": [
    "Đưa các nominal (categorical) feature vào mảng numpy 2D (2D numpy array)"
   ]
  },
  {
   "cell_type": "code",
   "execution_count": 18,
   "metadata": {},
   "outputs": [
    {
     "name": "stdout",
     "output_type": "stream",
     "text": [
      "  protocol_type   service flag\n",
      "0           tcp  ftp_data   SF\n",
      "1           udp     other   SF\n",
      "2           tcp   private   S0\n",
      "3           tcp      http   SF\n",
      "4           tcp      http   SF\n"
     ]
    }
   ],
   "source": [
    "train_dataset_categorical_values = origin_train_dataFrame[nominal_features]\n",
    "test_dataset_categorical_values = origin_test_dataFrame[nominal_features]\n",
    "\n",
    "print(train_dataset_categorical_values.head())"
   ]
  },
  {
   "cell_type": "markdown",
   "metadata": {},
   "source": [
    "THỰC HIỆN DUMMY CÁC COLUMN (ATTRIBUTE)"
   ]
  },
  {
   "cell_type": "code",
   "execution_count": 19,
   "metadata": {},
   "outputs": [
    {
     "name": "stdout",
     "output_type": "stream",
     "text": [
      "['Protocol_type_icmp', 'Protocol_type_tcp', 'Protocol_type_udp', 'service_IRC', 'service_X11', 'service_Z39_50', 'service_aol', 'service_auth', 'service_bgp', 'service_courier', 'service_csnet_ns', 'service_ctf', 'service_daytime', 'service_discard', 'service_domain', 'service_domain_u', 'service_echo', 'service_eco_i', 'service_ecr_i', 'service_efs', 'service_exec', 'service_finger', 'service_ftp', 'service_ftp_data', 'service_gopher', 'service_harvest', 'service_hostnames', 'service_http', 'service_http_2784', 'service_http_443', 'service_http_8001', 'service_imap4', 'service_iso_tsap', 'service_klogin', 'service_kshell', 'service_ldap', 'service_link', 'service_login', 'service_mtp', 'service_name', 'service_netbios_dgm', 'service_netbios_ns', 'service_netbios_ssn', 'service_netstat', 'service_nnsp', 'service_nntp', 'service_ntp_u', 'service_other', 'service_pm_dump', 'service_pop_2', 'service_pop_3', 'service_printer', 'service_private', 'service_red_i', 'service_remote_job', 'service_rje', 'service_shell', 'service_smtp', 'service_sql_net', 'service_ssh', 'service_sunrpc', 'service_supdup', 'service_systat', 'service_telnet', 'service_tftp_u', 'service_tim_i', 'service_time', 'service_urh_i', 'service_urp_i', 'service_uucp', 'service_uucp_path', 'service_vmnet', 'service_whois', 'flag_OTH', 'flag_REJ', 'flag_RSTO', 'flag_RSTOS0', 'flag_RSTR', 'flag_S0', 'flag_S1', 'flag_S2', 'flag_S3', 'flag_SF', 'flag_SH']\n"
     ]
    }
   ],
   "source": [
    "# protocol type\n",
    "unique_protocol = sorted(origin_train_dataFrame.protocol_type.unique())\n",
    "string1 = 'Protocol_type_'\n",
    "unique_protocol2 = [string1 + x for x in unique_protocol]\n",
    "# service\n",
    "unique_service = sorted(origin_train_dataFrame.service.unique())\n",
    "string2 = 'service_'\n",
    "unique_service2 = [string2 + x for x in unique_service]\n",
    "# flag\n",
    "unique_flag = sorted(origin_train_dataFrame.flag.unique())\n",
    "string3 = 'flag_'\n",
    "unique_flag2 = [string3 + x for x in unique_flag]\n",
    "# Put together\n",
    "dumcols = unique_protocol2 + unique_service2 + unique_flag2\n",
    "print(dumcols)"
   ]
  },
  {
   "cell_type": "code",
   "execution_count": 20,
   "metadata": {},
   "outputs": [],
   "source": [
    "# Tương tự với TEST DATASET nhưng ở service chỉ có 64 giá trị khác nhau\n",
    "unique_service_test = sorted(origin_test_dataFrame.service.unique())\n",
    "unique_service2_test = [string2 + x for x in unique_service_test]\n",
    "testdumcols = unique_protocol2 + unique_service2_test + unique_flag2"
   ]
  },
  {
   "cell_type": "markdown",
   "metadata": {},
   "source": [
    "Chuyển categorical feature sang numerical sử dụng LabelEncoder()"
   ]
  },
  {
   "cell_type": "code",
   "execution_count": 21,
   "metadata": {},
   "outputs": [
    {
     "name": "stdout",
     "output_type": "stream",
     "text": [
      "   protocol_type  service  flag\n",
      "0              1       20     9\n",
      "1              2       44     9\n",
      "2              1       49     5\n",
      "3              1       24     9\n",
      "4              1       24     9\n"
     ]
    }
   ],
   "source": [
    "dataset_train_categorical_values_enc = train_dataset_categorical_values.apply(\n",
    "    LabelEncoder().fit_transform)\n",
    "# test set\n",
    "dataset_test_categorical_values_enc = test_dataset_categorical_values.apply(\n",
    "    LabelEncoder().fit_transform)\n",
    "print(dataset_train_categorical_values_enc.head())"
   ]
  },
  {
   "cell_type": "markdown",
   "metadata": {},
   "source": [
    "ONE-HOT ENCODING"
   ]
  },
  {
   "cell_type": "code",
   "execution_count": 22,
   "metadata": {},
   "outputs": [
    {
     "name": "stdout",
     "output_type": "stream",
     "text": [
      "        Protocol_type_icmp  Protocol_type_tcp  Protocol_type_udp  service_IRC  \\\n",
      "0                      0.0                1.0                0.0          0.0   \n",
      "1                      0.0                0.0                1.0          0.0   \n",
      "2                      0.0                1.0                0.0          0.0   \n",
      "3                      0.0                1.0                0.0          0.0   \n",
      "4                      0.0                1.0                0.0          0.0   \n",
      "...                    ...                ...                ...          ...   \n",
      "125968                 0.0                1.0                0.0          0.0   \n",
      "125969                 0.0                0.0                1.0          0.0   \n",
      "125970                 0.0                1.0                0.0          0.0   \n",
      "125971                 0.0                1.0                0.0          0.0   \n",
      "125972                 0.0                1.0                0.0          0.0   \n",
      "\n",
      "        service_X11  service_Z39_50  service_aol  service_auth  service_bgp  \\\n",
      "0               0.0             0.0          0.0           0.0          0.0   \n",
      "1               0.0             0.0          0.0           0.0          0.0   \n",
      "2               0.0             0.0          0.0           0.0          0.0   \n",
      "3               0.0             0.0          0.0           0.0          0.0   \n",
      "4               0.0             0.0          0.0           0.0          0.0   \n",
      "...             ...             ...          ...           ...          ...   \n",
      "125968          0.0             0.0          0.0           0.0          0.0   \n",
      "125969          0.0             0.0          0.0           0.0          0.0   \n",
      "125970          0.0             0.0          0.0           0.0          0.0   \n",
      "125971          0.0             0.0          0.0           0.0          0.0   \n",
      "125972          0.0             0.0          0.0           0.0          0.0   \n",
      "\n",
      "        service_courier  ...  flag_REJ  flag_RSTO  flag_RSTOS0  flag_RSTR  \\\n",
      "0                   0.0  ...       0.0        0.0          0.0        0.0   \n",
      "1                   0.0  ...       0.0        0.0          0.0        0.0   \n",
      "2                   0.0  ...       0.0        0.0          0.0        0.0   \n",
      "3                   0.0  ...       0.0        0.0          0.0        0.0   \n",
      "4                   0.0  ...       0.0        0.0          0.0        0.0   \n",
      "...                 ...  ...       ...        ...          ...        ...   \n",
      "125968              0.0  ...       0.0        0.0          0.0        0.0   \n",
      "125969              0.0  ...       0.0        0.0          0.0        0.0   \n",
      "125970              0.0  ...       0.0        0.0          0.0        0.0   \n",
      "125971              0.0  ...       0.0        0.0          0.0        0.0   \n",
      "125972              0.0  ...       0.0        0.0          0.0        0.0   \n",
      "\n",
      "        flag_S0  flag_S1  flag_S2  flag_S3  flag_SF  flag_SH  \n",
      "0           0.0      0.0      0.0      0.0      1.0      0.0  \n",
      "1           0.0      0.0      0.0      0.0      1.0      0.0  \n",
      "2           1.0      0.0      0.0      0.0      0.0      0.0  \n",
      "3           0.0      0.0      0.0      0.0      1.0      0.0  \n",
      "4           0.0      0.0      0.0      0.0      1.0      0.0  \n",
      "...         ...      ...      ...      ...      ...      ...  \n",
      "125968      1.0      0.0      0.0      0.0      0.0      0.0  \n",
      "125969      0.0      0.0      0.0      0.0      1.0      0.0  \n",
      "125970      0.0      0.0      0.0      0.0      1.0      0.0  \n",
      "125971      1.0      0.0      0.0      0.0      0.0      0.0  \n",
      "125972      0.0      0.0      0.0      0.0      1.0      0.0  \n",
      "\n",
      "[125973 rows x 84 columns]\n"
     ]
    }
   ],
   "source": [
    "enc = OneHotEncoder()\n",
    "# TRAIN DATASET\n",
    "dataset_train_categorical_values_encenc = enc.fit_transform(\n",
    "    dataset_train_categorical_values_enc)\n",
    "dataset_train_cat_data = pd.DataFrame(\n",
    "    dataset_train_categorical_values_encenc.toarray(), columns=dumcols)\n",
    "# TEST DATASET\n",
    "dataset_test_categorical_values_encenc = enc.fit_transform(\n",
    "    dataset_test_categorical_values_enc)\n",
    "dataset_test_cat_data = pd.DataFrame(\n",
    "    dataset_test_categorical_values_encenc.toarray(), columns=testdumcols)\n",
    "\n",
    "print(dataset_train_cat_data)"
   ]
  },
  {
   "cell_type": "markdown",
   "metadata": {},
   "source": [
    "Thêm 6 giá trị category trong attribute service từ TRAIN DATASET vào TEST DATASET"
   ]
  },
  {
   "cell_type": "code",
   "execution_count": 23,
   "metadata": {},
   "outputs": [
    {
     "name": "stdout",
     "output_type": "stream",
     "text": [
      "['service_harvest', 'service_red_i', 'service_urh_i', 'service_http_8001', 'service_aol', 'service_http_2784']\n"
     ]
    }
   ],
   "source": [
    "trainservice = origin_train_dataFrame['service'].tolist()\n",
    "testservice = origin_test_dataFrame['service'].tolist()\n",
    "difference = list(set(trainservice) - set(testservice))\n",
    "string = 'service_'\n",
    "difference = [string + x for x in difference]\n",
    "print(difference)\n",
    "for col in difference:\n",
    "    dataset_test_cat_data[col] = 0"
   ]
  },
  {
   "cell_type": "markdown",
   "metadata": {},
   "source": [
    "Join encoded categorical dataframe với các dataframe khác"
   ]
  },
  {
   "cell_type": "code",
   "execution_count": 24,
   "metadata": {},
   "outputs": [
    {
     "name": "stdout",
     "output_type": "stream",
     "text": [
      "(125973, 43)\n",
      "(22544, 43)\n",
      "(125973, 124)\n",
      "(22544, 124)\n"
     ]
    }
   ],
   "source": [
    "newdf = origin_train_dataFrame.join(dataset_train_cat_data)\n",
    "newdf.drop('flag', axis=1, inplace=True)\n",
    "newdf.drop('protocol_type', axis=1, inplace=True)\n",
    "newdf.drop('service', axis=1, inplace=True)\n",
    "# test data\n",
    "newdf_test = origin_test_dataFrame.join(dataset_test_cat_data)\n",
    "newdf_test.drop('flag', axis=1, inplace=True)\n",
    "newdf_test.drop('protocol_type', axis=1, inplace=True)\n",
    "newdf_test.drop('service', axis=1, inplace=True)\n",
    "# Shape sẽ thay đổi, tăng column\n",
    "print(origin_train_dataFrame.shape)\n",
    "print(origin_test_dataFrame.shape)\n",
    "print(newdf.shape)\n",
    "print(newdf_test.shape)"
   ]
  },
  {
   "cell_type": "markdown",
   "metadata": {},
   "source": [
    "Đặt lại giá trị cho label 0=normal, 1=DoS, 2=Probe, 3=R2L and 4=U2R"
   ]
  },
  {
   "cell_type": "code",
   "execution_count": 25,
   "metadata": {},
   "outputs": [
    {
     "name": "stdout",
     "output_type": "stream",
     "text": [
      "0    67343\n",
      "1    45927\n",
      "2    11656\n",
      "3      995\n",
      "4       52\n",
      "Name: labels5, dtype: int64\n"
     ]
    }
   ],
   "source": [
    "# Lấy label column\n",
    "labels5df = newdf['labels5']\n",
    "labels5df_test = newdf_test['labels5']\n",
    "\n",
    "labels2df = newdf['labels2']\n",
    "labels2df_test = newdf_test['labels2']\n",
    "# Đổi label column\n",
    "newlabels5df = labels5df.replace(\n",
    "    {'normal': 0, 'DoS': 1, 'Probe': 2, 'R2L': 3, 'U2R': 4})\n",
    "newlabels5df_test = labels5df_test.replace(\n",
    "    {'normal': 0, 'DoS': 1, 'Probe': 2, 'R2L': 3, 'U2R': 4})\n",
    "\n",
    "newlabels2df = labels2df.replace({'normal': 0, 'attack': 1})\n",
    "newlabels2df_test = labels2df_test.replace({'normal': 0, 'attack': 1})\n",
    "# Đưa label mới vào\n",
    "newdf['labels5'] = newlabels5df\n",
    "newdf_test['labels5'] = newlabels5df_test\n",
    "\n",
    "newdf['labels2'] = newlabels2df\n",
    "newdf_test['labels2'] = newlabels2df_test\n",
    "\n",
    "print(newdf['labels5'].value_counts())"
   ]
  },
  {
   "cell_type": "code",
   "execution_count": 26,
   "metadata": {},
   "outputs": [
    {
     "name": "stdout",
     "output_type": "stream",
     "text": [
      "0    67343\n",
      "1    58630\n",
      "Name: labels2, dtype: int64\n"
     ]
    }
   ],
   "source": [
    "print(newdf[\"labels2\"].value_counts())"
   ]
  },
  {
   "cell_type": "markdown",
   "metadata": {},
   "source": [
    "Tạo dataframe cho từng kiểu tấn công"
   ]
  },
  {
   "cell_type": "code",
   "execution_count": 27,
   "metadata": {},
   "outputs": [],
   "source": [
    "# 0 = normal, 1 = DoS, 2 = Probe, 3 = R2L, 4 = U2R\n",
    "to_drop_DoS = [2, 3, 4]\n",
    "to_drop_Probe = [1, 3, 4]\n",
    "to_drop_R2L = [1, 2, 4]\n",
    "to_drop_U2R = [1, 2, 3]\n",
    "# Tạo dataframe cho từng loại tấn công dựa vào newdf với feature \"label\" không chứa các nhãn trong top_drop_typeOfAttack\n",
    "DoS_df = newdf[~newdf['labels5'].isin(to_drop_DoS)]\n",
    "Probe_df = newdf[~newdf['labels5'].isin(to_drop_Probe)]\n",
    "R2L_df = newdf[~newdf['labels5'].isin(to_drop_R2L)]\n",
    "U2R_df = newdf[~newdf['labels5'].isin(to_drop_U2R)]\n",
    "\n",
    "# test\n",
    "DoS_df_test = newdf_test[~newdf_test['labels5'].isin(to_drop_DoS)]\n",
    "Probe_df_test = newdf_test[~newdf_test['labels5'].isin(to_drop_Probe)]\n",
    "R2L_df_test = newdf_test[~newdf_test['labels5'].isin(to_drop_R2L)]\n",
    "U2R_df_test = newdf_test[~newdf_test['labels5'].isin(to_drop_U2R)]"
   ]
  },
  {
   "cell_type": "code",
   "execution_count": 28,
   "metadata": {},
   "outputs": [
    {
     "name": "stdout",
     "output_type": "stream",
     "text": [
      "Train:\n",
      "Dimensions of train: (125973, 124)\n",
      "Dimensions of DoS: (113270, 124)\n",
      "Dimensions of Probe: (78999, 124)\n",
      "Dimensions of R2L: (68338, 124)\n",
      "Dimensions of U2R: (67395, 124)\n",
      "Test:\n",
      "Dimensions of test: (22544, 124)\n",
      "Dimensions of DoS: (17171, 124)\n",
      "Dimensions of Probe: (12132, 124)\n",
      "Dimensions of R2L: (12596, 124)\n",
      "Dimensions of U2R: (9778, 124)\n"
     ]
    }
   ],
   "source": [
    "print('Train:')\n",
    "print(\"Dimensions of train:\", newdf.shape)\n",
    "print('Dimensions of DoS:', DoS_df.shape)\n",
    "print('Dimensions of Probe:', Probe_df.shape)\n",
    "print('Dimensions of R2L:', R2L_df.shape)\n",
    "print('Dimensions of U2R:', U2R_df.shape)\n",
    "print('Test:')\n",
    "print(\"Dimensions of test:\", newdf_test.shape)\n",
    "print('Dimensions of DoS:', DoS_df_test.shape)\n",
    "print('Dimensions of Probe:', Probe_df_test.shape)\n",
    "print('Dimensions of R2L:', R2L_df_test.shape)\n",
    "print('Dimensions of U2R:', U2R_df_test.shape)\n"
   ]
  },
  {
   "cell_type": "markdown",
   "metadata": {},
   "source": [
    "FEATURE SCALING"
   ]
  },
  {
   "cell_type": "code",
   "execution_count": 29,
   "metadata": {},
   "outputs": [],
   "source": [
    "# Chia dataframe thành X & Y\n",
    "# N19DCAT033 - Tran Viet Hoang\n",
    "# Tạo multi_train_data để tránh làm biến đổi train dataset gốc khi scale dữ liệu\n",
    "multi_train_data = origin_train_dataFrame.copy()\n",
    "multi_test_data = origin_test_dataFrame.copy()\n",
    "# Chia X là dataframe gồm các feature, Y là các nhãn tấn công (lớp tấn công)\n",
    "X_train = newdf.drop(['labels2','labels5'], axis=1)\n",
    "Y_train = newdf.labels5\n",
    "\n",
    "X_DoS = DoS_df.drop(['labels2','labels5'], axis=1)\n",
    "Y_DoS = DoS_df.labels5\n",
    "X_Probe = Probe_df.drop(['labels2','labels5'], axis=1)\n",
    "Y_Probe = Probe_df.labels5\n",
    "X_R2L = R2L_df.drop(['labels2','labels5'], axis=1)\n",
    "Y_R2L = R2L_df.labels5\n",
    "X_U2R = U2R_df.drop(['labels2','labels5'], axis=1)\n",
    "Y_U2R = U2R_df.labels5\n",
    "# test set\n",
    "X_test = newdf_test.drop(['labels2','labels5'], axis=1)\n",
    "Y_test = newdf_test.labels5\n",
    "\n",
    "X_DoS_test = DoS_df_test.drop(['labels2','labels5'], axis=1)\n",
    "Y_DoS_test = DoS_df_test.labels5\n",
    "X_Probe_test = Probe_df_test.drop(['labels2','labels5'], axis=1)\n",
    "Y_Probe_test = Probe_df_test.labels5\n",
    "X_R2L_test = R2L_df_test.drop(['labels2','labels5'], axis=1)\n",
    "Y_R2L_test = R2L_df_test.labels5\n",
    "X_U2R_test = U2R_df_test.drop(['labels2','labels5'], axis=1)\n",
    "Y_U2R_test = U2R_df_test.labels5\n",
    "\n",
    "colNames = list(X_DoS)\n",
    "colNames_test = list(X_DoS_test)"
   ]
  },
  {
   "cell_type": "markdown",
   "metadata": {},
   "source": [
    "Dùng StandardScaler() và MinMaxScaler() để scale dataframes"
   ]
  },
  {
   "cell_type": "code",
   "execution_count": 30,
   "metadata": {},
   "outputs": [],
   "source": [
    "# Scale dữ liệu sẽ chuyển dữ liệu tỷ lệ hoặc định dạng dữ liệu về cùng một phạm vi để tránh việc các dữ liệu quá lớn ảnh hưởng tới model\n",
    "# Scale dữ liệu cho từng feature numeric với train dataset\n",
    "# Scale bằng MinMaxScaler để tránh giá trị âm\n",
    "# Ở đây chỉ cần scale các numeric features, các thuộc tính số bởi chỉ các thuộc tính số mới có range lớn\n",
    "def scaleStandardData(dataFrame, numeric_cols):\n",
    "  scaler = preprocessing.StandardScaler()\n",
    "  for col in numeric_cols:\n",
    "    arr = dataFrame[col]\n",
    "    arr = np.array(arr)\n",
    "    dataFrame[col] = scaler.fit_transform(arr.reshape(len(arr),1))\n",
    "  return dataFrame\n",
    "\n",
    "def scaleMinMaxData(dataFrame, numeric_cols):\n",
    "  scaler = preprocessing.MinMaxScaler()\n",
    "  for col in numeric_cols:\n",
    "    arr = dataFrame[col]\n",
    "    arr = np.array(arr)\n",
    "    dataFrame[col] = scaler.fit_transform(arr.reshape(len(arr),1))\n",
    "  return dataFrame\n",
    "\n",
    "def scaleData(dataFrame, numeric_cols):\n",
    "  dataFrame = scaleStandardData(dataFrame, numeric_cols)\n",
    "  # dataFrame = scaleMinMaxData(dataFrame, numeric_cols)\n",
    "  return dataFrame"
   ]
  },
  {
   "cell_type": "code",
   "execution_count": 31,
   "metadata": {},
   "outputs": [
    {
     "name": "stdout",
     "output_type": "stream",
     "text": [
      "   duration  src_bytes  dst_bytes  land  wrong_fragment  urgent  hot  \\\n",
      "0         0        491          0     0               0       0    0   \n",
      "1         0        146          0     0               0       0    0   \n",
      "2         0          0          0     0               0       0    0   \n",
      "3         0        232       8153     0               0       0    0   \n",
      "4         0        199        420     0               0       0    0   \n",
      "\n",
      "   num_failed_logins  logged_in  num_compromised  ...  flag_REJ  flag_RSTO  \\\n",
      "0                  0          0                0  ...       0.0        0.0   \n",
      "1                  0          0                0  ...       0.0        0.0   \n",
      "2                  0          0                0  ...       0.0        0.0   \n",
      "3                  0          1                0  ...       0.0        0.0   \n",
      "4                  0          1                0  ...       0.0        0.0   \n",
      "\n",
      "   flag_RSTOS0  flag_RSTR  flag_S0  flag_S1  flag_S2  flag_S3  flag_SF  \\\n",
      "0          0.0        0.0      0.0      0.0      0.0      0.0      1.0   \n",
      "1          0.0        0.0      0.0      0.0      0.0      0.0      1.0   \n",
      "2          0.0        0.0      1.0      0.0      0.0      0.0      0.0   \n",
      "3          0.0        0.0      0.0      0.0      0.0      0.0      1.0   \n",
      "4          0.0        0.0      0.0      0.0      0.0      0.0      1.0   \n",
      "\n",
      "   flag_SH  \n",
      "0      0.0  \n",
      "1      0.0  \n",
      "2      0.0  \n",
      "3      0.0  \n",
      "4      0.0  \n",
      "\n",
      "[5 rows x 122 columns]\n"
     ]
    }
   ],
   "source": [
    "print(X_train.head())"
   ]
  },
  {
   "cell_type": "code",
   "execution_count": 32,
   "metadata": {},
   "outputs": [],
   "source": [
    "# Scale cho dữ liệu chung\n",
    "X_train = scaleData(X_train, numeric_features)\n",
    "X_test = scaleData(X_test, numeric_features)"
   ]
  },
  {
   "cell_type": "code",
   "execution_count": 33,
   "metadata": {},
   "outputs": [],
   "source": [
    "# Scale dữ liệu cho từng loại tấn công\n",
    "X_DoS = scaleData(X_DoS, numeric_features)\n",
    "X_Probe = scaleData(X_Probe, numeric_features)\n",
    "X_R2L = scaleData(X_R2L, numeric_features)\n",
    "X_U2R = scaleData(X_U2R, numeric_features)\n",
    "# scaler1 = preprocessing.StandardScaler().fit(X_DoS)\n",
    "# X_DoS=scaler1.transform(X_DoS) \n",
    "# scaler2 = preprocessing.StandardScaler().fit(X_Probe)\n",
    "# X_Probe=scaler2.transform(X_Probe) \n",
    "# scaler3 = preprocessing.StandardScaler().fit(X_R2L)\n",
    "# X_R2L=scaler3.transform(X_R2L) \n",
    "# scaler4 = preprocessing.StandardScaler().fit(X_U2R)\n",
    "# X_U2R=scaler4.transform(X_U2R) \n",
    "\n",
    "# test data\n",
    "X_DoS_test = scaleData(X_DoS_test, numeric_features)\n",
    "X_Probe_test = scaleData(X_Probe_test, numeric_features)\n",
    "X_R2L_test = scaleData(X_R2L_test, numeric_features)\n",
    "X_U2R_test = scaleData(X_U2R_test, numeric_features)\n",
    "# scaler5 = preprocessing.StandardScaler().fit(X_DoS_test)\n",
    "# X_DoS_test=scaler5.transform(X_DoS_test) \n",
    "# scaler6 = preprocessing.StandardScaler().fit(X_Probe_test)\n",
    "# X_Probe_test=scaler6.transform(X_Probe_test) \n",
    "# scaler7 = preprocessing.StandardScaler().fit(X_R2L_test)\n",
    "# X_R2L_test=scaler7.transform(X_R2L_test) \n",
    "# scaler8 = preprocessing.StandardScaler().fit(X_U2R_test)\n",
    "# X_U2R_test=scaler8.transform(X_U2R_test)"
   ]
  },
  {
   "cell_type": "code",
   "execution_count": 34,
   "metadata": {},
   "outputs": [
    {
     "name": "stdout",
     "output_type": "stream",
     "text": [
      "   duration  src_bytes  dst_bytes  land  wrong_fragment    urgent       hot  \\\n",
      "0 -0.110249  -0.007679  -0.004919     0       -0.089486 -0.007736 -0.095076   \n",
      "1 -0.110249  -0.007737  -0.004919     0       -0.089486 -0.007736 -0.095076   \n",
      "2 -0.110249  -0.007762  -0.004919     0       -0.089486 -0.007736 -0.095076   \n",
      "3 -0.110249  -0.007723  -0.002891     0       -0.089486 -0.007736 -0.095076   \n",
      "4 -0.110249  -0.007728  -0.004814     0       -0.089486 -0.007736 -0.095076   \n",
      "\n",
      "   num_failed_logins  logged_in  num_compromised  ...  flag_REJ  flag_RSTO  \\\n",
      "0          -0.027023          0        -0.011664  ...       0.0        0.0   \n",
      "1          -0.027023          0        -0.011664  ...       0.0        0.0   \n",
      "2          -0.027023          0        -0.011664  ...       0.0        0.0   \n",
      "3          -0.027023          1        -0.011664  ...       0.0        0.0   \n",
      "4          -0.027023          1        -0.011664  ...       0.0        0.0   \n",
      "\n",
      "   flag_RSTOS0  flag_RSTR  flag_S0  flag_S1  flag_S2  flag_S3  flag_SF  \\\n",
      "0          0.0        0.0      0.0      0.0      0.0      0.0      1.0   \n",
      "1          0.0        0.0      0.0      0.0      0.0      0.0      1.0   \n",
      "2          0.0        0.0      1.0      0.0      0.0      0.0      0.0   \n",
      "3          0.0        0.0      0.0      0.0      0.0      0.0      1.0   \n",
      "4          0.0        0.0      0.0      0.0      0.0      0.0      1.0   \n",
      "\n",
      "   flag_SH  \n",
      "0      0.0  \n",
      "1      0.0  \n",
      "2      0.0  \n",
      "3      0.0  \n",
      "4      0.0  \n",
      "\n",
      "[5 rows x 122 columns]\n"
     ]
    }
   ],
   "source": [
    "# print(X_DoS.std(axis=0))\n",
    "print(X_train.head())"
   ]
  },
  {
   "cell_type": "markdown",
   "metadata": {},
   "source": [
    "# END: DATA PROCESSING"
   ]
  },
  {
   "cell_type": "markdown",
   "metadata": {},
   "source": [
    "# START: FEATURE SELECTION"
   ]
  },
  {
   "cell_type": "markdown",
   "metadata": {},
   "source": [
    "Sử dụng Recursive feature elimination làm phương pháp trích chọn đặc trưng"
   ]
  },
  {
   "cell_type": "code",
   "execution_count": 35,
   "metadata": {},
   "outputs": [],
   "source": [
    "from sklearn.feature_selection import RFE\n",
    "from sklearn.tree import DecisionTreeClassifier\n",
    "\n",
    "# Áp dụng RFE để loại bỏ các feature có tác động yếu tới dữ liệu\n",
    "# RFE áp dụng thuật toán cây quyết định để tìm ra các feature có tác động yếu\n",
    "# Trong bài báo cáo chọn ra 40 feature có độ tác động lớn nhất\n",
    "clf = DecisionTreeClassifier(random_state=0)\n",
    "rfe = RFE(estimator=clf, n_features_to_select=40, step=1)"
   ]
  },
  {
   "cell_type": "code",
   "execution_count": 36,
   "metadata": {},
   "outputs": [],
   "source": [
    "# Đối với toàn bộ train dataset\n",
    "rfe.fit(X_train, Y_train.astype(int))\n",
    "X_rfeTrain=rfe.transform(X_train)\n",
    "true=rfe.support_\n",
    "rfecolindex_train=[i for i, x in enumerate(true) if x]\n",
    "rfecolname_train=list(colNames[i] for i in rfecolindex_train)"
   ]
  },
  {
   "cell_type": "code",
   "execution_count": 37,
   "metadata": {},
   "outputs": [],
   "source": [
    "# # Đối với DOS dataset\n",
    "# rfe.fit(X_DoS, Y_DoS.astype(int))\n",
    "# X_rfeDoS=rfe.transform(X_DoS)\n",
    "# true=rfe.support_\n",
    "# rfecolindex_DoS=[i for i, x in enumerate(true) if x]\n",
    "# rfecolname_DoS=list(colNames[i] for i in rfecolindex_DoS)"
   ]
  },
  {
   "cell_type": "code",
   "execution_count": 38,
   "metadata": {},
   "outputs": [],
   "source": [
    "# # Đối với Probe dataset\n",
    "# rfe.fit(X_Probe, Y_Probe.astype(int))\n",
    "# X_rfeProbe=rfe.transform(X_Probe)\n",
    "# true=rfe.support_\n",
    "# rfecolindex_Probe=[i for i, x in enumerate(true) if x]\n",
    "# rfecolname_Probe=list(colNames[i] for i in rfecolindex_Probe)"
   ]
  },
  {
   "cell_type": "code",
   "execution_count": 39,
   "metadata": {},
   "outputs": [],
   "source": [
    "# # Đối với R2L dataset\n",
    "# rfe.fit(X_R2L, Y_R2L.astype(int))\n",
    "# X_rfeR2L=rfe.transform(X_R2L)\n",
    "# true=rfe.support_\n",
    "# rfecolindex_R2L=[i for i, x in enumerate(true) if x]\n",
    "# rfecolname_R2L=list(colNames[i] for i in rfecolindex_R2L)"
   ]
  },
  {
   "cell_type": "code",
   "execution_count": 40,
   "metadata": {},
   "outputs": [],
   "source": [
    "# # Đối với U2R dataset\n",
    "# rfe.fit(X_U2R, Y_U2R.astype(int))\n",
    "# X_rfeU2R=rfe.transform(X_U2R)\n",
    "# true=rfe.support_\n",
    "# rfecolindex_U2R=[i for i, x in enumerate(true) if x]\n",
    "# rfecolname_U2R=list(colNames[i] for i in rfecolindex_U2R)"
   ]
  },
  {
   "cell_type": "code",
   "execution_count": 41,
   "metadata": {},
   "outputs": [
    {
     "name": "stdout",
     "output_type": "stream",
     "text": [
      "Features selected for Train: ['duration', 'src_bytes', 'dst_bytes', 'land', 'wrong_fragment', 'hot', 'num_failed_logins', 'logged_in', 'num_compromised', 'root_shell', 'num_file_creations', 'num_shells', 'count', 'srv_count', 'serror_rate', 'rerror_rate', 'diff_srv_rate', 'dst_host_count', 'dst_host_srv_count', 'dst_host_same_srv_rate', 'dst_host_diff_srv_rate', 'dst_host_same_src_port_rate', 'dst_host_srv_diff_host_rate', 'dst_host_serror_rate', 'dst_host_srv_serror_rate', 'dst_host_rerror_rate', 'Protocol_type_icmp', 'service_X11', 'service_auth', 'service_domain_u', 'service_ecr_i', 'service_finger', 'service_ftp_data', 'service_http', 'service_other', 'service_private', 'service_tim_i', 'service_urp_i', 'flag_RSTR', 'flag_SF']\n"
     ]
    }
   ],
   "source": [
    "print('Features selected for Train:',rfecolname_train)\n",
    "# print()\n",
    "# print('Features selected for DoS:',rfecolname_DoS)\n",
    "# print()\n",
    "# print('Features selected for Probe:',rfecolname_Probe)\n",
    "# print()\n",
    "# print('Features selected for R2L:',rfecolname_R2L)\n",
    "# print()\n",
    "# print('Features selected for U2R:',rfecolname_U2R)"
   ]
  },
  {
   "cell_type": "markdown",
   "metadata": {},
   "source": [
    "Từ bây giờ sẽ sử dụng dữ liệu đã được áp dụng RFE: X_rfeTrain, X_rfeDoS, X_rfeProbe, X_rfeR2L, X_rfeU2R"
   ]
  },
  {
   "cell_type": "code",
   "execution_count": 42,
   "metadata": {},
   "outputs": [],
   "source": [
    "X_rfeTest = X_test[rfecolname_train].copy()\n",
    "# X_rfeDoS_test = X_DoS_test[rfecolname_DoS].copy()\n",
    "# X_rfeProbe_test = X_Probe_test[rfecolname_Probe].copy()\n",
    "# X_rfeR2L_test = X_R2L_test[rfecolname_R2L].copy()\n",
    "# X_rfeU2R_test = X_U2R_test[rfecolname_U2R].copy()"
   ]
  },
  {
   "cell_type": "markdown",
   "metadata": {},
   "source": [
    "# END: FEATURE SELECTION"
   ]
  },
  {
   "cell_type": "markdown",
   "metadata": {},
   "source": [
    "# START: CNN MODEL"
   ]
  },
  {
   "cell_type": "markdown",
   "metadata": {},
   "source": [
    "Mô hình CNN không cần sử dụng feature extraction vì mạng neuron sẽ thực hiện extract (trích xuất) các feature tự động. Ta có thể áp dụng feature selection để làm tăng tốc độ train model."
   ]
  },
  {
   "cell_type": "code",
   "execution_count": 43,
   "metadata": {},
   "outputs": [
    {
     "name": "stdout",
     "output_type": "stream",
     "text": [
      "(125973, 40)\n",
      "(125973, 1)\n",
      "(22544, 1)\n"
     ]
    }
   ],
   "source": [
    "X_train_multi = X_rfeTrain.copy()\n",
    "Y_train_multi = pd.DataFrame(newdf.labels5, columns=[\"labels5\"])\n",
    "Y_test_multi = pd.DataFrame(newdf_test.labels5, columns=[\"labels5\"])\n",
    "\n",
    "print(X_train_multi.shape)\n",
    "print(Y_train_multi.shape)\n",
    "print(Y_test_multi.shape)"
   ]
  },
  {
   "cell_type": "markdown",
   "metadata": {},
   "source": [
    "# Mã hóa nhị phân cho các nhãn ở Y_train_multi"
   ]
  },
  {
   "cell_type": "code",
   "execution_count": 44,
   "metadata": {},
   "outputs": [
    {
     "name": "stdout",
     "output_type": "stream",
     "text": [
      "[[1 0 0 0 0]\n",
      " [1 0 0 0 0]\n",
      " [0 1 0 0 0]\n",
      " ...\n",
      " [1 0 0 0 0]\n",
      " [0 1 0 0 0]\n",
      " [1 0 0 0 0]]\n",
      "[[0 1 0 0 0]\n",
      " [0 1 0 0 0]\n",
      " [1 0 0 0 0]\n",
      " ...\n",
      " [0 1 0 0 0]\n",
      " [1 0 0 0 0]\n",
      " [0 0 1 0 0]]\n"
     ]
    }
   ],
   "source": [
    "from sklearn.preprocessing import LabelBinarizer\n",
    "Y_train_multi = LabelBinarizer().fit_transform(Y_train_multi)\n",
    "Y_test_multi = LabelBinarizer().fit_transform(Y_test_multi)\n",
    "print(Y_train_multi)\n",
    "print(Y_test_multi)"
   ]
  },
  {
   "cell_type": "code",
   "execution_count": 45,
   "metadata": {},
   "outputs": [],
   "source": [
    "# Tạo X và Y cho model\n",
    "X_cnn_train = X_train_multi\n",
    "X_cnn_test = X_rfeTest.copy().to_numpy()\n",
    "\n",
    "Y_cnn_train = Y_train_multi\n",
    "Y_cnn_test = Y_test_multi"
   ]
  },
  {
   "cell_type": "markdown",
   "metadata": {},
   "source": [
    "# Reshape dữ liệu"
   ]
  },
  {
   "cell_type": "markdown",
   "metadata": {},
   "source": [
    "Do CNN thường được ứng dụng trong phân tích ảnh nên thường sẽ có 3 chiều (3 dimensions: width, height, channel). Mà dữ liệu từ NSL-KDD chỉ có 2 chiều row (record - sample) và column (attribute - feature) nên cần thêm 1 chiều nữa để sử dụng"
   ]
  },
  {
   "cell_type": "code",
   "execution_count": 46,
   "metadata": {},
   "outputs": [
    {
     "name": "stdout",
     "output_type": "stream",
     "text": [
      "(125973, 40, 1)\n",
      "(22544, 40, 1)\n"
     ]
    }
   ],
   "source": [
    "X_cnn_train = np.reshape(X_cnn_train, (X_cnn_train.shape[0], X_cnn_train.shape[1], 1))\n",
    "X_cnn_test = np.reshape(X_cnn_test, (X_cnn_test.shape[0], X_cnn_test.shape[1], 1))\n",
    "\n",
    "print(X_cnn_train.shape)\n",
    "print(X_cnn_test.shape)"
   ]
  },
  {
   "cell_type": "markdown",
   "metadata": {},
   "source": [
    "# Build CNN model"
   ]
  },
  {
   "cell_type": "markdown",
   "metadata": {},
   "source": [
    "Tham khảo kiến trúc AlexNet: https://www.phamduytung.com/blog/2018-06-15-understanding-alexnet/"
   ]
  },
  {
   "cell_type": "code",
   "execution_count": 47,
   "metadata": {},
   "outputs": [],
   "source": [
    "# from keras.layers import Dense, Conv1D, MaxPool1D, Flatten, Dropout\n",
    "# from keras.models import Sequential\n",
    "# model = Sequential([\n",
    "#     # Input layer\n",
    "#     Conv1D(96, 11, padding=\"same\",input_shape = (X_cnn_train.shape[1], 1), activation='relu'),\n",
    "#     MaxPool1D(pool_size=(3)),\n",
    "#     Conv1D(256, 5, padding=\"same\", activation='relu'),\n",
    "#     MaxPool1D(pool_size=(3)),\n",
    "#     Conv1D(384, 3, padding=\"same\", activation='relu'),\n",
    "#     Conv1D(384, 3, padding=\"same\", activation='relu'),\n",
    "#     Conv1D(256, 3, padding=\"same\", activation='relu'),\n",
    "#     MaxPool1D(pool_size=(3)),\n",
    "#     Flatten(),\n",
    "#     # Output layer với softmax\n",
    "#     Dense(4096, activation='relu'),\n",
    "#     Dropout(0.5),\n",
    "#     Dense(4096, activation='relu'),\n",
    "#     Dropout(0.5),\n",
    "#     # Lớp Dense cuối cùng phải để output shape của X_train bằng shape của Y_train\n",
    "#     # Ở đây Y_train đã được mã hóa nhị phân có 5 cột => lớp Dense cuối cùng phải lấy 5\n",
    "#     Dense(5, activation='softmax')\n",
    "#     # Total params: 19,011,973\n",
    "#     # Trainable params: 19,011,973\n",
    "# ])"
   ]
  },
  {
   "cell_type": "code",
   "execution_count": 48,
   "metadata": {},
   "outputs": [],
   "source": [
    "from keras.layers import Dense, Conv1D, MaxPool1D, Flatten, Dropout\n",
    "from keras.models import Sequential\n",
    "model = Sequential([\n",
    "    # Input AlexNet với 8 layer \n",
    "    Conv1D(32, 8, padding=\"same\",input_shape = (X_cnn_train.shape[1], 1), activation='relu'),\n",
    "    MaxPool1D(pool_size=(3)),\n",
    "    Conv1D(32, 5, padding=\"same\", activation='relu'),\n",
    "    MaxPool1D(pool_size=(3)),\n",
    "    Conv1D(32, 3, padding=\"same\", activation='relu'),\n",
    "    Conv1D(32, 3, padding=\"same\", activation='relu'),\n",
    "    Conv1D(32, 3, padding=\"same\", activation='relu'),\n",
    "    MaxPool1D(pool_size=(3)),\n",
    "    Dropout(0.5),\n",
    "    Flatten(),\n",
    "    Dense(64, activation='relu'),\n",
    "    Dropout(0.5),\n",
    "    Dense(64, activation='relu'),\n",
    "    Dense(5, activation='softmax')\n",
    "])"
   ]
  },
  {
   "cell_type": "markdown",
   "metadata": {},
   "source": [
    "Compile model và tạo checkpoint"
   ]
  },
  {
   "cell_type": "code",
   "execution_count": 49,
   "metadata": {},
   "outputs": [],
   "source": [
    "from keras import callbacks\n",
    "from keras.callbacks import CSVLogger\n",
    "model.compile(loss='categorical_crossentropy', optimizer=\"adam\", metrics=['accuracy'])\n",
    "# checkpointer = callbacks.ModelCheckpoint(\"./ckpt/checkpoint-{epoch:03d}.hdf5\", verbose=1, save_best_only=True, monitor='val_accuracy',mode='max')\n",
    "# csv_logger = CSVLogger('training_set_iranalysis.csv',separator=',', append=False)"
   ]
  },
  {
   "cell_type": "code",
   "execution_count": 50,
   "metadata": {},
   "outputs": [
    {
     "name": "stdout",
     "output_type": "stream",
     "text": [
      "Model: \"sequential\"\n",
      "_________________________________________________________________\n",
      " Layer (type)                Output Shape              Param #   \n",
      "=================================================================\n",
      " conv1d (Conv1D)             (None, 40, 32)            288       \n",
      "                                                                 \n",
      " max_pooling1d (MaxPooling1D  (None, 13, 32)           0         \n",
      " )                                                               \n",
      "                                                                 \n",
      " conv1d_1 (Conv1D)           (None, 13, 32)            5152      \n",
      "                                                                 \n",
      " max_pooling1d_1 (MaxPooling  (None, 4, 32)            0         \n",
      " 1D)                                                             \n",
      "                                                                 \n",
      " conv1d_2 (Conv1D)           (None, 4, 32)             3104      \n",
      "                                                                 \n",
      " conv1d_3 (Conv1D)           (None, 4, 32)             3104      \n",
      "                                                                 \n",
      " conv1d_4 (Conv1D)           (None, 4, 32)             3104      \n",
      "                                                                 \n",
      " max_pooling1d_2 (MaxPooling  (None, 1, 32)            0         \n",
      " 1D)                                                             \n",
      "                                                                 \n",
      " dropout (Dropout)           (None, 1, 32)             0         \n",
      "                                                                 \n",
      " flatten (Flatten)           (None, 32)                0         \n",
      "                                                                 \n",
      " dense (Dense)               (None, 64)                2112      \n",
      "                                                                 \n",
      " dropout_1 (Dropout)         (None, 64)                0         \n",
      "                                                                 \n",
      " dense_1 (Dense)             (None, 64)                4160      \n",
      "                                                                 \n",
      " dense_2 (Dense)             (None, 5)                 325       \n",
      "                                                                 \n",
      "=================================================================\n",
      "Total params: 21,349\n",
      "Trainable params: 21,349\n",
      "Non-trainable params: 0\n",
      "_________________________________________________________________\n"
     ]
    }
   ],
   "source": [
    "model.summary()"
   ]
  },
  {
   "cell_type": "code",
   "execution_count": 51,
   "metadata": {},
   "outputs": [
    {
     "data": {
      "text/plain": [
       "(125973, 40, 1)"
      ]
     },
     "execution_count": 51,
     "metadata": {},
     "output_type": "execute_result"
    }
   ],
   "source": [
    "X_cnn_train.shape"
   ]
  },
  {
   "cell_type": "code",
   "execution_count": 52,
   "metadata": {},
   "outputs": [
    {
     "name": "stdout",
     "output_type": "stream",
     "text": [
      "Epoch 1/200\n",
      "21/21 [==============================] - 6s 243ms/step - loss: 1.3340 - accuracy: 0.4673 - val_loss: 0.9412 - val_accuracy: 0.8379\n",
      "Epoch 2/200\n",
      "21/21 [==============================] - 3s 123ms/step - loss: 0.7347 - accuracy: 0.7505 - val_loss: 0.3488 - val_accuracy: 0.8786\n",
      "Epoch 3/200\n",
      "21/21 [==============================] - 2s 80ms/step - loss: 0.3557 - accuracy: 0.8737 - val_loss: 0.2479 - val_accuracy: 0.9160\n",
      "Epoch 4/200\n",
      "21/21 [==============================] - 2s 73ms/step - loss: 0.2563 - accuracy: 0.9099 - val_loss: 0.1617 - val_accuracy: 0.9626\n",
      "Epoch 5/200\n",
      "21/21 [==============================] - 5s 228ms/step - loss: 0.1771 - accuracy: 0.9514 - val_loss: 0.0981 - val_accuracy: 0.9737\n",
      "Epoch 6/200\n",
      "21/21 [==============================] - 4s 214ms/step - loss: 0.1213 - accuracy: 0.9686 - val_loss: 0.0694 - val_accuracy: 0.9802\n",
      "Epoch 7/200\n",
      "21/21 [==============================] - 4s 209ms/step - loss: 0.0934 - accuracy: 0.9755 - val_loss: 0.0621 - val_accuracy: 0.9834\n",
      "Epoch 8/200\n",
      "21/21 [==============================] - 4s 213ms/step - loss: 0.0819 - accuracy: 0.9787 - val_loss: 0.1082 - val_accuracy: 0.9653\n",
      "Epoch 9/200\n",
      "21/21 [==============================] - 4s 212ms/step - loss: 0.0897 - accuracy: 0.9753 - val_loss: 0.0562 - val_accuracy: 0.9833\n",
      "Epoch 10/200\n",
      "21/21 [==============================] - 4s 210ms/step - loss: 0.0718 - accuracy: 0.9801 - val_loss: 0.0515 - val_accuracy: 0.9852\n",
      "Epoch 11/200\n",
      "21/21 [==============================] - 5s 217ms/step - loss: 0.0645 - accuracy: 0.9821 - val_loss: 0.0509 - val_accuracy: 0.9846\n",
      "Epoch 12/200\n",
      "21/21 [==============================] - 5s 215ms/step - loss: 0.0623 - accuracy: 0.9823 - val_loss: 0.0458 - val_accuracy: 0.9863\n",
      "Epoch 13/200\n",
      "21/21 [==============================] - 5s 224ms/step - loss: 0.0604 - accuracy: 0.9832 - val_loss: 0.0438 - val_accuracy: 0.9864\n",
      "Epoch 14/200\n",
      "21/21 [==============================] - 5s 231ms/step - loss: 0.0567 - accuracy: 0.9837 - val_loss: 0.0427 - val_accuracy: 0.9868\n",
      "Epoch 15/200\n",
      "21/21 [==============================] - 5s 221ms/step - loss: 0.0542 - accuracy: 0.9846 - val_loss: 0.0413 - val_accuracy: 0.9872\n",
      "Epoch 16/200\n",
      "21/21 [==============================] - 5s 219ms/step - loss: 0.0544 - accuracy: 0.9844 - val_loss: 0.0428 - val_accuracy: 0.9869\n",
      "Epoch 17/200\n",
      "21/21 [==============================] - 4s 214ms/step - loss: 0.0520 - accuracy: 0.9846 - val_loss: 0.0401 - val_accuracy: 0.9875\n",
      "Epoch 18/200\n",
      "21/21 [==============================] - 4s 211ms/step - loss: 0.0498 - accuracy: 0.9847 - val_loss: 0.0399 - val_accuracy: 0.9873\n",
      "Epoch 19/200\n",
      "21/21 [==============================] - 4s 213ms/step - loss: 0.0482 - accuracy: 0.9853 - val_loss: 0.0432 - val_accuracy: 0.9863\n",
      "Epoch 20/200\n",
      "21/21 [==============================] - 4s 214ms/step - loss: 0.0481 - accuracy: 0.9852 - val_loss: 0.0417 - val_accuracy: 0.9866\n",
      "Epoch 21/200\n",
      "21/21 [==============================] - 5s 216ms/step - loss: 0.0502 - accuracy: 0.9845 - val_loss: 0.0370 - val_accuracy: 0.9871\n",
      "Epoch 22/200\n",
      "21/21 [==============================] - 5s 215ms/step - loss: 0.0446 - accuracy: 0.9858 - val_loss: 0.0382 - val_accuracy: 0.9871\n",
      "Epoch 23/200\n",
      "21/21 [==============================] - 4s 210ms/step - loss: 0.0455 - accuracy: 0.9858 - val_loss: 0.0342 - val_accuracy: 0.9882\n",
      "Epoch 24/200\n",
      "21/21 [==============================] - 4s 211ms/step - loss: 0.0420 - accuracy: 0.9861 - val_loss: 0.0387 - val_accuracy: 0.9867\n",
      "Epoch 25/200\n",
      "21/21 [==============================] - 4s 198ms/step - loss: 0.0501 - accuracy: 0.9842 - val_loss: 0.0333 - val_accuracy: 0.9879\n",
      "Epoch 26/200\n",
      "21/21 [==============================] - 2s 79ms/step - loss: 0.0422 - accuracy: 0.9862 - val_loss: 0.0362 - val_accuracy: 0.9874\n",
      "Epoch 27/200\n",
      "21/21 [==============================] - 1s 68ms/step - loss: 0.0417 - accuracy: 0.9863 - val_loss: 0.0309 - val_accuracy: 0.9888\n",
      "Epoch 28/200\n",
      "21/21 [==============================] - 1s 68ms/step - loss: 0.0402 - accuracy: 0.9866 - val_loss: 0.0378 - val_accuracy: 0.9863\n",
      "Epoch 29/200\n",
      "21/21 [==============================] - 4s 195ms/step - loss: 0.0422 - accuracy: 0.9858 - val_loss: 0.0309 - val_accuracy: 0.9885\n",
      "Epoch 30/200\n",
      "21/21 [==============================] - 5s 216ms/step - loss: 0.0386 - accuracy: 0.9865 - val_loss: 0.0457 - val_accuracy: 0.9842\n",
      "Epoch 31/200\n",
      "21/21 [==============================] - 3s 132ms/step - loss: 0.0450 - accuracy: 0.9853 - val_loss: 0.0303 - val_accuracy: 0.9886\n",
      "Epoch 32/200\n",
      "21/21 [==============================] - 3s 141ms/step - loss: 0.0381 - accuracy: 0.9868 - val_loss: 0.0310 - val_accuracy: 0.9888\n",
      "Epoch 33/200\n",
      "21/21 [==============================] - 2s 78ms/step - loss: 0.0371 - accuracy: 0.9871 - val_loss: 0.0306 - val_accuracy: 0.9885\n",
      "Epoch 34/200\n",
      "21/21 [==============================] - 2s 93ms/step - loss: 0.0356 - accuracy: 0.9882 - val_loss: 0.0285 - val_accuracy: 0.9916\n",
      "Epoch 35/200\n",
      "21/21 [==============================] - 1s 70ms/step - loss: 0.0351 - accuracy: 0.9890 - val_loss: 0.0267 - val_accuracy: 0.9921\n",
      "Epoch 36/200\n",
      "21/21 [==============================] - 1s 68ms/step - loss: 0.0337 - accuracy: 0.9897 - val_loss: 0.0288 - val_accuracy: 0.9922\n",
      "Epoch 37/200\n",
      "21/21 [==============================] - 1s 71ms/step - loss: 0.0338 - accuracy: 0.9898 - val_loss: 0.0257 - val_accuracy: 0.9947\n",
      "Epoch 38/200\n",
      "21/21 [==============================] - 1s 69ms/step - loss: 0.0353 - accuracy: 0.9897 - val_loss: 0.0266 - val_accuracy: 0.9946\n",
      "Epoch 39/200\n",
      "21/21 [==============================] - 1s 69ms/step - loss: 0.0354 - accuracy: 0.9895 - val_loss: 0.0289 - val_accuracy: 0.9915\n",
      "Epoch 40/200\n",
      "21/21 [==============================] - 1s 72ms/step - loss: 0.0341 - accuracy: 0.9895 - val_loss: 0.0312 - val_accuracy: 0.9888\n",
      "Epoch 41/200\n",
      "21/21 [==============================] - 1s 68ms/step - loss: 0.0337 - accuracy: 0.9898 - val_loss: 0.0256 - val_accuracy: 0.9928\n",
      "Epoch 42/200\n",
      "21/21 [==============================] - 1s 68ms/step - loss: 0.0316 - accuracy: 0.9906 - val_loss: 0.0240 - val_accuracy: 0.9944\n",
      "Epoch 43/200\n",
      "21/21 [==============================] - 2s 102ms/step - loss: 0.0310 - accuracy: 0.9910 - val_loss: 0.0235 - val_accuracy: 0.9944\n",
      "Epoch 44/200\n",
      "21/21 [==============================] - 4s 180ms/step - loss: 0.0317 - accuracy: 0.9907 - val_loss: 0.0280 - val_accuracy: 0.9928\n",
      "Epoch 45/200\n",
      "21/21 [==============================] - 4s 208ms/step - loss: 0.0321 - accuracy: 0.9906 - val_loss: 0.0295 - val_accuracy: 0.9917\n",
      "Epoch 46/200\n",
      "21/21 [==============================] - 5s 216ms/step - loss: 0.0339 - accuracy: 0.9897 - val_loss: 0.0276 - val_accuracy: 0.9920\n",
      "Epoch 47/200\n",
      "21/21 [==============================] - 4s 210ms/step - loss: 0.0335 - accuracy: 0.9901 - val_loss: 0.0259 - val_accuracy: 0.9929\n",
      "Epoch 48/200\n",
      "21/21 [==============================] - 2s 92ms/step - loss: 0.0292 - accuracy: 0.9915 - val_loss: 0.0235 - val_accuracy: 0.9939\n"
     ]
    }
   ],
   "source": [
    "# Train model với epoch=50\n",
    "# history = model.fit(X_cnn_train, Y_cnn_train, epochs=50, batch_size=128,callbacks=[checkpointer,csv_logger],validation_split=0.2)\n",
    "# from keras.callbacks import EarlyStopping\n",
    "# early_stopping = EarlyStopping(monitor='val_loss', patience=2)\n",
    "# model.fit(x, y, validation_split=0.2, callbacks=[early_stopping])\n",
    "from keras.callbacks import EarlyStopping\n",
    "early_stopping = EarlyStopping(monitor='val_loss', patience=5)\n",
    "history = model.fit(X_cnn_train, Y_cnn_train, epochs=200, batch_size=5000, validation_split=0.2, callbacks=[early_stopping])"
   ]
  },
  {
   "cell_type": "markdown",
   "metadata": {},
   "source": [
    "Predicting trên test set"
   ]
  },
  {
   "cell_type": "code",
   "execution_count": 53,
   "metadata": {},
   "outputs": [
    {
     "data": {
      "text/plain": [
       "(22544, 40, 1)"
      ]
     },
     "execution_count": 53,
     "metadata": {},
     "output_type": "execute_result"
    }
   ],
   "source": [
    "X_cnn_test.shape"
   ]
  },
  {
   "cell_type": "code",
   "execution_count": 54,
   "metadata": {},
   "outputs": [
    {
     "name": "stdout",
     "output_type": "stream",
     "text": [
      "705/705 [==============================] - 3s 3ms/step - loss: 2.2524 - accuracy: 0.7353\n",
      "Test results - Loss: 2.2524399757385254 - Accuracy: 73.5317587852478%\n",
      "705/705 [==============================] - 2s 3ms/step - loss: 2.2524 - accuracy: 0.7353\n",
      "loss: 2.2524399757385254 accuracy:0.735317587852478\n"
     ]
    }
   ],
   "source": [
    "# Evaluate để tăng accuracy và giảm loss\n",
    "test_results = model.evaluate(X_cnn_test, Y_cnn_test, verbose=\"auto\")\n",
    "print(f'Test results - Loss: {test_results[0]} - Accuracy: {test_results[1]*100}%')\n",
    "\n",
    "loss, accuracy = model.evaluate(X_cnn_test, Y_cnn_test)   \n",
    "print('loss: ' + str(loss), 'accuracy:' + str(accuracy))"
   ]
  },
  {
   "cell_type": "code",
   "execution_count": 55,
   "metadata": {},
   "outputs": [],
   "source": [
    "# from keras import models\n",
    "# import os\n",
    "\n",
    "# checkpoint_dir = \"./ckpt\"\n",
    "# if not os.path.exists(checkpoint_dir):\n",
    "#     os.makedirs(checkpoint_dir)\n",
    "# checkpoints = [checkpoint_dir + \"/\" + name for name in os.listdir(checkpoint_dir)]\n",
    "# print(checkpoints)\n",
    "# latest_checkpoint = max(checkpoints, key=os.path.getctime)\n",
    "# model = models.load_model(latest_checkpoint)\n",
    "# loss, accuracy = model.evaluate(X_cnn_test, Y_cnn_test)   \n",
    "# print('loss: ' + str(loss), 'accuracy:' + str(accuracy))"
   ]
  },
  {
   "cell_type": "code",
   "execution_count": 56,
   "metadata": {},
   "outputs": [
    {
     "name": "stdout",
     "output_type": "stream",
     "text": [
      "705/705 [==============================] - 2s 3ms/step\n"
     ]
    }
   ],
   "source": [
    "Y_pred = model.predict(X_cnn_test)\n",
    "Y_pred=np.argmax(Y_pred, axis=1)\n",
    "Y_cnn_test=np.argmax(Y_cnn_test, axis=1)"
   ]
  },
  {
   "cell_type": "markdown",
   "metadata": {},
   "source": [
    "# END: CNN MODEL"
   ]
  },
  {
   "cell_type": "markdown",
   "metadata": {},
   "source": [
    "# START: CONFUSION MATRIX"
   ]
  },
  {
   "cell_type": "markdown",
   "metadata": {},
   "source": [
    "Sử dụng confusion matrix để đánh giá mô hình CNN"
   ]
  },
  {
   "cell_type": "code",
   "execution_count": 57,
   "metadata": {},
   "outputs": [
    {
     "data": {
      "text/plain": [
       "array([[9129,  409,  166,    7,    0],\n",
       "       [1443, 5969,   48,    0,    0],\n",
       "       [ 697,  490, 1234,    0,    0],\n",
       "       [2452,  109,   79,  245,    0],\n",
       "       [  58,    2,    0,    7,    0]], dtype=int64)"
      ]
     },
     "execution_count": 57,
     "metadata": {},
     "output_type": "execute_result"
    }
   ],
   "source": [
    "from sklearn.metrics import confusion_matrix\n",
    "# Y_cnn_test = true class, Y_pred = predict class\n",
    "cm = confusion_matrix(Y_cnn_test, Y_pred)\n",
    "cm"
   ]
  },
  {
   "cell_type": "code",
   "execution_count": 58,
   "metadata": {},
   "outputs": [],
   "source": [
    "import matplotlib.pyplot as plt\n",
    "import seaborn as sns\n",
    "cm_df = pd.DataFrame(cm,\n",
    "                     index = ['Normal', 'DoS', 'Probe', 'R2L', 'U2R'], \n",
    "                     columns = ['Normal', 'DoS', 'Probe', 'R2L', 'U2R'])"
   ]
  },
  {
   "cell_type": "code",
   "execution_count": 59,
   "metadata": {},
   "outputs": [
    {
     "name": "stderr",
     "output_type": "stream",
     "text": [
      "C:\\Users\\Long\\AppData\\Local\\Temp\\ipykernel_13740\\2983344996.py:23: RuntimeWarning: invalid value encountered in longlong_scalars\n",
      "  list_label[c]['PPV'] = tp/(tp+fp)\n"
     ]
    },
    {
     "name": "stdout",
     "output_type": "stream",
     "text": [
      "        TPR       ACC      PPV     NPV       FNR       FPR      FDR     FOR  \\\n",
      "0  0.940068  0.767921  0.66253  0.9336  0.059932  0.362347  0.33747  0.0664   \n",
      "\n",
      "   F1_score  \n",
      "0  0.777267  \n",
      "        TPR       ACC      PPV       NPV       FNR       FPR      FDR  \\\n",
      "0  0.800134  0.889061  0.85528  0.904208  0.199866  0.066958  0.14472   \n",
      "\n",
      "        FOR  F1_score  \n",
      "0  0.095792  0.826789  \n",
      "        TPR       ACC      PPV       NPV       FNR      FPR      FDR  \\\n",
      "0  0.509707  0.934351  0.80812  0.943522  0.490293  0.01456  0.19188   \n",
      "\n",
      "        FOR  F1_score  \n",
      "0  0.056478  0.625127  \n",
      "        TPR       ACC       PPV       NPV       FNR       FPR       FDR  \\\n",
      "0  0.084922  0.882275  0.945946  0.881535  0.915078  0.000712  0.054054   \n",
      "\n",
      "        FOR  F1_score  \n",
      "0  0.118465  0.155852  \n",
      "   TPR       ACC  PPV       NPV  FNR  FPR  FDR       FOR  F1_score\n",
      "0  0.0  0.997028  NaN  0.997028  1.0  0.0  NaN  0.002972       NaN\n"
     ]
    },
    {
     "data": {
      "image/png": "[encoded data removed]",
      "text/plain": [
       "<Figure size 1000x500 with 1 Axes>"
      ]
     },
     "metadata": {},
     "output_type": "display_data"
    },
    {
     "data": {
      "image/png": "[encoded data removed]",
      "text/plain": [
       "<Figure size 1000x500 with 1 Axes>"
      ]
     },
     "metadata": {},
     "output_type": "display_data"
    },
    {
     "data": {
      "image/png": "[encoded data removed]",
      "text/plain": [
       "<Figure size 1000x500 with 1 Axes>"
      ]
     },
     "metadata": {},
     "output_type": "display_data"
    },
    {
     "data": {
      "image/png": "[encoded data removed]",
      "text/plain": [
       "<Figure size 1000x500 with 1 Axes>"
      ]
     },
     "metadata": {},
     "output_type": "display_data"
    },
    {
     "data": {
      "image/png": "[encoded data removed]",
      "text/plain": [
       "<Figure size 640x480 with 1 Axes>"
      ]
     },
     "metadata": {},
     "output_type": "display_data"
    }
   ],
   "source": [
    "normal = {}\n",
    "DoS = {}\n",
    "Probe = {}\n",
    "R2L = {}\n",
    "U2R = {}\n",
    "\n",
    "list_label = [normal, DoS, Probe, R2L, U2R]\n",
    "sum_matrix = sum(sum(cm))\n",
    "for c in range(len(list_label)):\n",
    "    # True positive - số record mô hình dự đoán là attack giống như trong test dataset, dương tính đúng, dương tính thực\n",
    "    tp = cm[c,c]\n",
    "    # False positive - số record mô hình dự đoán là attack mà trong test dataset là normal, dương tính sai, dương tính giả\n",
    "    fp = sum(cm[:,c]) - cm[c,c]\n",
    "    # False negative - số record mô hình dự đoán là normal mà trong test dataset là attack, âm tính sai, âm tính giả\n",
    "    fn = sum(cm[c,:]) - cm[c,c]\n",
    "    # True negative - số record mô hình dự đoán là normal giống như trong test dataset, âm tính đúng, âm tính thật\n",
    "    tn = sum_matrix - tp - fp - fn\n",
    "    # Recall - True positive rate - độ nhạy - tỷ lệ dương tính thực\n",
    "    list_label[c]['TPR'] = tp/(tp+fn)\n",
    "    # Accuracy - độ chính xác\n",
    "    list_label[c]['ACC'] = (tp+tn)/(tp+fp+fn+tn)\n",
    "    # Precision - Positive Predictive Value - tỷ lệ dương tính đoán đúng\n",
    "    list_label[c]['PPV'] = tp/(tp+fp)\n",
    "    # Negative Predictive Value - tỷ lệ âm tính đoán đúng\n",
    "    list_label[c]['NPV'] = tn/(tn+fn)\n",
    "    # Miss Rate - False Negative Rate- tỷ lệ dương tính giả\n",
    "    list_label[c]['FNR'] = 1 - list_label[c]['TPR']\n",
    "    # Fall-out - False Positive Rate - Tỷ lệ âm tính giả \n",
    "    list_label[c]['FPR'] = fp/(fp+tn)\n",
    "    # False Discovery Rate - tỷ lệ đoán dương tính sai\n",
    "    list_label[c]['FDR'] = 1 - list_label[c]['PPV']\n",
    "    # False Omission Rate - tỷ lệ đoán âm tính sai\n",
    "    list_label[c]['FOR'] = 1 - list_label[c]['NPV']\n",
    "    # F1 score - điểm F1 - điểm trung bình hài hòa giữa Precision và Recall\n",
    "    list_label[c]['F1_score'] = (2*list_label[c]['PPV']*list_label[c]['TPR'])/(list_label[c]['PPV'] + list_label[c]['TPR'])\n",
    "list_tt = ['normal', 'DoS', 'Probe', 'R2L', 'U2R']\n",
    "for c in range(len(list_label)):\n",
    "\n",
    "  normal = [list_label[c]]\n",
    "  df = pd.DataFrame(normal)\n",
    "  print(df)\n",
    "  df.plot(kind='bar')\n",
    "  plt.rcParams['figure.figsize'] = [10, 5]\n",
    "  plt.rcParams['figure.dpi'] = 100\n",
    "  plt.title(label=list_tt[c], color=\"green\")\n",
    "  plt.xlabel('') \n",
    "  plt.xticks([])\n",
    "  plt.figure(1)\n",
    "  plt.plot()"
   ]
  },
  {
   "cell_type": "markdown",
   "metadata": {},
   "source": [
    "So với Hidden Markov Model (HMM) khi áp dụng Confusion Matrix, Covolutional Neural Network có độ chính xác (Accuracy) cao hơn"
   ]
  },
  {
   "cell_type": "code",
   "execution_count": 60,
   "metadata": {},
   "outputs": [
    {
     "name": "stdout",
     "output_type": "stream",
     "text": [
      "Average of Accuracy: 0.8941270404542229\n"
     ]
    }
   ],
   "source": [
    "avg_acc = 0\n",
    "for item in list_label:\n",
    "    avg_acc+=item[\"ACC\"]\n",
    "avg_acc/=5\n",
    "print(\"Average of Accuracy:\",avg_acc)"
   ]
  },
  {
   "cell_type": "markdown",
   "metadata": {},
   "source": [
    "# END: CONFUSION MATRIX"
   ]
  }
 ],
 "metadata": {
  "kernelspec": {
   "display_name": "Python 3 (ipykernel)",
   "language": "python",
   "name": "python3"
  },
  "language_info": {
   "codemirror_mode": {
    "name": "ipython",
    "version": 3
   },
   "file_extension": ".py",
   "mimetype": "text/x-python",
   "name": "python",
   "nbconvert_exporter": "python",
   "pygments_lexer": "ipython3",
   "version": "3.10.9"
  }
 },
 "nbformat": 4,
 "nbformat_minor": 2
}
