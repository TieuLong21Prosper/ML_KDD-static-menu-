{
 "cells": [
  {
   "cell_type": "markdown",
   "metadata": {},
   "source": [
    "Nguyen Ngoc Tieu Long"
   ]
  },
  {
   "cell_type": "code",
   "execution_count": 1,
   "metadata": {},
   "outputs": [],
   "source": [
    "import numpy as np\n",
    "import pandas as pd\n",
    "import matplotlib.pyplot as plt\n",
    "import seaborn as sns\n",
    "from sklearn.preprocessing import LabelEncoder, OneHotEncoder\n",
    "from sklearn import preprocessing\n",
    "import sklearn.metrics as metrics"
   ]
  },
  {
   "cell_type": "markdown",
   "metadata": {},
   "source": [
    "# START: DATA GATHERING"
   ]
  },
  {
   "cell_type": "code",
   "execution_count": 2,
   "metadata": {},
   "outputs": [],
   "source": [
    "# Các thuộc tính của dataset\n",
    "col_names = [\"duration\", \"protocol_type\", \"service\", \"flag\", \"src_bytes\",\n",
    "             \"dst_bytes\", \"land\", \"wrong_fragment\", \"urgent\", \"hot\", \"num_failed_logins\",\n",
    "             \"logged_in\", \"num_compromised\", \"root_shell\", \"su_attempted\", \"num_root\",\n",
    "             \"num_file_creations\", \"num_shells\", \"num_access_files\", \"num_outbound_cmds\",\n",
    "             \"is_host_login\", \"is_guest_login\", \"count\", \"srv_count\", \"serror_rate\",\n",
    "             \"srv_serror_rate\", \"rerror_rate\", \"srv_rerror_rate\", \"same_srv_rate\",\n",
    "             \"diff_srv_rate\", \"srv_diff_host_rate\", \"dst_host_count\", \"dst_host_srv_count\",\n",
    "             \"dst_host_same_srv_rate\", \"dst_host_diff_srv_rate\", \"dst_host_same_src_port_rate\",\n",
    "             \"dst_host_srv_diff_host_rate\", \"dst_host_serror_rate\", \"dst_host_srv_serror_rate\",\n",
    "             \"dst_host_rerror_rate\", \"dst_host_srv_rerror_rate\", \"label\"]"
   ]
  },
  {
   "cell_type": "code",
   "execution_count": 3,
   "metadata": {},
   "outputs": [
    {
     "name": "stdout",
     "output_type": "stream",
     "text": [
      "(125973, 42)\n",
      "(22544, 42)\n"
     ]
    }
   ],
   "source": [
    "# Load dataset\n",
    "origin_train_dataFrame = pd.read_csv(\"NSL_KDD_Train.csv\", header=None, names=col_names)\n",
    "origin_test_dataFrame = pd.read_csv(\"NSL_KDD_Test.csv\", header=None, names=col_names)\n",
    "# origin_train_dataFrame.drop(\"score\",axis=1,inplace=True)\n",
    "# origin_test_dataFrame.drop(\"score\",axis=1,inplace=True)\n",
    "print(origin_train_dataFrame.shape)\n",
    "print(origin_test_dataFrame.shape)"
   ]
  },
  {
   "cell_type": "code",
   "execution_count": 4,
   "metadata": {},
   "outputs": [
    {
     "data": {
      "text/html": [
       "<div>\n",
       "<style scoped>\n",
       "    .dataframe tbody tr th:only-of-type {\n",
       "        vertical-align: middle;\n",
       "    }\n",
       "\n",
       "    .dataframe tbody tr th {\n",
       "        vertical-align: top;\n",
       "    }\n",
       "\n",
       "    .dataframe thead th {\n",
       "        text-align: right;\n",
       "    }\n",
       "</style>\n",
       "<table border=\"1\" class=\"dataframe\">\n",
       "  <thead>\n",
       "    <tr style=\"text-align: right;\">\n",
       "      <th></th>\n",
       "      <th>duration</th>\n",
       "      <th>protocol_type</th>\n",
       "      <th>service</th>\n",
       "      <th>flag</th>\n",
       "      <th>src_bytes</th>\n",
       "      <th>dst_bytes</th>\n",
       "      <th>land</th>\n",
       "      <th>wrong_fragment</th>\n",
       "      <th>urgent</th>\n",
       "      <th>hot</th>\n",
       "      <th>...</th>\n",
       "      <th>dst_host_srv_count</th>\n",
       "      <th>dst_host_same_srv_rate</th>\n",
       "      <th>dst_host_diff_srv_rate</th>\n",
       "      <th>dst_host_same_src_port_rate</th>\n",
       "      <th>dst_host_srv_diff_host_rate</th>\n",
       "      <th>dst_host_serror_rate</th>\n",
       "      <th>dst_host_srv_serror_rate</th>\n",
       "      <th>dst_host_rerror_rate</th>\n",
       "      <th>dst_host_srv_rerror_rate</th>\n",
       "      <th>label</th>\n",
       "    </tr>\n",
       "  </thead>\n",
       "  <tbody>\n",
       "    <tr>\n",
       "      <th>0</th>\n",
       "      <td>0</td>\n",
       "      <td>tcp</td>\n",
       "      <td>ftp_data</td>\n",
       "      <td>SF</td>\n",
       "      <td>491</td>\n",
       "      <td>0</td>\n",
       "      <td>0</td>\n",
       "      <td>0</td>\n",
       "      <td>0</td>\n",
       "      <td>0</td>\n",
       "      <td>...</td>\n",
       "      <td>25</td>\n",
       "      <td>0.17</td>\n",
       "      <td>0.03</td>\n",
       "      <td>0.17</td>\n",
       "      <td>0.00</td>\n",
       "      <td>0.00</td>\n",
       "      <td>0.00</td>\n",
       "      <td>0.05</td>\n",
       "      <td>0.00</td>\n",
       "      <td>normal</td>\n",
       "    </tr>\n",
       "    <tr>\n",
       "      <th>1</th>\n",
       "      <td>0</td>\n",
       "      <td>udp</td>\n",
       "      <td>other</td>\n",
       "      <td>SF</td>\n",
       "      <td>146</td>\n",
       "      <td>0</td>\n",
       "      <td>0</td>\n",
       "      <td>0</td>\n",
       "      <td>0</td>\n",
       "      <td>0</td>\n",
       "      <td>...</td>\n",
       "      <td>1</td>\n",
       "      <td>0.00</td>\n",
       "      <td>0.60</td>\n",
       "      <td>0.88</td>\n",
       "      <td>0.00</td>\n",
       "      <td>0.00</td>\n",
       "      <td>0.00</td>\n",
       "      <td>0.00</td>\n",
       "      <td>0.00</td>\n",
       "      <td>normal</td>\n",
       "    </tr>\n",
       "    <tr>\n",
       "      <th>2</th>\n",
       "      <td>0</td>\n",
       "      <td>tcp</td>\n",
       "      <td>private</td>\n",
       "      <td>S0</td>\n",
       "      <td>0</td>\n",
       "      <td>0</td>\n",
       "      <td>0</td>\n",
       "      <td>0</td>\n",
       "      <td>0</td>\n",
       "      <td>0</td>\n",
       "      <td>...</td>\n",
       "      <td>26</td>\n",
       "      <td>0.10</td>\n",
       "      <td>0.05</td>\n",
       "      <td>0.00</td>\n",
       "      <td>0.00</td>\n",
       "      <td>1.00</td>\n",
       "      <td>1.00</td>\n",
       "      <td>0.00</td>\n",
       "      <td>0.00</td>\n",
       "      <td>neptune</td>\n",
       "    </tr>\n",
       "    <tr>\n",
       "      <th>3</th>\n",
       "      <td>0</td>\n",
       "      <td>tcp</td>\n",
       "      <td>http</td>\n",
       "      <td>SF</td>\n",
       "      <td>232</td>\n",
       "      <td>8153</td>\n",
       "      <td>0</td>\n",
       "      <td>0</td>\n",
       "      <td>0</td>\n",
       "      <td>0</td>\n",
       "      <td>...</td>\n",
       "      <td>255</td>\n",
       "      <td>1.00</td>\n",
       "      <td>0.00</td>\n",
       "      <td>0.03</td>\n",
       "      <td>0.04</td>\n",
       "      <td>0.03</td>\n",
       "      <td>0.01</td>\n",
       "      <td>0.00</td>\n",
       "      <td>0.01</td>\n",
       "      <td>normal</td>\n",
       "    </tr>\n",
       "    <tr>\n",
       "      <th>4</th>\n",
       "      <td>0</td>\n",
       "      <td>tcp</td>\n",
       "      <td>http</td>\n",
       "      <td>SF</td>\n",
       "      <td>199</td>\n",
       "      <td>420</td>\n",
       "      <td>0</td>\n",
       "      <td>0</td>\n",
       "      <td>0</td>\n",
       "      <td>0</td>\n",
       "      <td>...</td>\n",
       "      <td>255</td>\n",
       "      <td>1.00</td>\n",
       "      <td>0.00</td>\n",
       "      <td>0.00</td>\n",
       "      <td>0.00</td>\n",
       "      <td>0.00</td>\n",
       "      <td>0.00</td>\n",
       "      <td>0.00</td>\n",
       "      <td>0.00</td>\n",
       "      <td>normal</td>\n",
       "    </tr>\n",
       "  </tbody>\n",
       "</table>\n",
       "<p>5 rows × 42 columns</p>\n",
       "</div>"
      ],
      "text/plain": [
       "   duration protocol_type   service flag  src_bytes  dst_bytes  land  \\\n",
       "0         0           tcp  ftp_data   SF        491          0     0   \n",
       "1         0           udp     other   SF        146          0     0   \n",
       "2         0           tcp   private   S0          0          0     0   \n",
       "3         0           tcp      http   SF        232       8153     0   \n",
       "4         0           tcp      http   SF        199        420     0   \n",
       "\n",
       "   wrong_fragment  urgent  hot  ...  dst_host_srv_count  \\\n",
       "0               0       0    0  ...                  25   \n",
       "1               0       0    0  ...                   1   \n",
       "2               0       0    0  ...                  26   \n",
       "3               0       0    0  ...                 255   \n",
       "4               0       0    0  ...                 255   \n",
       "\n",
       "   dst_host_same_srv_rate  dst_host_diff_srv_rate  \\\n",
       "0                    0.17                    0.03   \n",
       "1                    0.00                    0.60   \n",
       "2                    0.10                    0.05   \n",
       "3                    1.00                    0.00   \n",
       "4                    1.00                    0.00   \n",
       "\n",
       "   dst_host_same_src_port_rate  dst_host_srv_diff_host_rate  \\\n",
       "0                         0.17                         0.00   \n",
       "1                         0.88                         0.00   \n",
       "2                         0.00                         0.00   \n",
       "3                         0.03                         0.04   \n",
       "4                         0.00                         0.00   \n",
       "\n",
       "   dst_host_serror_rate  dst_host_srv_serror_rate  dst_host_rerror_rate  \\\n",
       "0                  0.00                      0.00                  0.05   \n",
       "1                  0.00                      0.00                  0.00   \n",
       "2                  1.00                      1.00                  0.00   \n",
       "3                  0.03                      0.01                  0.00   \n",
       "4                  0.00                      0.00                  0.00   \n",
       "\n",
       "   dst_host_srv_rerror_rate    label  \n",
       "0                      0.00   normal  \n",
       "1                      0.00   normal  \n",
       "2                      0.00  neptune  \n",
       "3                      0.01   normal  \n",
       "4                      0.00   normal  \n",
       "\n",
       "[5 rows x 42 columns]"
      ]
     },
     "execution_count": 4,
     "metadata": {},
     "output_type": "execute_result"
    }
   ],
   "source": [
    "origin_train_dataFrame.head()"
   ]
  },
  {
   "cell_type": "markdown",
   "metadata": {},
   "source": [
    "Nhóm các features vào 3 nhóm"
   ]
  },
  {
   "cell_type": "code",
   "execution_count": 5,
   "metadata": {},
   "outputs": [],
   "source": [
    "# nominal features: 2 - 3 - 4\n",
    "# binary features: 7 - 12 - 14 - 15 - 21\n",
    "# Còn lại là numeric features\n",
    "nominal_features = [\"protocol_type\", \"service\", \"flag\"]\n",
    "binary_features = [\"land\", \"logged_in\", \"root_shell\",\n",
    "                   \"su_attempted\", \"is_host_login\", \"is_guest_login\"]\n",
    "numeric_features = []\n",
    "for feature in col_names:\n",
    "    if ((feature not in nominal_features) and (feature not in binary_features) and (feature != \"label\")):\n",
    "        numeric_features.append(feature)"
   ]
  },
  {
   "cell_type": "code",
   "execution_count": 6,
   "metadata": {},
   "outputs": [
    {
     "name": "stdout",
     "output_type": "stream",
     "text": [
      "Nominal feature (3): ['protocol_type', 'service', 'flag']\n",
      "Binary features (6): ['land', 'logged_in', 'root_shell', 'su_attempted', 'is_host_login', 'is_guest_login']\n",
      "Numeric features (32): ['duration', 'src_bytes', 'dst_bytes', 'wrong_fragment', 'urgent', 'hot', 'num_failed_logins', 'num_compromised', 'num_root', 'num_file_creations', 'num_shells', 'num_access_files', 'num_outbound_cmds', 'count', 'srv_count', 'serror_rate', 'srv_serror_rate', 'rerror_rate', 'srv_rerror_rate', 'same_srv_rate', 'diff_srv_rate', 'srv_diff_host_rate', 'dst_host_count', 'dst_host_srv_count', 'dst_host_same_srv_rate', 'dst_host_diff_srv_rate', 'dst_host_same_src_port_rate', 'dst_host_srv_diff_host_rate', 'dst_host_serror_rate', 'dst_host_srv_serror_rate', 'dst_host_rerror_rate', 'dst_host_srv_rerror_rate']\n"
     ]
    }
   ],
   "source": [
    "# Liệt kê các features theo từng nhóm\n",
    "print(\"Nominal feature (\", len(nominal_features), \"): \", nominal_features, sep=\"\")\n",
    "print(\"Binary features (\", len(binary_features), \"): \", binary_features, sep=\"\")\n",
    "print(\"Numeric features (\", len(numeric_features), \"): \", numeric_features, sep=\"\")"
   ]
  },
  {
   "cell_type": "markdown",
   "metadata": {},
   "source": [
    "Chia lại các record vào 4 phân lớp tấn công"
   ]
  },
  {
   "cell_type": "code",
   "execution_count": 7,
   "metadata": {},
   "outputs": [
    {
     "name": "stdout",
     "output_type": "stream",
     "text": [
      "['normal' 'neptune' 'warezclient' 'ipsweep' 'portsweep' 'teardrop' 'nmap'\n",
      " 'satan' 'smurf' 'pod' 'back' 'guess_passwd' 'ftp_write' 'multihop'\n",
      " 'rootkit' 'buffer_overflow' 'imap' 'warezmaster' 'phf' 'land'\n",
      " 'loadmodule' 'spy' 'perl']\n",
      "['neptune' 'normal' 'saint' 'mscan' 'guess_passwd' 'smurf' 'apache2'\n",
      " 'satan' 'buffer_overflow' 'back' 'warezmaster' 'snmpgetattack'\n",
      " 'processtable' 'pod' 'httptunnel' 'nmap' 'ps' 'snmpguess' 'ipsweep'\n",
      " 'mailbomb' 'portsweep' 'multihop' 'named' 'sendmail' 'loadmodule' 'xterm'\n",
      " 'worm' 'teardrop' 'rootkit' 'xlock' 'perl' 'land' 'xsnoop' 'sqlattack'\n",
      " 'ftp_write' 'imap' 'udpstorm' 'phf']\n",
      "['sqlattack', 'sendmail', 'saint', 'mscan', 'processtable', 'xlock', 'named', 'apache2', 'xsnoop', 'httptunnel', 'ps', 'worm', 'xterm', 'udpstorm', 'snmpgetattack', 'mailbomb', 'snmpguess']\n"
     ]
    }
   ],
   "source": [
    "# Xem sự phân phối các subclass\n",
    "print(origin_train_dataFrame[\"label\"].unique())\n",
    "print(origin_test_dataFrame[\"label\"].unique())\n",
    "\n",
    "trainLabels = origin_train_dataFrame[\"label\"].tolist()\n",
    "testLabels = origin_test_dataFrame[\"label\"].tolist()\n",
    "\n",
    "differentLabels = list(set(testLabels) - set(trainLabels))\n",
    "print(differentLabels)\n",
    "# N19DCAT033 - Tran Viet Hoang"
   ]
  },
  {
   "cell_type": "code",
   "execution_count": 8,
   "metadata": {},
   "outputs": [],
   "source": [
    "# Trước tiên cần phải liệt kê danh sách các subclass của 4 phân lớp DoS, Probe, U2R, R2L\n",
    "# Tấn công DoS\n",
    "label_DoS = ['apache2', 'back', 'land', 'neptune', 'mailbomb',\n",
    "             'pod', 'processtable', 'smurf', 'teardrop', 'udpstorm', 'worm']\n",
    "# Tấn công thu thập thông tin\n",
    "label_Probe = ['ipsweep', 'mscan', 'nmap', 'portsweep', 'saint', 'satan']\n",
    "# Tấn công chiếm quyền, leo thang đặc quyền\n",
    "label_U2R = ['buffer_overflow', 'loadmodule',\n",
    "             'perl', 'ps', 'rootkit', 'sqlattack', 'xterm']\n",
    "# Tấn công kết nối truy cập từ xa\n",
    "label_R2L = ['ftp_write', 'guess_passwd', 'httptunnel', 'imap', 'multihop', 'named', 'phf',\n",
    "             'sendmail', 'snmpgetattack', 'snmpguess', 'spy', 'warezclient', 'warezmaster', 'xlock', 'xsnoop']"
   ]
  },
  {
   "cell_type": "markdown",
   "metadata": {},
   "source": [
    "Tách column label thành labels2 (normal - attack) và labels5 (normal - DoS, Probe, R2L, U2R)"
   ]
  },
  {
   "cell_type": "code",
   "execution_count": 9,
   "metadata": {},
   "outputs": [],
   "source": [
    "attack_labels = []\n",
    "attack_labels.extend(label_DoS)\n",
    "attack_labels.extend(label_Probe)\n",
    "attack_labels.extend(label_U2R)\n",
    "attack_labels.extend(label_R2L)"
   ]
  },
  {
   "cell_type": "code",
   "execution_count": 10,
   "metadata": {},
   "outputs": [],
   "source": [
    "# Đối với TRAIN DATASET\n",
    "origin_train_dataFrame.rename(columns={\"label\": \"labels2\"}, inplace=True)\n",
    "trainLabels2Column = origin_train_dataFrame[\"labels2\"].tolist()\n",
    "origin_train_dataFrame[\"labels5\"] = trainLabels2Column\n",
    "origin_train_dataFrame[\"labels2\"].replace(attack_labels, \"attack\", inplace=True)\n"
   ]
  },
  {
   "cell_type": "code",
   "execution_count": 11,
   "metadata": {},
   "outputs": [],
   "source": [
    "# Đối với TEST DATASET\n",
    "origin_test_dataFrame.rename(columns={\"label\": \"labels2\"}, inplace=True)\n",
    "testLabels2Column = origin_test_dataFrame[\"labels2\"].tolist()\n",
    "origin_test_dataFrame[\"labels5\"] = testLabels2Column\n",
    "origin_test_dataFrame[\"labels2\"].replace(attack_labels, \"attack\", inplace=True)"
   ]
  },
  {
   "cell_type": "code",
   "execution_count": 12,
   "metadata": {},
   "outputs": [
    {
     "name": "stdout",
     "output_type": "stream",
     "text": [
      "['normal' 'attack']\n",
      "['normal' 'neptune' 'warezclient' 'ipsweep' 'portsweep' 'teardrop' 'nmap'\n",
      " 'satan' 'smurf' 'pod' 'back' 'guess_passwd' 'ftp_write' 'multihop'\n",
      " 'rootkit' 'buffer_overflow' 'imap' 'warezmaster' 'phf' 'land'\n",
      " 'loadmodule' 'spy' 'perl']\n",
      "\n",
      "['attack' 'normal']\n",
      "['neptune' 'normal' 'saint' 'mscan' 'guess_passwd' 'smurf' 'apache2'\n",
      " 'satan' 'buffer_overflow' 'back' 'warezmaster' 'snmpgetattack'\n",
      " 'processtable' 'pod' 'httptunnel' 'nmap' 'ps' 'snmpguess' 'ipsweep'\n",
      " 'mailbomb' 'portsweep' 'multihop' 'named' 'sendmail' 'loadmodule' 'xterm'\n",
      " 'worm' 'teardrop' 'rootkit' 'xlock' 'perl' 'land' 'xsnoop' 'sqlattack'\n",
      " 'ftp_write' 'imap' 'udpstorm' 'phf']\n"
     ]
    }
   ],
   "source": [
    "print(origin_train_dataFrame[\"labels2\"].unique())\n",
    "print(origin_train_dataFrame[\"labels5\"].unique())\n",
    "print()\n",
    "print(origin_test_dataFrame[\"labels2\"].unique())\n",
    "print(origin_test_dataFrame[\"labels5\"].unique())"
   ]
  },
  {
   "cell_type": "code",
   "execution_count": 13,
   "metadata": {},
   "outputs": [],
   "source": [
    "# Đối với TRAIN DATASET\n",
    "# Chia các record vào DoS\n",
    "origin_train_dataFrame[\"labels5\"].replace(label_DoS, \"DoS\", inplace=True)\n",
    "# Chia các record vào Probe\n",
    "origin_train_dataFrame[\"labels5\"].replace(label_Probe, \"Probe\", inplace=True)\n",
    "# Chia các record vào U2R\n",
    "origin_train_dataFrame[\"labels5\"].replace(label_U2R, \"U2R\", inplace=True)\n",
    "# Chia các record vào R2L\n",
    "origin_train_dataFrame[\"labels5\"].replace(label_R2L, \"R2L\", inplace=True)\n",
    "\n",
    "# Đối với TEST DATASET\n",
    "# Chia các record vào DoS\n",
    "origin_test_dataFrame[\"labels5\"].replace(label_DoS, \"DoS\", inplace=True)\n",
    "# Chia các record vào Probe\n",
    "origin_test_dataFrame[\"labels5\"].replace(label_Probe, \"Probe\", inplace=True)\n",
    "# Chia các record vào U2R\n",
    "origin_test_dataFrame[\"labels5\"].replace(label_U2R, \"U2R\", inplace=True)\n",
    "# Chia các record vào R2L\n",
    "origin_test_dataFrame[\"labels5\"].replace(label_R2L, \"R2L\", inplace=True)"
   ]
  },
  {
   "cell_type": "code",
   "execution_count": 14,
   "metadata": {},
   "outputs": [
    {
     "data": {
      "text/html": [
       "<div>\n",
       "<style scoped>\n",
       "    .dataframe tbody tr th:only-of-type {\n",
       "        vertical-align: middle;\n",
       "    }\n",
       "\n",
       "    .dataframe tbody tr th {\n",
       "        vertical-align: top;\n",
       "    }\n",
       "\n",
       "    .dataframe thead th {\n",
       "        text-align: right;\n",
       "    }\n",
       "</style>\n",
       "<table border=\"1\" class=\"dataframe\">\n",
       "  <thead>\n",
       "    <tr style=\"text-align: right;\">\n",
       "      <th></th>\n",
       "      <th>duration</th>\n",
       "      <th>protocol_type</th>\n",
       "      <th>service</th>\n",
       "      <th>flag</th>\n",
       "      <th>src_bytes</th>\n",
       "      <th>dst_bytes</th>\n",
       "      <th>land</th>\n",
       "      <th>wrong_fragment</th>\n",
       "      <th>urgent</th>\n",
       "      <th>hot</th>\n",
       "      <th>...</th>\n",
       "      <th>dst_host_same_srv_rate</th>\n",
       "      <th>dst_host_diff_srv_rate</th>\n",
       "      <th>dst_host_same_src_port_rate</th>\n",
       "      <th>dst_host_srv_diff_host_rate</th>\n",
       "      <th>dst_host_serror_rate</th>\n",
       "      <th>dst_host_srv_serror_rate</th>\n",
       "      <th>dst_host_rerror_rate</th>\n",
       "      <th>dst_host_srv_rerror_rate</th>\n",
       "      <th>labels2</th>\n",
       "      <th>labels5</th>\n",
       "    </tr>\n",
       "  </thead>\n",
       "  <tbody>\n",
       "    <tr>\n",
       "      <th>0</th>\n",
       "      <td>0</td>\n",
       "      <td>tcp</td>\n",
       "      <td>ftp_data</td>\n",
       "      <td>SF</td>\n",
       "      <td>491</td>\n",
       "      <td>0</td>\n",
       "      <td>0</td>\n",
       "      <td>0</td>\n",
       "      <td>0</td>\n",
       "      <td>0</td>\n",
       "      <td>...</td>\n",
       "      <td>0.17</td>\n",
       "      <td>0.03</td>\n",
       "      <td>0.17</td>\n",
       "      <td>0.00</td>\n",
       "      <td>0.00</td>\n",
       "      <td>0.00</td>\n",
       "      <td>0.05</td>\n",
       "      <td>0.00</td>\n",
       "      <td>normal</td>\n",
       "      <td>normal</td>\n",
       "    </tr>\n",
       "    <tr>\n",
       "      <th>1</th>\n",
       "      <td>0</td>\n",
       "      <td>udp</td>\n",
       "      <td>other</td>\n",
       "      <td>SF</td>\n",
       "      <td>146</td>\n",
       "      <td>0</td>\n",
       "      <td>0</td>\n",
       "      <td>0</td>\n",
       "      <td>0</td>\n",
       "      <td>0</td>\n",
       "      <td>...</td>\n",
       "      <td>0.00</td>\n",
       "      <td>0.60</td>\n",
       "      <td>0.88</td>\n",
       "      <td>0.00</td>\n",
       "      <td>0.00</td>\n",
       "      <td>0.00</td>\n",
       "      <td>0.00</td>\n",
       "      <td>0.00</td>\n",
       "      <td>normal</td>\n",
       "      <td>normal</td>\n",
       "    </tr>\n",
       "    <tr>\n",
       "      <th>2</th>\n",
       "      <td>0</td>\n",
       "      <td>tcp</td>\n",
       "      <td>private</td>\n",
       "      <td>S0</td>\n",
       "      <td>0</td>\n",
       "      <td>0</td>\n",
       "      <td>0</td>\n",
       "      <td>0</td>\n",
       "      <td>0</td>\n",
       "      <td>0</td>\n",
       "      <td>...</td>\n",
       "      <td>0.10</td>\n",
       "      <td>0.05</td>\n",
       "      <td>0.00</td>\n",
       "      <td>0.00</td>\n",
       "      <td>1.00</td>\n",
       "      <td>1.00</td>\n",
       "      <td>0.00</td>\n",
       "      <td>0.00</td>\n",
       "      <td>attack</td>\n",
       "      <td>DoS</td>\n",
       "    </tr>\n",
       "    <tr>\n",
       "      <th>3</th>\n",
       "      <td>0</td>\n",
       "      <td>tcp</td>\n",
       "      <td>http</td>\n",
       "      <td>SF</td>\n",
       "      <td>232</td>\n",
       "      <td>8153</td>\n",
       "      <td>0</td>\n",
       "      <td>0</td>\n",
       "      <td>0</td>\n",
       "      <td>0</td>\n",
       "      <td>...</td>\n",
       "      <td>1.00</td>\n",
       "      <td>0.00</td>\n",
       "      <td>0.03</td>\n",
       "      <td>0.04</td>\n",
       "      <td>0.03</td>\n",
       "      <td>0.01</td>\n",
       "      <td>0.00</td>\n",
       "      <td>0.01</td>\n",
       "      <td>normal</td>\n",
       "      <td>normal</td>\n",
       "    </tr>\n",
       "    <tr>\n",
       "      <th>4</th>\n",
       "      <td>0</td>\n",
       "      <td>tcp</td>\n",
       "      <td>http</td>\n",
       "      <td>SF</td>\n",
       "      <td>199</td>\n",
       "      <td>420</td>\n",
       "      <td>0</td>\n",
       "      <td>0</td>\n",
       "      <td>0</td>\n",
       "      <td>0</td>\n",
       "      <td>...</td>\n",
       "      <td>1.00</td>\n",
       "      <td>0.00</td>\n",
       "      <td>0.00</td>\n",
       "      <td>0.00</td>\n",
       "      <td>0.00</td>\n",
       "      <td>0.00</td>\n",
       "      <td>0.00</td>\n",
       "      <td>0.00</td>\n",
       "      <td>normal</td>\n",
       "      <td>normal</td>\n",
       "    </tr>\n",
       "  </tbody>\n",
       "</table>\n",
       "<p>5 rows × 43 columns</p>\n",
       "</div>"
      ],
      "text/plain": [
       "   duration protocol_type   service flag  src_bytes  dst_bytes  land  \\\n",
       "0         0           tcp  ftp_data   SF        491          0     0   \n",
       "1         0           udp     other   SF        146          0     0   \n",
       "2         0           tcp   private   S0          0          0     0   \n",
       "3         0           tcp      http   SF        232       8153     0   \n",
       "4         0           tcp      http   SF        199        420     0   \n",
       "\n",
       "   wrong_fragment  urgent  hot  ...  dst_host_same_srv_rate  \\\n",
       "0               0       0    0  ...                    0.17   \n",
       "1               0       0    0  ...                    0.00   \n",
       "2               0       0    0  ...                    0.10   \n",
       "3               0       0    0  ...                    1.00   \n",
       "4               0       0    0  ...                    1.00   \n",
       "\n",
       "   dst_host_diff_srv_rate  dst_host_same_src_port_rate  \\\n",
       "0                    0.03                         0.17   \n",
       "1                    0.60                         0.88   \n",
       "2                    0.05                         0.00   \n",
       "3                    0.00                         0.03   \n",
       "4                    0.00                         0.00   \n",
       "\n",
       "   dst_host_srv_diff_host_rate  dst_host_serror_rate  \\\n",
       "0                         0.00                  0.00   \n",
       "1                         0.00                  0.00   \n",
       "2                         0.00                  1.00   \n",
       "3                         0.04                  0.03   \n",
       "4                         0.00                  0.00   \n",
       "\n",
       "   dst_host_srv_serror_rate  dst_host_rerror_rate  dst_host_srv_rerror_rate  \\\n",
       "0                      0.00                  0.05                      0.00   \n",
       "1                      0.00                  0.00                      0.00   \n",
       "2                      1.00                  0.00                      0.00   \n",
       "3                      0.01                  0.00                      0.01   \n",
       "4                      0.00                  0.00                      0.00   \n",
       "\n",
       "   labels2  labels5  \n",
       "0   normal   normal  \n",
       "1   normal   normal  \n",
       "2   attack      DoS  \n",
       "3   normal   normal  \n",
       "4   normal   normal  \n",
       "\n",
       "[5 rows x 43 columns]"
      ]
     },
     "execution_count": 14,
     "metadata": {},
     "output_type": "execute_result"
    }
   ],
   "source": [
    "origin_train_dataFrame.head()"
   ]
  },
  {
   "cell_type": "code",
   "execution_count": 15,
   "metadata": {},
   "outputs": [
    {
     "name": "stdout",
     "output_type": "stream",
     "text": [
      "normal    67343\n",
      "attack    58630\n",
      "Name: labels2, dtype: int64\n"
     ]
    },
    {
     "data": {
      "image/png": "[encoded data removed]",
      "text/plain": [
       "<Figure size 640x480 with 1 Axes>"
      ]
     },
     "metadata": {},
     "output_type": "display_data"
    }
   ],
   "source": [
    "# Xem sự phân phối theo normal - attack\n",
    "print(origin_train_dataFrame[\"labels2\"].value_counts())\n",
    "# Vẽ biểu đồ phân phối theo normal - attack\n",
    "x_label_distribute = np.array(\n",
    "    origin_train_dataFrame[\"labels2\"].value_counts().index.tolist())\n",
    "y_label_distribute = np.array(\n",
    "    origin_train_dataFrame[\"labels2\"].value_counts().values.tolist())\n",
    "plt.bar(x_label_distribute, y_label_distribute)\n",
    "plt.show()"
   ]
  },
  {
   "cell_type": "code",
   "execution_count": 16,
   "metadata": {},
   "outputs": [
    {
     "name": "stdout",
     "output_type": "stream",
     "text": [
      "normal    67343\n",
      "DoS       45927\n",
      "Probe     11656\n",
      "R2L         995\n",
      "U2R          52\n",
      "Name: labels5, dtype: int64\n"
     ]
    },
    {
     "data": {
      "image/png": "[encoded data removed]",
      "text/plain": [
       "<Figure size 640x480 with 1 Axes>"
      ]
     },
     "metadata": {},
     "output_type": "display_data"
    }
   ],
   "source": [
    "# Xem lại sự phân phối theo lớp tấn công\n",
    "print(origin_train_dataFrame[\"labels5\"].value_counts())\n",
    "# Vẽ biểu đồ phân phối theo lớp tấn công\n",
    "x_label_distribute = np.array(\n",
    "    origin_train_dataFrame[\"labels5\"].value_counts().index.tolist())\n",
    "y_label_distribute = np.array(\n",
    "    origin_train_dataFrame[\"labels5\"].value_counts().values.tolist())\n",
    "plt.bar(x_label_distribute, y_label_distribute)\n",
    "plt.show()"
   ]
  },
  {
   "cell_type": "markdown",
   "metadata": {},
   "source": [
    "# END: DATA GATHERING"
   ]
  },
  {
   "cell_type": "markdown",
   "metadata": {},
   "source": [
    "# START: DATA PROCESSING"
   ]
  },
  {
   "cell_type": "code",
   "execution_count": 17,
   "metadata": {},
   "outputs": [],
   "source": [
    "# N19DCAT033 - Tran Viet Hoang\n",
    "# Trong dataset nsl-kdd có 3 thuộc tính nominal (string) nên không thể thực hiện tính toán các chỉ số trực tiếp\n",
    "# Sử dụng one-hot encoding để chuyển các nominal attribute sang numeric attribute\n",
    "# Các feature được scale để tránh việc các feature mang giá trị quá lớn ảnh hưởng tới kết quả của mô hình"
   ]
  },
  {
   "cell_type": "code",
   "execution_count": 18,
   "metadata": {},
   "outputs": [
    {
     "name": "stdout",
     "output_type": "stream",
     "text": [
      "\n",
      "Number of unique values in TRAIN DATASET for nominal attributes\n",
      "Feature 'protocol_type' has 3 categories\n",
      "Feature 'service' has 70 categories\n",
      "Feature 'flag' has 11 categories\n",
      "Feature 'labels2' has 2 categories\n",
      "Feature 'labels5' has 5 categories\n",
      "\n",
      "Number of unique values in TEST DATASET for nominal attributes\n",
      "Feature 'protocol_type' has 3 categories\n",
      "Feature 'service' has 64 categories\n",
      "Feature 'flag' has 11 categories\n",
      "Feature 'labels2' has 2 categories\n",
      "Feature 'labels5' has 5 categories\n"
     ]
    }
   ],
   "source": [
    "# Số lượng các giá trị khác nhau trong 3 nominal attribute\n",
    "print(\"\\nNumber of unique values in TRAIN DATASET for nominal attributes\")\n",
    "for col in origin_train_dataFrame.columns:\n",
    "    if origin_train_dataFrame[col].dtypes == 'object':\n",
    "        unique_cat = len(origin_train_dataFrame[col].unique())\n",
    "        print(\"Feature '{col}' has {unique_cat} categories\".format(\n",
    "            col=col, unique_cat=unique_cat))\n",
    "\n",
    "print(\"\\nNumber of unique values in TEST DATASET for nominal attributes\")\n",
    "for col in origin_test_dataFrame.columns:\n",
    "    if origin_test_dataFrame[col].dtypes == 'object':\n",
    "        unique_cat = len(origin_test_dataFrame[col].unique())\n",
    "        print(\"Feature '{col}' has {unique_cat} categories\".format(\n",
    "            col=col, unique_cat=unique_cat))"
   ]
  },
  {
   "cell_type": "code",
   "execution_count": 19,
   "metadata": {},
   "outputs": [],
   "source": [
    "# Với TRAIN DATASET thì sẽ có tổng cộng 3+70+11=84 dummies khi sử dụng one-hot encoding\n",
    "# Với TEST DATASET thì sẽ có tổng cộng 3+64+11=78 dummies khi sử dụng one-hot encoding"
   ]
  },
  {
   "cell_type": "markdown",
   "metadata": {},
   "source": [
    "Đưa các nominal (categorical) feature vào mảng numpy 2D (2D numpy array)"
   ]
  },
  {
   "cell_type": "code",
   "execution_count": 20,
   "metadata": {},
   "outputs": [
    {
     "name": "stdout",
     "output_type": "stream",
     "text": [
      "  protocol_type   service flag\n",
      "0           tcp  ftp_data   SF\n",
      "1           udp     other   SF\n",
      "2           tcp   private   S0\n",
      "3           tcp      http   SF\n",
      "4           tcp      http   SF\n"
     ]
    }
   ],
   "source": [
    "train_dataset_categorical_values = origin_train_dataFrame[nominal_features]\n",
    "test_dataset_categorical_values = origin_test_dataFrame[nominal_features]\n",
    "\n",
    "print(train_dataset_categorical_values.head())"
   ]
  },
  {
   "cell_type": "markdown",
   "metadata": {},
   "source": [
    "THỰC HIỆN DUMMY CÁC COLUMN (ATTRIBUTE)"
   ]
  },
  {
   "cell_type": "code",
   "execution_count": 21,
   "metadata": {},
   "outputs": [
    {
     "name": "stdout",
     "output_type": "stream",
     "text": [
      "['Protocol_type_icmp', 'Protocol_type_tcp', 'Protocol_type_udp', 'service_IRC', 'service_X11', 'service_Z39_50', 'service_aol', 'service_auth', 'service_bgp', 'service_courier', 'service_csnet_ns', 'service_ctf', 'service_daytime', 'service_discard', 'service_domain', 'service_domain_u', 'service_echo', 'service_eco_i', 'service_ecr_i', 'service_efs', 'service_exec', 'service_finger', 'service_ftp', 'service_ftp_data', 'service_gopher', 'service_harvest', 'service_hostnames', 'service_http', 'service_http_2784', 'service_http_443', 'service_http_8001', 'service_imap4', 'service_iso_tsap', 'service_klogin', 'service_kshell', 'service_ldap', 'service_link', 'service_login', 'service_mtp', 'service_name', 'service_netbios_dgm', 'service_netbios_ns', 'service_netbios_ssn', 'service_netstat', 'service_nnsp', 'service_nntp', 'service_ntp_u', 'service_other', 'service_pm_dump', 'service_pop_2', 'service_pop_3', 'service_printer', 'service_private', 'service_red_i', 'service_remote_job', 'service_rje', 'service_shell', 'service_smtp', 'service_sql_net', 'service_ssh', 'service_sunrpc', 'service_supdup', 'service_systat', 'service_telnet', 'service_tftp_u', 'service_tim_i', 'service_time', 'service_urh_i', 'service_urp_i', 'service_uucp', 'service_uucp_path', 'service_vmnet', 'service_whois', 'flag_OTH', 'flag_REJ', 'flag_RSTO', 'flag_RSTOS0', 'flag_RSTR', 'flag_S0', 'flag_S1', 'flag_S2', 'flag_S3', 'flag_SF', 'flag_SH']\n"
     ]
    }
   ],
   "source": [
    "# protocol type\n",
    "unique_protocol = sorted(origin_train_dataFrame.protocol_type.unique())\n",
    "string1 = 'Protocol_type_'\n",
    "unique_protocol2 = [string1 + x for x in unique_protocol]\n",
    "# service\n",
    "unique_service = sorted(origin_train_dataFrame.service.unique())\n",
    "string2 = 'service_'\n",
    "unique_service2 = [string2 + x for x in unique_service]\n",
    "# flag\n",
    "unique_flag = sorted(origin_train_dataFrame.flag.unique())\n",
    "string3 = 'flag_'\n",
    "unique_flag2 = [string3 + x for x in unique_flag]\n",
    "# Put together\n",
    "dumcols = unique_protocol2 + unique_service2 + unique_flag2\n",
    "print(dumcols)"
   ]
  },
  {
   "cell_type": "code",
   "execution_count": 22,
   "metadata": {},
   "outputs": [],
   "source": [
    "# Tương tự với TEST DATASET nhưng ở service chỉ có 64 giá trị khác nhau\n",
    "unique_service_test = sorted(origin_test_dataFrame.service.unique())\n",
    "unique_service2_test = [string2 + x for x in unique_service_test]\n",
    "testdumcols = unique_protocol2 + unique_service2_test + unique_flag2"
   ]
  },
  {
   "cell_type": "markdown",
   "metadata": {},
   "source": [
    "Chuyển categorical feature sang numerical sử dụng LabelEncoder()"
   ]
  },
  {
   "cell_type": "code",
   "execution_count": 23,
   "metadata": {},
   "outputs": [
    {
     "name": "stdout",
     "output_type": "stream",
     "text": [
      "   protocol_type  service  flag\n",
      "0              1       20     9\n",
      "1              2       44     9\n",
      "2              1       49     5\n",
      "3              1       24     9\n",
      "4              1       24     9\n"
     ]
    }
   ],
   "source": [
    "dataset_train_categorical_values_enc = train_dataset_categorical_values.apply(\n",
    "    LabelEncoder().fit_transform)\n",
    "# test set\n",
    "dataset_test_categorical_values_enc = test_dataset_categorical_values.apply(\n",
    "    LabelEncoder().fit_transform)\n",
    "print(dataset_train_categorical_values_enc.head())"
   ]
  },
  {
   "cell_type": "markdown",
   "metadata": {},
   "source": [
    "ONE-HOT ENCODING"
   ]
  },
  {
   "cell_type": "code",
   "execution_count": 24,
   "metadata": {},
   "outputs": [
    {
     "name": "stdout",
     "output_type": "stream",
     "text": [
      "        Protocol_type_icmp  Protocol_type_tcp  Protocol_type_udp  service_IRC  \\\n",
      "0                      0.0                1.0                0.0          0.0   \n",
      "1                      0.0                0.0                1.0          0.0   \n",
      "2                      0.0                1.0                0.0          0.0   \n",
      "3                      0.0                1.0                0.0          0.0   \n",
      "4                      0.0                1.0                0.0          0.0   \n",
      "...                    ...                ...                ...          ...   \n",
      "125968                 0.0                1.0                0.0          0.0   \n",
      "125969                 0.0                0.0                1.0          0.0   \n",
      "125970                 0.0                1.0                0.0          0.0   \n",
      "125971                 0.0                1.0                0.0          0.0   \n",
      "125972                 0.0                1.0                0.0          0.0   \n",
      "\n",
      "        service_X11  service_Z39_50  service_aol  service_auth  service_bgp  \\\n",
      "0               0.0             0.0          0.0           0.0          0.0   \n",
      "1               0.0             0.0          0.0           0.0          0.0   \n",
      "2               0.0             0.0          0.0           0.0          0.0   \n",
      "3               0.0             0.0          0.0           0.0          0.0   \n",
      "4               0.0             0.0          0.0           0.0          0.0   \n",
      "...             ...             ...          ...           ...          ...   \n",
      "125968          0.0             0.0          0.0           0.0          0.0   \n",
      "125969          0.0             0.0          0.0           0.0          0.0   \n",
      "125970          0.0             0.0          0.0           0.0          0.0   \n",
      "125971          0.0             0.0          0.0           0.0          0.0   \n",
      "125972          0.0             0.0          0.0           0.0          0.0   \n",
      "\n",
      "        service_courier  ...  flag_REJ  flag_RSTO  flag_RSTOS0  flag_RSTR  \\\n",
      "0                   0.0  ...       0.0        0.0          0.0        0.0   \n",
      "1                   0.0  ...       0.0        0.0          0.0        0.0   \n",
      "2                   0.0  ...       0.0        0.0          0.0        0.0   \n",
      "3                   0.0  ...       0.0        0.0          0.0        0.0   \n",
      "4                   0.0  ...       0.0        0.0          0.0        0.0   \n",
      "...                 ...  ...       ...        ...          ...        ...   \n",
      "125968              0.0  ...       0.0        0.0          0.0        0.0   \n",
      "125969              0.0  ...       0.0        0.0          0.0        0.0   \n",
      "125970              0.0  ...       0.0        0.0          0.0        0.0   \n",
      "125971              0.0  ...       0.0        0.0          0.0        0.0   \n",
      "125972              0.0  ...       0.0        0.0          0.0        0.0   \n",
      "\n",
      "        flag_S0  flag_S1  flag_S2  flag_S3  flag_SF  flag_SH  \n",
      "0           0.0      0.0      0.0      0.0      1.0      0.0  \n",
      "1           0.0      0.0      0.0      0.0      1.0      0.0  \n",
      "2           1.0      0.0      0.0      0.0      0.0      0.0  \n",
      "3           0.0      0.0      0.0      0.0      1.0      0.0  \n",
      "4           0.0      0.0      0.0      0.0      1.0      0.0  \n",
      "...         ...      ...      ...      ...      ...      ...  \n",
      "125968      1.0      0.0      0.0      0.0      0.0      0.0  \n",
      "125969      0.0      0.0      0.0      0.0      1.0      0.0  \n",
      "125970      0.0      0.0      0.0      0.0      1.0      0.0  \n",
      "125971      1.0      0.0      0.0      0.0      0.0      0.0  \n",
      "125972      0.0      0.0      0.0      0.0      1.0      0.0  \n",
      "\n",
      "[125973 rows x 84 columns]\n"
     ]
    }
   ],
   "source": [
    "enc = OneHotEncoder()\n",
    "# TRAIN DATASET\n",
    "dataset_train_categorical_values_encenc = enc.fit_transform(\n",
    "    dataset_train_categorical_values_enc)\n",
    "dataset_train_cat_data = pd.DataFrame(\n",
    "    dataset_train_categorical_values_encenc.toarray(), columns=dumcols)\n",
    "# TEST DATASET\n",
    "dataset_test_categorical_values_encenc = enc.fit_transform(\n",
    "    dataset_test_categorical_values_enc)\n",
    "dataset_test_cat_data = pd.DataFrame(\n",
    "    dataset_test_categorical_values_encenc.toarray(), columns=testdumcols)\n",
    "\n",
    "print(dataset_train_cat_data)"
   ]
  },
  {
   "cell_type": "markdown",
   "metadata": {},
   "source": [
    "Thêm 6 giá trị category trong attribute service từ TRAIN DATASET vào TEST DATASET"
   ]
  },
  {
   "cell_type": "code",
   "execution_count": 25,
   "metadata": {},
   "outputs": [
    {
     "name": "stdout",
     "output_type": "stream",
     "text": [
      "['service_http_2784', 'service_urh_i', 'service_http_8001', 'service_aol', 'service_red_i', 'service_harvest']\n"
     ]
    }
   ],
   "source": [
    "trainservice = origin_train_dataFrame['service'].tolist()\n",
    "testservice = origin_test_dataFrame['service'].tolist()\n",
    "difference = list(set(trainservice) - set(testservice))\n",
    "string = 'service_'\n",
    "difference = [string + x for x in difference]\n",
    "print(difference)\n",
    "for col in difference:\n",
    "    dataset_test_cat_data[col] = 0"
   ]
  },
  {
   "cell_type": "markdown",
   "metadata": {},
   "source": [
    "Join encoded categorical dataframe với các dataframe khác"
   ]
  },
  {
   "cell_type": "code",
   "execution_count": 26,
   "metadata": {},
   "outputs": [
    {
     "name": "stdout",
     "output_type": "stream",
     "text": [
      "(125973, 43)\n",
      "(22544, 43)\n",
      "(125973, 124)\n",
      "(22544, 124)\n"
     ]
    }
   ],
   "source": [
    "newdf = origin_train_dataFrame.join(dataset_train_cat_data)\n",
    "newdf.drop('flag', axis=1, inplace=True)\n",
    "newdf.drop('protocol_type', axis=1, inplace=True)\n",
    "newdf.drop('service', axis=1, inplace=True)\n",
    "# test data\n",
    "newdf_test = origin_test_dataFrame.join(dataset_test_cat_data)\n",
    "newdf_test.drop('flag', axis=1, inplace=True)\n",
    "newdf_test.drop('protocol_type', axis=1, inplace=True)\n",
    "newdf_test.drop('service', axis=1, inplace=True)\n",
    "# Shape sẽ thay đổi, tăng column\n",
    "print(origin_train_dataFrame.shape)\n",
    "print(origin_test_dataFrame.shape)\n",
    "print(newdf.shape)\n",
    "print(newdf_test.shape)"
   ]
  },
  {
   "cell_type": "markdown",
   "metadata": {},
   "source": [
    "Đặt lại giá trị cho label 0=normal, 1=DoS, 2=Probe, 3=R2L and 4=U2R"
   ]
  },
  {
   "cell_type": "code",
   "execution_count": 27,
   "metadata": {},
   "outputs": [
    {
     "name": "stdout",
     "output_type": "stream",
     "text": [
      "0    67343\n",
      "1    45927\n",
      "2    11656\n",
      "3      995\n",
      "4       52\n",
      "Name: labels5, dtype: int64\n"
     ]
    }
   ],
   "source": [
    "# Lấy label column\n",
    "labels5df = newdf['labels5']\n",
    "labels5df_test = newdf_test['labels5']\n",
    "\n",
    "labels2df = newdf['labels2']\n",
    "labels2df_test = newdf_test['labels2']\n",
    "# Đổi label column\n",
    "newlabels5df = labels5df.replace(\n",
    "    {'normal': 0, 'DoS': 1, 'Probe': 2, 'R2L': 3, 'U2R': 4})\n",
    "newlabels5df_test = labels5df_test.replace(\n",
    "    {'normal': 0, 'DoS': 1, 'Probe': 2, 'R2L': 3, 'U2R': 4})\n",
    "\n",
    "newlabels2df = labels2df.replace({'normal': 0, 'attack': 1})\n",
    "newlabels2df_test = labels2df_test.replace({'normal': 0, 'attack': 1})\n",
    "# Đưa label mới vào\n",
    "newdf['labels5'] = newlabels5df\n",
    "newdf_test['labels5'] = newlabels5df_test\n",
    "\n",
    "newdf['labels2'] = newlabels2df\n",
    "newdf_test['labels2'] = newlabels2df_test\n",
    "\n",
    "print(newdf['labels5'].value_counts())"
   ]
  },
  {
   "cell_type": "code",
   "execution_count": 28,
   "metadata": {},
   "outputs": [
    {
     "name": "stdout",
     "output_type": "stream",
     "text": [
      "0    67343\n",
      "1    58630\n",
      "Name: labels2, dtype: int64\n"
     ]
    }
   ],
   "source": [
    "print(newdf[\"labels2\"].value_counts())"
   ]
  },
  {
   "cell_type": "markdown",
   "metadata": {},
   "source": [
    "Tạo dataframe cho từng kiểu tấn công"
   ]
  },
  {
   "cell_type": "code",
   "execution_count": 29,
   "metadata": {},
   "outputs": [],
   "source": [
    "# 0 = normal, 1 = DoS, 2 = Probe, 3 = R2L, 4 = U2R\n",
    "to_drop_DoS = [2, 3, 4]\n",
    "to_drop_Probe = [1, 3, 4]\n",
    "to_drop_R2L = [1, 2, 4]\n",
    "to_drop_U2R = [1, 2, 3]\n",
    "# Tạo dataframe cho từng loại tấn công dựa vào newdf với feature \"label\" không chứa các nhãn trong top_drop_typeOfAttack\n",
    "DoS_df = newdf[~newdf['labels5'].isin(to_drop_DoS)]\n",
    "Probe_df = newdf[~newdf['labels5'].isin(to_drop_Probe)]\n",
    "R2L_df = newdf[~newdf['labels5'].isin(to_drop_R2L)]\n",
    "U2R_df = newdf[~newdf['labels5'].isin(to_drop_U2R)]\n",
    "\n",
    "# test\n",
    "DoS_df_test = newdf_test[~newdf_test['labels5'].isin(to_drop_DoS)]\n",
    "Probe_df_test = newdf_test[~newdf_test['labels5'].isin(to_drop_Probe)]\n",
    "R2L_df_test = newdf_test[~newdf_test['labels5'].isin(to_drop_R2L)]\n",
    "U2R_df_test = newdf_test[~newdf_test['labels5'].isin(to_drop_U2R)]"
   ]
  },
  {
   "cell_type": "code",
   "execution_count": 30,
   "metadata": {},
   "outputs": [
    {
     "name": "stdout",
     "output_type": "stream",
     "text": [
      "Train:\n",
      "Dimensions of train: (125973, 124)\n",
      "Dimensions of DoS: (113270, 124)\n",
      "Dimensions of Probe: (78999, 124)\n",
      "Dimensions of R2L: (68338, 124)\n",
      "Dimensions of U2R: (67395, 124)\n",
      "Test:\n",
      "Dimensions of test: (22544, 124)\n",
      "Dimensions of DoS: (17171, 124)\n",
      "Dimensions of Probe: (12132, 124)\n",
      "Dimensions of R2L: (12596, 124)\n",
      "Dimensions of U2R: (9778, 124)\n"
     ]
    }
   ],
   "source": [
    "print('Train:')\n",
    "print(\"Dimensions of train:\", newdf.shape)\n",
    "print('Dimensions of DoS:', DoS_df.shape)\n",
    "print('Dimensions of Probe:', Probe_df.shape)\n",
    "print('Dimensions of R2L:', R2L_df.shape)\n",
    "print('Dimensions of U2R:', U2R_df.shape)\n",
    "print('Test:')\n",
    "print(\"Dimensions of test:\", newdf_test.shape)\n",
    "print('Dimensions of DoS:', DoS_df_test.shape)\n",
    "print('Dimensions of Probe:', Probe_df_test.shape)\n",
    "print('Dimensions of R2L:', R2L_df_test.shape)\n",
    "print('Dimensions of U2R:', U2R_df_test.shape)\n"
   ]
  },
  {
   "cell_type": "markdown",
   "metadata": {},
   "source": [
    "FEATURE SCALING"
   ]
  },
  {
   "cell_type": "code",
   "execution_count": 31,
   "metadata": {},
   "outputs": [],
   "source": [
    "# Chia dataframe thành X & Y\n",
    "# N19DCAT033 - Tran Viet Hoang\n",
    "# Tạo multi_train_data để tránh làm biến đổi train dataset gốc khi scale dữ liệu\n",
    "multi_train_data = origin_train_dataFrame.copy()\n",
    "multi_test_data = origin_test_dataFrame.copy()\n",
    "# Chia X là dataframe gồm các feature, Y là các nhãn tấn công (lớp tấn công)\n",
    "X_train = newdf.drop(['labels2','labels5'], axis=1)\n",
    "Y_train = newdf.labels5\n",
    "\n",
    "X_DoS = DoS_df.drop(['labels2','labels5'], axis=1)\n",
    "Y_DoS = DoS_df.labels5\n",
    "X_Probe = Probe_df.drop(['labels2','labels5'], axis=1)\n",
    "Y_Probe = Probe_df.labels5\n",
    "X_R2L = R2L_df.drop(['labels2','labels5'], axis=1)\n",
    "Y_R2L = R2L_df.labels5\n",
    "X_U2R = U2R_df.drop(['labels2','labels5'], axis=1)\n",
    "Y_U2R = U2R_df.labels5\n",
    "# test set\n",
    "X_test = newdf_test.drop(['labels2','labels5'], axis=1)\n",
    "Y_test = newdf_test.labels5\n",
    "\n",
    "X_DoS_test = DoS_df_test.drop(['labels2','labels5'], axis=1)\n",
    "Y_DoS_test = DoS_df_test.labels5\n",
    "X_Probe_test = Probe_df_test.drop(['labels2','labels5'], axis=1)\n",
    "Y_Probe_test = Probe_df_test.labels5\n",
    "X_R2L_test = R2L_df_test.drop(['labels2','labels5'], axis=1)\n",
    "Y_R2L_test = R2L_df_test.labels5\n",
    "X_U2R_test = U2R_df_test.drop(['labels2','labels5'], axis=1)\n",
    "Y_U2R_test = U2R_df_test.labels5\n",
    "\n",
    "colNames = list(X_DoS)\n",
    "colNames_test = list(X_DoS_test)"
   ]
  },
  {
   "cell_type": "markdown",
   "metadata": {},
   "source": [
    "Dùng StandardScaler() và MinMaxScaler() để scale dataframes"
   ]
  },
  {
   "cell_type": "code",
   "execution_count": 32,
   "metadata": {},
   "outputs": [],
   "source": [
    "# Scale dữ liệu sẽ chuyển dữ liệu tỷ lệ hoặc định dạng dữ liệu về cùng một phạm vi để tránh việc các dữ liệu quá lớn ảnh hưởng tới model\n",
    "# Scale dữ liệu cho từng feature numeric với train dataset\n",
    "# Scale bằng MinMaxScaler để tránh giá trị âm\n",
    "# Ở đây chỉ cần scale các numeric features, các thuộc tính số bởi chỉ các thuộc tính số mới có range lớn\n",
    "def scaleStandardData(dataFrame, numeric_cols):\n",
    "  scaler = preprocessing.StandardScaler()\n",
    "  for col in numeric_cols:\n",
    "    arr = dataFrame[col]\n",
    "    arr = np.array(arr)\n",
    "    dataFrame[col] = scaler.fit_transform(arr.reshape(len(arr),1))\n",
    "  return dataFrame\n",
    "\n",
    "def scaleMinMaxData(dataFrame, numeric_cols):\n",
    "  scaler = preprocessing.MinMaxScaler()\n",
    "  for col in numeric_cols:\n",
    "    arr = dataFrame[col]\n",
    "    arr = np.array(arr)\n",
    "    dataFrame[col] = scaler.fit_transform(arr.reshape(len(arr),1))\n",
    "  return dataFrame\n",
    "\n",
    "def scaleData(dataFrame, numeric_cols):\n",
    "  dataFrame = scaleStandardData(dataFrame, numeric_cols)\n",
    "  dataFrame = scaleMinMaxData(dataFrame, numeric_cols)\n",
    "  return dataFrame"
   ]
  },
  {
   "cell_type": "code",
   "execution_count": 33,
   "metadata": {},
   "outputs": [],
   "source": [
    "# Scale cho dữ liệu chung\n",
    "X_train = scaleData(X_train, numeric_features)\n",
    "X_test = scaleData(X_test, numeric_features)"
   ]
  },
  {
   "cell_type": "code",
   "execution_count": 34,
   "metadata": {},
   "outputs": [],
   "source": [
    "# Scale dữ liệu cho từng loại tấn công\n",
    "X_DoS = scaleData(X_DoS, numeric_features)\n",
    "X_Probe = scaleData(X_Probe, numeric_features)\n",
    "X_R2L = scaleData(X_R2L, numeric_features)\n",
    "X_U2R = scaleData(X_U2R, numeric_features)\n",
    "# scaler1 = preprocessing.StandardScaler().fit(X_DoS)\n",
    "# X_DoS=scaler1.transform(X_DoS) \n",
    "# scaler2 = preprocessing.StandardScaler().fit(X_Probe)\n",
    "# X_Probe=scaler2.transform(X_Probe) \n",
    "# scaler3 = preprocessing.StandardScaler().fit(X_R2L)\n",
    "# X_R2L=scaler3.transform(X_R2L) \n",
    "# scaler4 = preprocessing.StandardScaler().fit(X_U2R)\n",
    "# X_U2R=scaler4.transform(X_U2R) \n",
    "\n",
    "# test data\n",
    "X_DoS_test = scaleData(X_DoS_test, numeric_features)\n",
    "X_Probe_test = scaleData(X_Probe_test, numeric_features)\n",
    "X_R2L_test = scaleData(X_R2L_test, numeric_features)\n",
    "X_U2R_test = scaleData(X_U2R_test, numeric_features)\n",
    "# scaler5 = preprocessing.StandardScaler().fit(X_DoS_test)\n",
    "# X_DoS_test=scaler5.transform(X_DoS_test) \n",
    "# scaler6 = preprocessing.StandardScaler().fit(X_Probe_test)\n",
    "# X_Probe_test=scaler6.transform(X_Probe_test) \n",
    "# scaler7 = preprocessing.StandardScaler().fit(X_R2L_test)\n",
    "# X_R2L_test=scaler7.transform(X_R2L_test) \n",
    "# scaler8 = preprocessing.StandardScaler().fit(X_U2R_test)\n",
    "# X_U2R_test=scaler8.transform(X_U2R_test)"
   ]
  },
  {
   "cell_type": "code",
   "execution_count": 35,
   "metadata": {},
   "outputs": [
    {
     "name": "stdout",
     "output_type": "stream",
     "text": [
      "duration          0.060700\n",
      "src_bytes         0.004254\n",
      "dst_bytes         0.003070\n",
      "land              0.014086\n",
      "wrong_fragment    0.084510\n",
      "                    ...   \n",
      "flag_S1           0.053750\n",
      "flag_S2           0.031736\n",
      "flag_S3           0.019719\n",
      "flag_SF           0.490908\n",
      "flag_SH           0.046332\n",
      "Length: 122, dtype: float64\n"
     ]
    }
   ],
   "source": [
    "# print(X_DoS.std(axis=0))\n",
    "print(X_train.std())"
   ]
  },
  {
   "cell_type": "markdown",
   "metadata": {},
   "source": [
    "# END: DATA PROCESSING"
   ]
  },
  {
   "cell_type": "markdown",
   "metadata": {},
   "source": [
    "# START: FEATURE SELECTION"
   ]
  },
  {
   "cell_type": "markdown",
   "metadata": {},
   "source": [
    "Sử dụng Recursive feature elimination làm phương pháp trích chọn đặc trưng"
   ]
  },
  {
   "cell_type": "code",
   "execution_count": 36,
   "metadata": {},
   "outputs": [],
   "source": [
    "from sklearn.feature_selection import RFE\n",
    "from sklearn.tree import DecisionTreeClassifier\n",
    "\n",
    "# Áp dụng RFE để loại bỏ các feature có tác động yếu tới dữ liệu\n",
    "# RFE áp dụng thuật toán cây quyết định để tìm ra các feature có tác động yếu\n",
    "# Trong bài báo cáo chọn ra 30 feature có độ tác động lớn nhất\n",
    "clf = DecisionTreeClassifier(random_state=0)\n",
    "rfe = RFE(estimator=clf, n_features_to_select=30, step=1)"
   ]
  },
  {
   "cell_type": "code",
   "execution_count": 37,
   "metadata": {},
   "outputs": [],
   "source": [
    "# Đối với toàn bộ train dataset\n",
    "rfe.fit(X_train, Y_train.astype(int))\n",
    "X_rfeTrain=rfe.transform(X_train)\n",
    "true=rfe.support_\n",
    "rfecolindex_train=[i for i, x in enumerate(true) if x]\n",
    "rfecolname_train=list(colNames[i] for i in rfecolindex_train)"
   ]
  },
  {
   "cell_type": "code",
   "execution_count": 38,
   "metadata": {},
   "outputs": [],
   "source": [
    "# Đối với DOS dataset\n",
    "rfe.fit(X_DoS, Y_DoS.astype(int))\n",
    "X_rfeDoS=rfe.transform(X_DoS)\n",
    "true=rfe.support_\n",
    "rfecolindex_DoS=[i for i, x in enumerate(true) if x]\n",
    "rfecolname_DoS=list(colNames[i] for i in rfecolindex_DoS)"
   ]
  },
  {
   "cell_type": "code",
   "execution_count": 39,
   "metadata": {},
   "outputs": [],
   "source": [
    "# Đối với Probe dataset\n",
    "rfe.fit(X_Probe, Y_Probe.astype(int))\n",
    "X_rfeProbe=rfe.transform(X_Probe)\n",
    "true=rfe.support_\n",
    "rfecolindex_Probe=[i for i, x in enumerate(true) if x]\n",
    "rfecolname_Probe=list(colNames[i] for i in rfecolindex_Probe)"
   ]
  },
  {
   "cell_type": "code",
   "execution_count": 40,
   "metadata": {},
   "outputs": [],
   "source": [
    "# Đối với R2L dataset\n",
    "rfe.fit(X_R2L, Y_R2L.astype(int))\n",
    "X_rfeR2L=rfe.transform(X_R2L)\n",
    "true=rfe.support_\n",
    "rfecolindex_R2L=[i for i, x in enumerate(true) if x]\n",
    "rfecolname_R2L=list(colNames[i] for i in rfecolindex_R2L)"
   ]
  },
  {
   "cell_type": "code",
   "execution_count": 41,
   "metadata": {},
   "outputs": [],
   "source": [
    "# Đối với U2R dataset\n",
    "rfe.fit(X_U2R, Y_U2R.astype(int))\n",
    "X_rfeU2R=rfe.transform(X_U2R)\n",
    "true=rfe.support_\n",
    "rfecolindex_U2R=[i for i, x in enumerate(true) if x]\n",
    "rfecolname_U2R=list(colNames[i] for i in rfecolindex_U2R)"
   ]
  },
  {
   "cell_type": "code",
   "execution_count": 42,
   "metadata": {},
   "outputs": [
    {
     "name": "stdout",
     "output_type": "stream",
     "text": [
      "Features selected for Train: ['duration', 'src_bytes', 'dst_bytes', 'wrong_fragment', 'hot', 'num_failed_logins', 'num_compromised', 'num_file_creations', 'count', 'same_srv_rate', 'diff_srv_rate', 'dst_host_count', 'dst_host_srv_count', 'dst_host_same_srv_rate', 'dst_host_diff_srv_rate', 'dst_host_same_src_port_rate', 'dst_host_srv_diff_host_rate', 'dst_host_serror_rate', 'dst_host_srv_serror_rate', 'dst_host_rerror_rate', 'dst_host_srv_rerror_rate', 'Protocol_type_icmp', 'service_eco_i', 'service_ftp_data', 'service_other', 'service_private', 'flag_RSTR', 'flag_S0', 'flag_SF', 'flag_SH']\n",
      "\n",
      "Features selected for DoS: ['src_bytes', 'dst_bytes', 'land', 'wrong_fragment', 'urgent', 'hot', 'num_failed_logins', 'logged_in', 'num_compromised', 'num_root', 'srv_count', 'same_srv_rate', 'diff_srv_rate', 'srv_diff_host_rate', 'dst_host_count', 'dst_host_srv_count', 'dst_host_same_srv_rate', 'dst_host_diff_srv_rate', 'dst_host_srv_diff_host_rate', 'dst_host_serror_rate', 'dst_host_srv_serror_rate', 'dst_host_rerror_rate', 'dst_host_srv_rerror_rate', 'service_ecr_i', 'service_private', 'service_tim_i', 'flag_RSTR', 'flag_S0', 'flag_S3', 'flag_SF']\n",
      "\n",
      "Features selected for Probe: ['duration', 'src_bytes', 'dst_bytes', 'logged_in', 'count', 'srv_count', 'same_srv_rate', 'diff_srv_rate', 'srv_diff_host_rate', 'dst_host_count', 'dst_host_srv_count', 'dst_host_same_srv_rate', 'dst_host_diff_srv_rate', 'dst_host_same_src_port_rate', 'dst_host_srv_diff_host_rate', 'dst_host_serror_rate', 'dst_host_srv_serror_rate', 'dst_host_rerror_rate', 'Protocol_type_udp', 'service_eco_i', 'service_ecr_i', 'service_ftp_data', 'service_gopher', 'service_http', 'service_other', 'service_private', 'service_supdup', 'flag_REJ', 'flag_RSTR', 'flag_SH']\n",
      "\n",
      "Features selected for R2L: ['duration', 'src_bytes', 'dst_bytes', 'land', 'wrong_fragment', 'urgent', 'hot', 'num_failed_logins', 'logged_in', 'num_root', 'num_file_creations', 'num_shells', 'num_access_files', 'num_outbound_cmds', 'is_host_login', 'is_guest_login', 'count', 'srv_count', 'srv_diff_host_rate', 'dst_host_count', 'dst_host_srv_count', 'dst_host_same_srv_rate', 'dst_host_same_src_port_rate', 'dst_host_srv_diff_host_rate', 'dst_host_serror_rate', 'dst_host_srv_serror_rate', 'service_ftp_data', 'service_imap4', 'service_ldap', 'service_login']\n",
      "\n",
      "Features selected for U2R: ['duration', 'src_bytes', 'dst_bytes', 'land', 'wrong_fragment', 'urgent', 'hot', 'num_failed_logins', 'logged_in', 'num_compromised', 'root_shell', 'num_file_creations', 'num_shells', 'srv_count', 'dst_host_count', 'dst_host_srv_count', 'dst_host_same_srv_rate', 'dst_host_srv_diff_host_rate', 'Protocol_type_udp', 'service_ftp_data', 'service_http', 'service_imap4', 'service_kshell', 'service_ldap', 'service_other', 'service_ssh', 'service_sunrpc', 'service_supdup', 'service_systat', 'service_telnet']\n"
     ]
    }
   ],
   "source": [
    "print('Features selected for Train:',rfecolname_train)\n",
    "print()\n",
    "print('Features selected for DoS:',rfecolname_DoS)\n",
    "print()\n",
    "print('Features selected for Probe:',rfecolname_Probe)\n",
    "print()\n",
    "print('Features selected for R2L:',rfecolname_R2L)\n",
    "print()\n",
    "print('Features selected for U2R:',rfecolname_U2R)"
   ]
  },
  {
   "cell_type": "markdown",
   "metadata": {},
   "source": [
    "Từ bây giờ sẽ sử dụng dữ liệu đã được áp dụng RFE: X_rfeTrain, X_rfeDoS, X_rfeProbe, X_rfeR2L, X_rfeU2R"
   ]
  },
  {
   "cell_type": "code",
   "execution_count": 43,
   "metadata": {},
   "outputs": [],
   "source": [
    "X_rfeTest = X_test[rfecolname_train].copy()\n",
    "X_rfeDoS_test = X_DoS_test[rfecolname_DoS].copy()\n",
    "X_rfeProbe_test = X_Probe_test[rfecolname_Probe].copy()\n",
    "X_rfeR2L_test = X_R2L_test[rfecolname_R2L].copy()\n",
    "X_rfeU2R_test = X_U2R_test[rfecolname_U2R].copy()"
   ]
  },
  {
   "cell_type": "markdown",
   "metadata": {},
   "source": [
    "# END: FEATURE SELECTION"
   ]
  },
  {
   "cell_type": "markdown",
   "metadata": {},
   "source": [
    "# START: FEATURE EXTRACTION"
   ]
  },
  {
   "cell_type": "markdown",
   "metadata": {},
   "source": [
    "Sử dụng PCA làm phương pháp trích xuất đặc trưng, giảm chiều dữ liệu từ 30 feature xuống 15 feature"
   ]
  },
  {
   "cell_type": "markdown",
   "metadata": {},
   "source": [
    "Trích xuất đặc trưng trên toàn bộ dataset"
   ]
  },
  {
   "cell_type": "code",
   "execution_count": 44,
   "metadata": {},
   "outputs": [],
   "source": [
    "from sklearn.decomposition import PCA\n",
    "pca = PCA(n_components=15)\n",
    "X_pcaTrain = pca.fit_transform(X_rfeTrain)\n",
    "X_pcaTest = pca.fit_transform(X_rfeTest)"
   ]
  },
  {
   "cell_type": "code",
   "execution_count": 45,
   "metadata": {},
   "outputs": [
    {
     "name": "stdout",
     "output_type": "stream",
     "text": [
      "(125973, 30)\n",
      "(125973, 15)\n",
      "(22544, 30)\n",
      "(22544, 15)\n"
     ]
    }
   ],
   "source": [
    "print(X_rfeTrain.shape)\n",
    "print(X_pcaTrain.shape)\n",
    "print(X_rfeTest.shape)\n",
    "print(X_pcaTest.shape)"
   ]
  },
  {
   "cell_type": "markdown",
   "metadata": {},
   "source": [
    "Trích xuất đặc trưng trên DoS dataset"
   ]
  },
  {
   "cell_type": "code",
   "execution_count": 46,
   "metadata": {},
   "outputs": [
    {
     "name": "stdout",
     "output_type": "stream",
     "text": [
      "(113270, 30)\n",
      "(113270, 15)\n"
     ]
    }
   ],
   "source": [
    "X_pcaDoS = pca.fit_transform(X_rfeDoS)\n",
    "X_pcaDoS_test = pca.fit_transform(X_rfeDoS_test)\n",
    "print(X_rfeDoS.shape)\n",
    "print(X_pcaDoS.shape)"
   ]
  },
  {
   "cell_type": "markdown",
   "metadata": {},
   "source": [
    "Trích xuất đặc trưng trên Probe dataset"
   ]
  },
  {
   "cell_type": "code",
   "execution_count": 47,
   "metadata": {},
   "outputs": [
    {
     "name": "stdout",
     "output_type": "stream",
     "text": [
      "(78999, 30)\n",
      "(78999, 15)\n"
     ]
    }
   ],
   "source": [
    "X_pcaProbe = pca.fit_transform(X_rfeProbe)\n",
    "X_pcaProbe_test = pca.fit_transform(X_rfeProbe_test)\n",
    "print(X_rfeProbe.shape)\n",
    "print(X_pcaProbe.shape)"
   ]
  },
  {
   "cell_type": "markdown",
   "metadata": {},
   "source": [
    "Trích xuất đặc trưng trên R2L dataset"
   ]
  },
  {
   "cell_type": "code",
   "execution_count": 48,
   "metadata": {},
   "outputs": [
    {
     "name": "stdout",
     "output_type": "stream",
     "text": [
      "(68338, 30)\n",
      "(68338, 15)\n"
     ]
    }
   ],
   "source": [
    "X_pcaR2L = pca.fit_transform(X_rfeR2L)\n",
    "X_pcaR2L_test = pca.fit_transform(X_rfeR2L_test)\n",
    "print(X_rfeR2L.shape)\n",
    "print(X_pcaR2L.shape)"
   ]
  },
  {
   "cell_type": "markdown",
   "metadata": {},
   "source": [
    "Trích xuất đặc trưng trên U2R dataset"
   ]
  },
  {
   "cell_type": "code",
   "execution_count": 49,
   "metadata": {},
   "outputs": [
    {
     "name": "stdout",
     "output_type": "stream",
     "text": [
      "(67395, 30)\n",
      "(67395, 15)\n"
     ]
    }
   ],
   "source": [
    "X_pcaU2R = pca.fit_transform(X_rfeU2R)\n",
    "X_pcaU2R_test = pca.fit_transform(X_rfeU2R_test)\n",
    "print(X_rfeU2R.shape)\n",
    "print(X_pcaU2R.shape)"
   ]
  },
  {
   "cell_type": "markdown",
   "metadata": {},
   "source": [
    "# END: FEATURE EXTRACTION"
   ]
  },
  {
   "cell_type": "markdown",
   "metadata": {},
   "source": [
    "# START: KMEANS CLUSTERING"
   ]
  },
  {
   "cell_type": "code",
   "execution_count": 50,
   "metadata": {},
   "outputs": [
    {
     "name": "stdout",
     "output_type": "stream",
     "text": [
      "(125973, 15)\n",
      "15\n"
     ]
    }
   ],
   "source": [
    "print(X_pcaTrain.shape)\n",
    "states = X_pcaTrain.shape[1]\n",
    "print(states)"
   ]
  },
  {
   "cell_type": "markdown",
   "metadata": {},
   "source": [
    "Sử dụng phương pháp Elbow để xác định số lượng cluster cho mô hình KMeans. Phương pháp elbow dựa vào biểu đồ quán tính để xác định điểm elbow - điểm mà bắt đầu khiến đồ thị có xu hướng giảm dần theo 1 gần song song với trục hoành"
   ]
  },
  {
   "cell_type": "code",
   "execution_count": 51,
   "metadata": {},
   "outputs": [],
   "source": [
    "import warnings\n",
    "# Tắt future warning\n",
    "warnings.filterwarnings(\"ignore\")"
   ]
  },
  {
   "cell_type": "markdown",
   "metadata": {},
   "source": [
    "# Train model KMeans trên toàn bộ dataset"
   ]
  },
  {
   "cell_type": "code",
   "execution_count": 52,
   "metadata": {},
   "outputs": [
    {
     "data": {
      "image/png": "[encoded data removed]",
      "text/plain": [
       "<Figure size 640x480 with 1 Axes>"
      ]
     },
     "metadata": {},
     "output_type": "display_data"
    }
   ],
   "source": [
    "from sklearn.cluster import KMeans\n",
    "wcss = []\n",
    "for k in range(1,21):\n",
    "    model = KMeans(n_clusters=k, random_state=states)\n",
    "    model.fit(X_pcaTrain)\n",
    "    model.fit_predict(X_pcaTest)\n",
    "    wcss.append(model.inertia_)\n",
    "\n",
    "plt.plot(range(1,21), wcss)\n",
    "plt.title(\"Elbow method\")\n",
    "plt.xlabel(\"Number of clusters\")\n",
    "plt.ylabel(\"WCSS\")\n",
    "plt.show()   "
   ]
  },
  {
   "cell_type": "markdown",
   "metadata": {},
   "source": [
    "Dựa vào biểu đồ trên, chọn 12 cluster"
   ]
  },
  {
   "cell_type": "code",
   "execution_count": 53,
   "metadata": {},
   "outputs": [
    {
     "data": {
      "text/plain": [
       "(125973, 15)"
      ]
     },
     "execution_count": 53,
     "metadata": {},
     "output_type": "execute_result"
    }
   ],
   "source": [
    "X_pcaTrain.shape"
   ]
  },
  {
   "cell_type": "code",
   "execution_count": 54,
   "metadata": {},
   "outputs": [
    {
     "data": {
      "text/html": [
       "<div>\n",
       "<style scoped>\n",
       "    .dataframe tbody tr th:only-of-type {\n",
       "        vertical-align: middle;\n",
       "    }\n",
       "\n",
       "    .dataframe tbody tr th {\n",
       "        vertical-align: top;\n",
       "    }\n",
       "\n",
       "    .dataframe thead th {\n",
       "        text-align: right;\n",
       "    }\n",
       "</style>\n",
       "<table border=\"1\" class=\"dataframe\">\n",
       "  <thead>\n",
       "    <tr style=\"text-align: right;\">\n",
       "      <th>Clusters</th>\n",
       "      <th>0</th>\n",
       "      <th>1</th>\n",
       "      <th>2</th>\n",
       "      <th>3</th>\n",
       "      <th>4</th>\n",
       "      <th>5</th>\n",
       "      <th>6</th>\n",
       "      <th>7</th>\n",
       "      <th>8</th>\n",
       "      <th>9</th>\n",
       "      <th>10</th>\n",
       "      <th>11</th>\n",
       "    </tr>\n",
       "    <tr>\n",
       "      <th>Types of attack</th>\n",
       "      <th></th>\n",
       "      <th></th>\n",
       "      <th></th>\n",
       "      <th></th>\n",
       "      <th></th>\n",
       "      <th></th>\n",
       "      <th></th>\n",
       "      <th></th>\n",
       "      <th></th>\n",
       "      <th></th>\n",
       "      <th></th>\n",
       "      <th></th>\n",
       "    </tr>\n",
       "  </thead>\n",
       "  <tbody>\n",
       "    <tr>\n",
       "      <th>0</th>\n",
       "      <td>697</td>\n",
       "      <td>10</td>\n",
       "      <td>2</td>\n",
       "      <td>567</td>\n",
       "      <td>3831</td>\n",
       "      <td>3999</td>\n",
       "      <td>62</td>\n",
       "      <td>139</td>\n",
       "      <td>0</td>\n",
       "      <td>56</td>\n",
       "      <td>336</td>\n",
       "      <td>12</td>\n",
       "    </tr>\n",
       "    <tr>\n",
       "      <th>1</th>\n",
       "      <td>4</td>\n",
       "      <td>1972</td>\n",
       "      <td>1494</td>\n",
       "      <td>392</td>\n",
       "      <td>0</td>\n",
       "      <td>754</td>\n",
       "      <td>1165</td>\n",
       "      <td>0</td>\n",
       "      <td>0</td>\n",
       "      <td>677</td>\n",
       "      <td>0</td>\n",
       "      <td>1002</td>\n",
       "    </tr>\n",
       "    <tr>\n",
       "      <th>2</th>\n",
       "      <td>0</td>\n",
       "      <td>206</td>\n",
       "      <td>247</td>\n",
       "      <td>114</td>\n",
       "      <td>0</td>\n",
       "      <td>1</td>\n",
       "      <td>747</td>\n",
       "      <td>320</td>\n",
       "      <td>534</td>\n",
       "      <td>235</td>\n",
       "      <td>0</td>\n",
       "      <td>17</td>\n",
       "    </tr>\n",
       "    <tr>\n",
       "      <th>3</th>\n",
       "      <td>487</td>\n",
       "      <td>0</td>\n",
       "      <td>0</td>\n",
       "      <td>866</td>\n",
       "      <td>187</td>\n",
       "      <td>746</td>\n",
       "      <td>122</td>\n",
       "      <td>0</td>\n",
       "      <td>0</td>\n",
       "      <td>3</td>\n",
       "      <td>458</td>\n",
       "      <td>16</td>\n",
       "    </tr>\n",
       "    <tr>\n",
       "      <th>4</th>\n",
       "      <td>0</td>\n",
       "      <td>0</td>\n",
       "      <td>0</td>\n",
       "      <td>44</td>\n",
       "      <td>5</td>\n",
       "      <td>3</td>\n",
       "      <td>0</td>\n",
       "      <td>0</td>\n",
       "      <td>0</td>\n",
       "      <td>0</td>\n",
       "      <td>15</td>\n",
       "      <td>0</td>\n",
       "    </tr>\n",
       "  </tbody>\n",
       "</table>\n",
       "</div>"
      ],
      "text/plain": [
       "Clusters          0     1     2    3     4     5     6    7    8    9    10  \\\n",
       "Types of attack                                                               \n",
       "0                697    10     2  567  3831  3999    62  139    0   56  336   \n",
       "1                  4  1972  1494  392     0   754  1165    0    0  677    0   \n",
       "2                  0   206   247  114     0     1   747  320  534  235    0   \n",
       "3                487     0     0  866   187   746   122    0    0    3  458   \n",
       "4                  0     0     0   44     5     3     0    0    0    0   15   \n",
       "\n",
       "Clusters           11  \n",
       "Types of attack        \n",
       "0                  12  \n",
       "1                1002  \n",
       "2                  17  \n",
       "3                  16  \n",
       "4                   0  "
      ]
     },
     "execution_count": 54,
     "metadata": {},
     "output_type": "execute_result"
    }
   ],
   "source": [
    "from sklearn.cluster import KMeans\n",
    "model = KMeans(n_clusters=12, random_state=states)\n",
    "model.fit(X_pcaTrain)\n",
    "Train_kmeansPredict = model.fit_predict(X_pcaTest)\n",
    "pd.crosstab(Y_test, Train_kmeansPredict, rownames=['Types of attack'], colnames=['Clusters'])"
   ]
  },
  {
   "cell_type": "markdown",
   "metadata": {},
   "source": [
    "Từ bảng trên, rút ra kết luận, với toàn bộ dataset, ứng dụng KMeans với 12 cluster, các cluster 1, 2, 3, 6, 7, 8, 9, 10, 11 là các cluster tấn công, các cluster 0, 4, 5 là các cluster normal"
   ]
  },
  {
   "cell_type": "markdown",
   "metadata": {},
   "source": [
    "# Train model KMeans trên DoS dataset"
   ]
  },
  {
   "cell_type": "code",
   "execution_count": 55,
   "metadata": {},
   "outputs": [
    {
     "data": {
      "image/png": "[encoded data removed]",
      "text/plain": [
       "<Figure size 640x480 with 1 Axes>"
      ]
     },
     "metadata": {},
     "output_type": "display_data"
    }
   ],
   "source": [
    "from sklearn.cluster import KMeans\n",
    "wcss = []\n",
    "for k in range(1,21):\n",
    "    model = KMeans(n_clusters=k, random_state=states)\n",
    "    model.fit(X_pcaDoS)\n",
    "    model.fit_predict(X_pcaDoS_test)\n",
    "    wcss.append(model.inertia_)\n",
    "\n",
    "plt.plot(range(1,21), wcss)\n",
    "plt.title(\"Elbow method\")\n",
    "plt.xlabel(\"Number of clusters\")\n",
    "plt.ylabel(\"WCSS\")\n",
    "plt.show()   "
   ]
  },
  {
   "cell_type": "markdown",
   "metadata": {},
   "source": [
    "Dựa vào biểu đồ trên chọn 8 cluster"
   ]
  },
  {
   "cell_type": "code",
   "execution_count": 56,
   "metadata": {},
   "outputs": [
    {
     "data": {
      "text/plain": [
       "(17171, 15)"
      ]
     },
     "execution_count": 56,
     "metadata": {},
     "output_type": "execute_result"
    }
   ],
   "source": [
    "X_pcaDoS_test.shape"
   ]
  },
  {
   "cell_type": "code",
   "execution_count": 57,
   "metadata": {},
   "outputs": [
    {
     "data": {
      "text/html": [
       "<div>\n",
       "<style scoped>\n",
       "    .dataframe tbody tr th:only-of-type {\n",
       "        vertical-align: middle;\n",
       "    }\n",
       "\n",
       "    .dataframe tbody tr th {\n",
       "        vertical-align: top;\n",
       "    }\n",
       "\n",
       "    .dataframe thead th {\n",
       "        text-align: right;\n",
       "    }\n",
       "</style>\n",
       "<table border=\"1\" class=\"dataframe\">\n",
       "  <thead>\n",
       "    <tr style=\"text-align: right;\">\n",
       "      <th>Clusters</th>\n",
       "      <th>0</th>\n",
       "      <th>1</th>\n",
       "      <th>2</th>\n",
       "      <th>3</th>\n",
       "      <th>4</th>\n",
       "      <th>5</th>\n",
       "      <th>6</th>\n",
       "      <th>7</th>\n",
       "    </tr>\n",
       "    <tr>\n",
       "      <th>Types of attack</th>\n",
       "      <th></th>\n",
       "      <th></th>\n",
       "      <th></th>\n",
       "      <th></th>\n",
       "      <th></th>\n",
       "      <th></th>\n",
       "      <th></th>\n",
       "      <th></th>\n",
       "    </tr>\n",
       "  </thead>\n",
       "  <tbody>\n",
       "    <tr>\n",
       "      <th>0</th>\n",
       "      <td>1</td>\n",
       "      <td>3859</td>\n",
       "      <td>11</td>\n",
       "      <td>1490</td>\n",
       "      <td>963</td>\n",
       "      <td>55</td>\n",
       "      <td>0</td>\n",
       "      <td>3332</td>\n",
       "    </tr>\n",
       "    <tr>\n",
       "      <th>1</th>\n",
       "      <td>1538</td>\n",
       "      <td>0</td>\n",
       "      <td>1973</td>\n",
       "      <td>1139</td>\n",
       "      <td>588</td>\n",
       "      <td>1164</td>\n",
       "      <td>537</td>\n",
       "      <td>521</td>\n",
       "    </tr>\n",
       "  </tbody>\n",
       "</table>\n",
       "</div>"
      ],
      "text/plain": [
       "Clusters            0     1     2     3    4     5    6     7\n",
       "Types of attack                                              \n",
       "0                   1  3859    11  1490  963    55    0  3332\n",
       "1                1538     0  1973  1139  588  1164  537   521"
      ]
     },
     "execution_count": 57,
     "metadata": {},
     "output_type": "execute_result"
    }
   ],
   "source": [
    "DoS_model = KMeans(n_clusters=8, random_state=states)\n",
    "DoS_model.fit(X_pcaDoS)\n",
    "DoS_kmeansPredict = DoS_model.fit_predict(X_pcaDoS_test)\n",
    "pd.crosstab(Y_DoS_test, DoS_kmeansPredict, rownames=['Types of attack'], colnames=['Clusters'])"
   ]
  },
  {
   "cell_type": "markdown",
   "metadata": {},
   "source": [
    "Từ bảng trên, rút ra kết luận, với DoS dataset, ứng dụng KMeans với 8 cluster, các cluster 0, 2, 5, 6 là các cluster tấn công, các cluster 1, 3, 4, 7 là các cluster normal"
   ]
  },
  {
   "cell_type": "markdown",
   "metadata": {},
   "source": [
    "# Train model KMeans trên Probe dataset"
   ]
  },
  {
   "cell_type": "code",
   "execution_count": 58,
   "metadata": {},
   "outputs": [
    {
     "data": {
      "image/png": "[encoded data removed]",
      "text/plain": [
       "<Figure size 640x480 with 1 Axes>"
      ]
     },
     "metadata": {},
     "output_type": "display_data"
    }
   ],
   "source": [
    "from sklearn.cluster import KMeans\n",
    "wcss = []\n",
    "for k in range(1,21):\n",
    "    model = KMeans(n_clusters=k, random_state=states)\n",
    "    model.fit(X_pcaProbe)\n",
    "    model.fit_predict(X_pcaProbe_test)\n",
    "    wcss.append(model.inertia_)\n",
    "\n",
    "plt.plot(range(1,21), wcss)\n",
    "plt.title(\"Elbow method\")\n",
    "plt.xlabel(\"Number of clusters\")\n",
    "plt.ylabel(\"WCSS\")\n",
    "plt.show()   "
   ]
  },
  {
   "cell_type": "markdown",
   "metadata": {},
   "source": [
    "Dựa vào biểu đồ trên chọn 9 cluster"
   ]
  },
  {
   "cell_type": "code",
   "execution_count": 59,
   "metadata": {},
   "outputs": [
    {
     "data": {
      "text/plain": [
       "(12132, 15)"
      ]
     },
     "execution_count": 59,
     "metadata": {},
     "output_type": "execute_result"
    }
   ],
   "source": [
    "X_pcaProbe_test.shape"
   ]
  },
  {
   "cell_type": "code",
   "execution_count": 60,
   "metadata": {},
   "outputs": [
    {
     "data": {
      "text/html": [
       "<div>\n",
       "<style scoped>\n",
       "    .dataframe tbody tr th:only-of-type {\n",
       "        vertical-align: middle;\n",
       "    }\n",
       "\n",
       "    .dataframe tbody tr th {\n",
       "        vertical-align: top;\n",
       "    }\n",
       "\n",
       "    .dataframe thead th {\n",
       "        text-align: right;\n",
       "    }\n",
       "</style>\n",
       "<table border=\"1\" class=\"dataframe\">\n",
       "  <thead>\n",
       "    <tr style=\"text-align: right;\">\n",
       "      <th>Clusters</th>\n",
       "      <th>0</th>\n",
       "      <th>1</th>\n",
       "      <th>2</th>\n",
       "      <th>3</th>\n",
       "      <th>4</th>\n",
       "      <th>5</th>\n",
       "      <th>6</th>\n",
       "      <th>7</th>\n",
       "      <th>8</th>\n",
       "    </tr>\n",
       "    <tr>\n",
       "      <th>Types of attack</th>\n",
       "      <th></th>\n",
       "      <th></th>\n",
       "      <th></th>\n",
       "      <th></th>\n",
       "      <th></th>\n",
       "      <th></th>\n",
       "      <th></th>\n",
       "      <th></th>\n",
       "      <th></th>\n",
       "    </tr>\n",
       "  </thead>\n",
       "  <tbody>\n",
       "    <tr>\n",
       "      <th>0</th>\n",
       "      <td>103</td>\n",
       "      <td>3523</td>\n",
       "      <td>1114</td>\n",
       "      <td>183</td>\n",
       "      <td>3138</td>\n",
       "      <td>43</td>\n",
       "      <td>439</td>\n",
       "      <td>1168</td>\n",
       "      <td>0</td>\n",
       "    </tr>\n",
       "    <tr>\n",
       "      <th>2</th>\n",
       "      <td>236</td>\n",
       "      <td>0</td>\n",
       "      <td>2</td>\n",
       "      <td>518</td>\n",
       "      <td>0</td>\n",
       "      <td>732</td>\n",
       "      <td>0</td>\n",
       "      <td>324</td>\n",
       "      <td>609</td>\n",
       "    </tr>\n",
       "  </tbody>\n",
       "</table>\n",
       "</div>"
      ],
      "text/plain": [
       "Clusters           0     1     2    3     4    5    6     7    8\n",
       "Types of attack                                                 \n",
       "0                103  3523  1114  183  3138   43  439  1168    0\n",
       "2                236     0     2  518     0  732    0   324  609"
      ]
     },
     "execution_count": 60,
     "metadata": {},
     "output_type": "execute_result"
    }
   ],
   "source": [
    "Probe_model = KMeans(n_clusters=9, random_state=states)\n",
    "Probe_model.fit(X_pcaProbe)\n",
    "Probe_kmeansPredict = Probe_model.fit_predict(X_pcaProbe_test)\n",
    "pd.crosstab(Y_Probe_test, Probe_kmeansPredict, rownames=['Types of attack'], colnames=['Clusters'])"
   ]
  },
  {
   "cell_type": "markdown",
   "metadata": {},
   "source": [
    "Từ bảng trên, rút ra kết luận, với Probe dataset, ứng dụng KMeans với 9 cluster, các cluster 0, 3, 5, 8 là các cluster tấn công, các cluster 1, 2, 4, 6, 7 là các cluster normal"
   ]
  },
  {
   "cell_type": "markdown",
   "metadata": {},
   "source": [
    "# Train model KMeans trên R2L dataset"
   ]
  },
  {
   "cell_type": "code",
   "execution_count": 61,
   "metadata": {},
   "outputs": [
    {
     "data": {
      "image/png": "[encoded data removed]",
      "text/plain": [
       "<Figure size 640x480 with 1 Axes>"
      ]
     },
     "metadata": {},
     "output_type": "display_data"
    }
   ],
   "source": [
    "from sklearn.cluster import KMeans\n",
    "wcss = []\n",
    "for k in range(1,21):\n",
    "    model = KMeans(n_clusters=k, random_state=states)\n",
    "    model.fit(X_pcaR2L)\n",
    "    model.fit_predict(X_pcaR2L_test)\n",
    "    wcss.append(model.inertia_)\n",
    "\n",
    "plt.plot(range(1,21), wcss)\n",
    "plt.title(\"Elbow method\")\n",
    "plt.xlabel(\"Number of clusters\")\n",
    "plt.ylabel(\"WCSS\")\n",
    "plt.show()   "
   ]
  },
  {
   "cell_type": "markdown",
   "metadata": {},
   "source": [
    "Dựa vào biểu đồ trên chọn 8 cluster"
   ]
  },
  {
   "cell_type": "code",
   "execution_count": 62,
   "metadata": {},
   "outputs": [
    {
     "data": {
      "text/plain": [
       "(12596, 15)"
      ]
     },
     "execution_count": 62,
     "metadata": {},
     "output_type": "execute_result"
    }
   ],
   "source": [
    "X_pcaR2L_test.shape"
   ]
  },
  {
   "cell_type": "code",
   "execution_count": 63,
   "metadata": {},
   "outputs": [
    {
     "data": {
      "text/html": [
       "<div>\n",
       "<style scoped>\n",
       "    .dataframe tbody tr th:only-of-type {\n",
       "        vertical-align: middle;\n",
       "    }\n",
       "\n",
       "    .dataframe tbody tr th {\n",
       "        vertical-align: top;\n",
       "    }\n",
       "\n",
       "    .dataframe thead th {\n",
       "        text-align: right;\n",
       "    }\n",
       "</style>\n",
       "<table border=\"1\" class=\"dataframe\">\n",
       "  <thead>\n",
       "    <tr style=\"text-align: right;\">\n",
       "      <th>Clusters</th>\n",
       "      <th>0</th>\n",
       "      <th>1</th>\n",
       "      <th>2</th>\n",
       "      <th>3</th>\n",
       "      <th>4</th>\n",
       "      <th>5</th>\n",
       "      <th>6</th>\n",
       "      <th>7</th>\n",
       "    </tr>\n",
       "    <tr>\n",
       "      <th>Types of attack</th>\n",
       "      <th></th>\n",
       "      <th></th>\n",
       "      <th></th>\n",
       "      <th></th>\n",
       "      <th></th>\n",
       "      <th></th>\n",
       "      <th></th>\n",
       "      <th></th>\n",
       "    </tr>\n",
       "  </thead>\n",
       "  <tbody>\n",
       "    <tr>\n",
       "      <th>0</th>\n",
       "      <td>444</td>\n",
       "      <td>3541</td>\n",
       "      <td>1043</td>\n",
       "      <td>172</td>\n",
       "      <td>698</td>\n",
       "      <td>3193</td>\n",
       "      <td>146</td>\n",
       "      <td>474</td>\n",
       "    </tr>\n",
       "    <tr>\n",
       "      <th>3</th>\n",
       "      <td>1</td>\n",
       "      <td>132</td>\n",
       "      <td>718</td>\n",
       "      <td>402</td>\n",
       "      <td>385</td>\n",
       "      <td>582</td>\n",
       "      <td>656</td>\n",
       "      <td>9</td>\n",
       "    </tr>\n",
       "  </tbody>\n",
       "</table>\n",
       "</div>"
      ],
      "text/plain": [
       "Clusters           0     1     2    3    4     5    6    7\n",
       "Types of attack                                           \n",
       "0                444  3541  1043  172  698  3193  146  474\n",
       "3                  1   132   718  402  385   582  656    9"
      ]
     },
     "execution_count": 63,
     "metadata": {},
     "output_type": "execute_result"
    }
   ],
   "source": [
    "R2L_model = KMeans(n_clusters=8, random_state=states)\n",
    "R2L_model.fit(X_pcaR2L)\n",
    "R2L_kmeansPredict = R2L_model.fit_predict(X_pcaR2L_test)\n",
    "pd.crosstab(Y_R2L_test, R2L_kmeansPredict, rownames=['Types of attack'], colnames=['Clusters'])"
   ]
  },
  {
   "cell_type": "markdown",
   "metadata": {},
   "source": [
    "Từ bảng trên, rút ra kết luận, với R2L dataset, ứng dụng KMeans với 8 cluster, các cluster 3, 6 là các cluster tấn công, các cluster 0, 1, 2, 4, 5, 7 là các cluster normal"
   ]
  },
  {
   "cell_type": "markdown",
   "metadata": {},
   "source": [
    "# Train model KMeans trên U2R dataset"
   ]
  },
  {
   "cell_type": "code",
   "execution_count": 64,
   "metadata": {},
   "outputs": [
    {
     "data": {
      "image/png": "[encoded data removed]",
      "text/plain": [
       "<Figure size 640x480 with 1 Axes>"
      ]
     },
     "metadata": {},
     "output_type": "display_data"
    }
   ],
   "source": [
    "from sklearn.cluster import KMeans\n",
    "wcss = []\n",
    "for k in range(1,21):\n",
    "    model = KMeans(n_clusters=k, random_state=states)\n",
    "    model.fit(X_pcaU2R)\n",
    "    model.fit_predict(X_pcaU2R_test)\n",
    "    wcss.append(model.inertia_)\n",
    "\n",
    "plt.plot(range(1,21), wcss)\n",
    "plt.title(\"Elbow method\")\n",
    "plt.xlabel(\"Number of clusters\")\n",
    "plt.ylabel(\"WCSS\")\n",
    "plt.show()   "
   ]
  },
  {
   "cell_type": "markdown",
   "metadata": {},
   "source": [
    "Dựa vào biểu đồ trên chọn 5 cluster"
   ]
  },
  {
   "cell_type": "code",
   "execution_count": 65,
   "metadata": {},
   "outputs": [
    {
     "data": {
      "text/plain": [
       "(9778, 15)"
      ]
     },
     "execution_count": 65,
     "metadata": {},
     "output_type": "execute_result"
    }
   ],
   "source": [
    "X_pcaU2R_test.shape"
   ]
  },
  {
   "cell_type": "code",
   "execution_count": 66,
   "metadata": {},
   "outputs": [
    {
     "data": {
      "text/html": [
       "<div>\n",
       "<style scoped>\n",
       "    .dataframe tbody tr th:only-of-type {\n",
       "        vertical-align: middle;\n",
       "    }\n",
       "\n",
       "    .dataframe tbody tr th {\n",
       "        vertical-align: top;\n",
       "    }\n",
       "\n",
       "    .dataframe thead th {\n",
       "        text-align: right;\n",
       "    }\n",
       "</style>\n",
       "<table border=\"1\" class=\"dataframe\">\n",
       "  <thead>\n",
       "    <tr style=\"text-align: right;\">\n",
       "      <th>Clusters</th>\n",
       "      <th>0</th>\n",
       "      <th>1</th>\n",
       "      <th>2</th>\n",
       "      <th>3</th>\n",
       "      <th>4</th>\n",
       "    </tr>\n",
       "    <tr>\n",
       "      <th>Types of attack</th>\n",
       "      <th></th>\n",
       "      <th></th>\n",
       "      <th></th>\n",
       "      <th></th>\n",
       "      <th></th>\n",
       "    </tr>\n",
       "  </thead>\n",
       "  <tbody>\n",
       "    <tr>\n",
       "      <th>0</th>\n",
       "      <td>3125</td>\n",
       "      <td>1532</td>\n",
       "      <td>708</td>\n",
       "      <td>825</td>\n",
       "      <td>3521</td>\n",
       "    </tr>\n",
       "    <tr>\n",
       "      <th>4</th>\n",
       "      <td>0</td>\n",
       "      <td>0</td>\n",
       "      <td>52</td>\n",
       "      <td>15</td>\n",
       "      <td>0</td>\n",
       "    </tr>\n",
       "  </tbody>\n",
       "</table>\n",
       "</div>"
      ],
      "text/plain": [
       "Clusters            0     1    2    3     4\n",
       "Types of attack                            \n",
       "0                3125  1532  708  825  3521\n",
       "4                   0     0   52   15     0"
      ]
     },
     "execution_count": 66,
     "metadata": {},
     "output_type": "execute_result"
    }
   ],
   "source": [
    "U2R_model = KMeans(n_clusters=5, random_state=states)\n",
    "U2R_model.fit(X_pcaU2R)\n",
    "U2R_kmeansPredict = U2R_model.fit_predict(X_pcaU2R_test)\n",
    "pd.crosstab(Y_U2R_test, U2R_kmeansPredict, rownames=['Types of attack'], colnames=['Clusters'])"
   ]
  },
  {
   "cell_type": "markdown",
   "metadata": {},
   "source": [
    "Từ bảng trên, rút ra kết luận, với U2R dataset, ứng dụng KMeans với 5 cluster, toàn bộ cluster đều là normal"
   ]
  },
  {
   "cell_type": "markdown",
   "metadata": {},
   "source": [
    "# END: KMEANS CLUSTERING"
   ]
  }
 ],
 "metadata": {
  "kernelspec": {
   "display_name": "Python 3 (ipykernel)",
   "language": "python",
   "name": "python3"
  },
  "language_info": {
   "codemirror_mode": {
    "name": "ipython",
    "version": 3
   },
   "file_extension": ".py",
   "mimetype": "text/x-python",
   "name": "python",
   "nbconvert_exporter": "python",
   "pygments_lexer": "ipython3",
   "version": "3.10.9"
  }
 },
 "nbformat": 4,
 "nbformat_minor": 2
}
