{
 "cells": [
  {
   "cell_type": "markdown",
   "metadata": {},
   "source": [
    "Nguyen Ngoc Tieu Long"
   ]
  },
  {
   "cell_type": "code",
   "execution_count": 92,
   "metadata": {},
   "outputs": [],
   "source": [
    "import numpy as np\n",
    "import pandas as pd\n",
    "import matplotlib.pyplot as plt\n",
    "import seaborn as sns\n",
    "from sklearn.preprocessing import LabelEncoder, OneHotEncoder\n",
    "from sklearn import preprocessing\n",
    "import sklearn.metrics as metrics"
   ]
  },
  {
   "cell_type": "markdown",
   "metadata": {},
   "source": [
    "# START: DATA GATHERING"
   ]
  },
  {
   "cell_type": "code",
   "execution_count": 93,
   "metadata": {},
   "outputs": [],
   "source": [
    "# Các thuộc tính của dataset\n",
    "col_names = [\"duration\", \"protocol_type\", \"service\", \"flag\", \"src_bytes\",\n",
    "             \"dst_bytes\", \"land\", \"wrong_fragment\", \"urgent\", \"hot\", \"num_failed_logins\",\n",
    "             \"logged_in\", \"num_compromised\", \"root_shell\", \"su_attempted\", \"num_root\",\n",
    "             \"num_file_creations\", \"num_shells\", \"num_access_files\", \"num_outbound_cmds\",\n",
    "             \"is_host_login\", \"is_guest_login\", \"count\", \"srv_count\", \"serror_rate\",\n",
    "             \"srv_serror_rate\", \"rerror_rate\", \"srv_rerror_rate\", \"same_srv_rate\",\n",
    "             \"diff_srv_rate\", \"srv_diff_host_rate\", \"dst_host_count\", \"dst_host_srv_count\",\n",
    "             \"dst_host_same_srv_rate\", \"dst_host_diff_srv_rate\", \"dst_host_same_src_port_rate\",\n",
    "             \"dst_host_srv_diff_host_rate\", \"dst_host_serror_rate\", \"dst_host_srv_serror_rate\",\n",
    "             \"dst_host_rerror_rate\", \"dst_host_srv_rerror_rate\", \"label\"]"
   ]
  },
  {
   "cell_type": "code",
   "execution_count": 94,
   "metadata": {},
   "outputs": [
    {
     "name": "stdout",
     "output_type": "stream",
     "text": [
      "(125973, 42)\n",
      "(22544, 42)\n"
     ]
    }
   ],
   "source": [
    "# Load dataset\n",
    "origin_train_dataFrame = pd.read_csv(\"NSL_KDD_Train.csv\", header=None, names=col_names)\n",
    "origin_test_dataFrame = pd.read_csv(\"NSL_KDD_Test.csv\", header=None, names=col_names)\n",
    "# origin_train_dataFrame.drop(\"score\",axis=1,inplace=True)\n",
    "# origin_test_dataFrame.drop(\"score\",axis=1,inplace=True)\n",
    "print(origin_train_dataFrame.shape)\n",
    "print(origin_test_dataFrame.shape)"
   ]
  },
  {
   "cell_type": "markdown",
   "metadata": {},
   "source": [
    "Nhóm các features vào 3 nhóm"
   ]
  },
  {
   "cell_type": "code",
   "execution_count": 95,
   "metadata": {},
   "outputs": [],
   "source": [
    "# nominal features: 2 - 3 - 4\n",
    "# binary features: 7 - 12 - 14 - 15 - 21\n",
    "# Còn lại là numeric features\n",
    "nominal_features = [\"protocol_type\", \"service\", \"flag\"]\n",
    "binary_features = [\"land\", \"logged_in\", \"root_shell\",\n",
    "                   \"su_attempted\", \"is_host_login\", \"is_guest_login\"]\n",
    "numeric_features = []\n",
    "for feature in col_names:\n",
    "    if ((feature not in nominal_features) and (feature not in binary_features) and (feature != \"label\")):\n",
    "        numeric_features.append(feature)"
   ]
  },
  {
   "cell_type": "code",
   "execution_count": 96,
   "metadata": {},
   "outputs": [
    {
     "name": "stdout",
     "output_type": "stream",
     "text": [
      "Nominal feature (3): ['protocol_type', 'service', 'flag']\n",
      "Binary features (6): ['land', 'logged_in', 'root_shell', 'su_attempted', 'is_host_login', 'is_guest_login']\n",
      "Numeric features (32): ['duration', 'src_bytes', 'dst_bytes', 'wrong_fragment', 'urgent', 'hot', 'num_failed_logins', 'num_compromised', 'num_root', 'num_file_creations', 'num_shells', 'num_access_files', 'num_outbound_cmds', 'count', 'srv_count', 'serror_rate', 'srv_serror_rate', 'rerror_rate', 'srv_rerror_rate', 'same_srv_rate', 'diff_srv_rate', 'srv_diff_host_rate', 'dst_host_count', 'dst_host_srv_count', 'dst_host_same_srv_rate', 'dst_host_diff_srv_rate', 'dst_host_same_src_port_rate', 'dst_host_srv_diff_host_rate', 'dst_host_serror_rate', 'dst_host_srv_serror_rate', 'dst_host_rerror_rate', 'dst_host_srv_rerror_rate']\n"
     ]
    }
   ],
   "source": [
    "# Liệt kê các features theo từng nhóm\n",
    "print(\"Nominal feature (\", len(nominal_features), \"): \", nominal_features, sep=\"\")\n",
    "print(\"Binary features (\", len(binary_features), \"): \", binary_features, sep=\"\")\n",
    "print(\"Numeric features (\", len(numeric_features), \"): \", numeric_features, sep=\"\")"
   ]
  },
  {
   "cell_type": "markdown",
   "metadata": {},
   "source": [
    "Chia lại các record vào 4 phân lớp tấn công"
   ]
  },
  {
   "cell_type": "code",
   "execution_count": 97,
   "metadata": {},
   "outputs": [
    {
     "name": "stdout",
     "output_type": "stream",
     "text": [
      "['normal' 'neptune' 'warezclient' 'ipsweep' 'portsweep' 'teardrop' 'nmap'\n",
      " 'satan' 'smurf' 'pod' 'back' 'guess_passwd' 'ftp_write' 'multihop'\n",
      " 'rootkit' 'buffer_overflow' 'imap' 'warezmaster' 'phf' 'land'\n",
      " 'loadmodule' 'spy' 'perl']\n",
      "['neptune' 'normal' 'saint' 'mscan' 'guess_passwd' 'smurf' 'apache2'\n",
      " 'satan' 'buffer_overflow' 'back' 'warezmaster' 'snmpgetattack'\n",
      " 'processtable' 'pod' 'httptunnel' 'nmap' 'ps' 'snmpguess' 'ipsweep'\n",
      " 'mailbomb' 'portsweep' 'multihop' 'named' 'sendmail' 'loadmodule' 'xterm'\n",
      " 'worm' 'teardrop' 'rootkit' 'xlock' 'perl' 'land' 'xsnoop' 'sqlattack'\n",
      " 'ftp_write' 'imap' 'udpstorm' 'phf']\n",
      "['snmpguess', 'named', 'mailbomb', 'xterm', 'sqlattack', 'xsnoop', 'processtable', 'xlock', 'snmpgetattack', 'saint', 'mscan', 'apache2', 'udpstorm', 'sendmail', 'worm', 'ps', 'httptunnel']\n"
     ]
    }
   ],
   "source": [
    "# Xem sự phân phối các subclass\n",
    "print(origin_train_dataFrame[\"label\"].unique())\n",
    "print(origin_test_dataFrame[\"label\"].unique())\n",
    "\n",
    "trainLabels = origin_train_dataFrame[\"label\"].tolist()\n",
    "testLabels = origin_test_dataFrame[\"label\"].tolist()\n",
    "\n",
    "differentLabels = list(set(testLabels) - set(trainLabels))\n",
    "print(differentLabels)\n",
    "# N19DCAT033 - Tran Viet Hoang"
   ]
  },
  {
   "cell_type": "code",
   "execution_count": 98,
   "metadata": {},
   "outputs": [],
   "source": [
    "# Trước tiên cần phải liệt kê danh sách các subclass của 4 phân lớp DoS, Probe, U2R, R2L\n",
    "# Tấn công DoS\n",
    "label_DoS = ['apache2', 'back', 'land', 'neptune', 'mailbomb',\n",
    "             'pod', 'processtable', 'smurf', 'teardrop', 'udpstorm', 'worm']\n",
    "# Tấn công thu thập thông tin\n",
    "label_Probe = ['ipsweep', 'mscan', 'nmap', 'portsweep', 'saint', 'satan']\n",
    "# Tấn công chiếm quyền, leo thang đặc quyền\n",
    "label_U2R = ['buffer_overflow', 'loadmodule',\n",
    "             'perl', 'ps', 'rootkit', 'sqlattack', 'xterm']\n",
    "# Tấn công kết nối truy cập từ xa\n",
    "label_R2L = ['ftp_write', 'guess_passwd', 'httptunnel', 'imap', 'multihop', 'named', 'phf',\n",
    "             'sendmail', 'snmpgetattack', 'snmpguess', 'spy', 'warezclient', 'warezmaster', 'xlock', 'xsnoop']"
   ]
  },
  {
   "cell_type": "markdown",
   "metadata": {},
   "source": [
    "Tách column label thành labels2 (normal - attack) và labels5 (normal - DoS, Probe, R2L, U2R)"
   ]
  },
  {
   "cell_type": "code",
   "execution_count": 99,
   "metadata": {},
   "outputs": [],
   "source": [
    "attack_labels = []\n",
    "attack_labels.extend(label_DoS)\n",
    "attack_labels.extend(label_Probe)\n",
    "attack_labels.extend(label_U2R)\n",
    "attack_labels.extend(label_R2L)"
   ]
  },
  {
   "cell_type": "code",
   "execution_count": 100,
   "metadata": {},
   "outputs": [],
   "source": [
    "# Đối với TRAIN DATASET\n",
    "origin_train_dataFrame.rename(columns={\"label\": \"labels2\"}, inplace=True)\n",
    "trainLabels2Column = origin_train_dataFrame[\"labels2\"].tolist()\n",
    "origin_train_dataFrame[\"labels5\"] = trainLabels2Column\n",
    "origin_train_dataFrame[\"labels2\"].replace(attack_labels, \"attack\", inplace=True)\n"
   ]
  },
  {
   "cell_type": "code",
   "execution_count": 101,
   "metadata": {},
   "outputs": [],
   "source": [
    "# Đối với TEST DATASET\n",
    "origin_test_dataFrame.rename(columns={\"label\": \"labels2\"}, inplace=True)\n",
    "testLabels2Column = origin_test_dataFrame[\"labels2\"].tolist()\n",
    "origin_test_dataFrame[\"labels5\"] = testLabels2Column\n",
    "origin_test_dataFrame[\"labels2\"].replace(attack_labels, \"attack\", inplace=True)"
   ]
  },
  {
   "cell_type": "code",
   "execution_count": 102,
   "metadata": {},
   "outputs": [
    {
     "name": "stdout",
     "output_type": "stream",
     "text": [
      "['normal' 'attack']\n",
      "['normal' 'neptune' 'warezclient' 'ipsweep' 'portsweep' 'teardrop' 'nmap'\n",
      " 'satan' 'smurf' 'pod' 'back' 'guess_passwd' 'ftp_write' 'multihop'\n",
      " 'rootkit' 'buffer_overflow' 'imap' 'warezmaster' 'phf' 'land'\n",
      " 'loadmodule' 'spy' 'perl']\n",
      "\n",
      "['attack' 'normal']\n",
      "['neptune' 'normal' 'saint' 'mscan' 'guess_passwd' 'smurf' 'apache2'\n",
      " 'satan' 'buffer_overflow' 'back' 'warezmaster' 'snmpgetattack'\n",
      " 'processtable' 'pod' 'httptunnel' 'nmap' 'ps' 'snmpguess' 'ipsweep'\n",
      " 'mailbomb' 'portsweep' 'multihop' 'named' 'sendmail' 'loadmodule' 'xterm'\n",
      " 'worm' 'teardrop' 'rootkit' 'xlock' 'perl' 'land' 'xsnoop' 'sqlattack'\n",
      " 'ftp_write' 'imap' 'udpstorm' 'phf']\n"
     ]
    }
   ],
   "source": [
    "print(origin_train_dataFrame[\"labels2\"].unique())\n",
    "print(origin_train_dataFrame[\"labels5\"].unique())\n",
    "print()\n",
    "print(origin_test_dataFrame[\"labels2\"].unique())\n",
    "print(origin_test_dataFrame[\"labels5\"].unique())"
   ]
  },
  {
   "cell_type": "code",
   "execution_count": 103,
   "metadata": {},
   "outputs": [],
   "source": [
    "# Đối với TRAIN DATASET\n",
    "# Chia các record vào DoS\n",
    "origin_train_dataFrame[\"labels5\"].replace(label_DoS, \"DoS\", inplace=True)\n",
    "# Chia các record vào Probe\n",
    "origin_train_dataFrame[\"labels5\"].replace(label_Probe, \"Probe\", inplace=True)\n",
    "# Chia các record vào U2R\n",
    "origin_train_dataFrame[\"labels5\"].replace(label_U2R, \"U2R\", inplace=True)\n",
    "# Chia các record vào R2L\n",
    "origin_train_dataFrame[\"labels5\"].replace(label_R2L, \"R2L\", inplace=True)\n",
    "\n",
    "# Đối với TEST DATASET\n",
    "# Chia các record vào DoS\n",
    "origin_test_dataFrame[\"labels5\"].replace(label_DoS, \"DoS\", inplace=True)\n",
    "# Chia các record vào Probe\n",
    "origin_test_dataFrame[\"labels5\"].replace(label_Probe, \"Probe\", inplace=True)\n",
    "# Chia các record vào U2R\n",
    "origin_test_dataFrame[\"labels5\"].replace(label_U2R, \"U2R\", inplace=True)\n",
    "# Chia các record vào R2L\n",
    "origin_test_dataFrame[\"labels5\"].replace(label_R2L, \"R2L\", inplace=True)"
   ]
  },
  {
   "cell_type": "code",
   "execution_count": 104,
   "metadata": {},
   "outputs": [
    {
     "name": "stdout",
     "output_type": "stream",
     "text": [
      "normal    67343\n",
      "attack    58630\n",
      "Name: labels2, dtype: int64\n"
     ]
    },
    {
     "data": {
      "image/png": "[encoded data removed]",
      "text/plain": [
       "<Figure size 1000x500 with 1 Axes>"
      ]
     },
     "metadata": {},
     "output_type": "display_data"
    }
   ],
   "source": [
    "# Xem sự phân phối theo normal - attack\n",
    "print(origin_train_dataFrame[\"labels2\"].value_counts())\n",
    "# Vẽ biểu đồ phân phối theo normal - attack\n",
    "x_label_distribute = np.array(\n",
    "    origin_train_dataFrame[\"labels2\"].value_counts().index.tolist())\n",
    "y_label_distribute = np.array(\n",
    "    origin_train_dataFrame[\"labels2\"].value_counts().values.tolist())\n",
    "plt.bar(x_label_distribute, y_label_distribute)\n",
    "plt.show()"
   ]
  },
  {
   "cell_type": "code",
   "execution_count": 105,
   "metadata": {},
   "outputs": [
    {
     "name": "stdout",
     "output_type": "stream",
     "text": [
      "normal    67343\n",
      "DoS       45927\n",
      "Probe     11656\n",
      "R2L         995\n",
      "U2R          52\n",
      "Name: labels5, dtype: int64\n"
     ]
    },
    {
     "data": {
      "image/png": "[encoded data removed]",
      "text/plain": [
       "<Figure size 1000x500 with 1 Axes>"
      ]
     },
     "metadata": {},
     "output_type": "display_data"
    }
   ],
   "source": [
    "# Xem lại sự phân phối theo lớp tấn công\n",
    "print(origin_train_dataFrame[\"labels5\"].value_counts())\n",
    "# Vẽ biểu đồ phân phối theo lớp tấn công\n",
    "x_label_distribute = np.array(\n",
    "    origin_train_dataFrame[\"labels5\"].value_counts().index.tolist())\n",
    "y_label_distribute = np.array(\n",
    "    origin_train_dataFrame[\"labels5\"].value_counts().values.tolist())\n",
    "plt.bar(x_label_distribute, y_label_distribute)\n",
    "plt.show()"
   ]
  },
  {
   "cell_type": "markdown",
   "metadata": {},
   "source": [
    "# END: DATA GATHERING"
   ]
  },
  {
   "cell_type": "markdown",
   "metadata": {},
   "source": [
    "# START: DATA PROCESSING"
   ]
  },
  {
   "cell_type": "code",
   "execution_count": 106,
   "metadata": {},
   "outputs": [],
   "source": [
    "# N19DCAT033 - Tran Viet Hoang\n",
    "# Trong dataset nsl-kdd có 3 thuộc tính nominal (string) nên không thể thực hiện tính toán các chỉ số trực tiếp\n",
    "# Sử dụng one-hot encoding để chuyển các nominal attribute sang numeric attribute\n",
    "# Các feature được scale để tránh việc các feature mang giá trị quá lớn ảnh hưởng tới kết quả của mô hình"
   ]
  },
  {
   "cell_type": "code",
   "execution_count": 107,
   "metadata": {},
   "outputs": [
    {
     "name": "stdout",
     "output_type": "stream",
     "text": [
      "\n",
      "Number of unique values in TRAIN DATASET for nominal attributes\n",
      "Feature 'protocol_type' has 3 categories\n",
      "Feature 'service' has 70 categories\n",
      "Feature 'flag' has 11 categories\n",
      "Feature 'labels2' has 2 categories\n",
      "Feature 'labels5' has 5 categories\n",
      "\n",
      "Number of unique values in TEST DATASET for nominal attributes\n",
      "Feature 'protocol_type' has 3 categories\n",
      "Feature 'service' has 64 categories\n",
      "Feature 'flag' has 11 categories\n",
      "Feature 'labels2' has 2 categories\n",
      "Feature 'labels5' has 5 categories\n"
     ]
    }
   ],
   "source": [
    "# Số lượng các giá trị khác nhau trong 3 nominal attribute\n",
    "print(\"\\nNumber of unique values in TRAIN DATASET for nominal attributes\")\n",
    "for col in origin_train_dataFrame.columns:\n",
    "    if origin_train_dataFrame[col].dtypes == 'object':\n",
    "        unique_cat = len(origin_train_dataFrame[col].unique())\n",
    "        print(\"Feature '{col}' has {unique_cat} categories\".format(\n",
    "            col=col, unique_cat=unique_cat))\n",
    "\n",
    "print(\"\\nNumber of unique values in TEST DATASET for nominal attributes\")\n",
    "for col in origin_test_dataFrame.columns:\n",
    "    if origin_test_dataFrame[col].dtypes == 'object':\n",
    "        unique_cat = len(origin_test_dataFrame[col].unique())\n",
    "        print(\"Feature '{col}' has {unique_cat} categories\".format(\n",
    "            col=col, unique_cat=unique_cat))"
   ]
  },
  {
   "cell_type": "code",
   "execution_count": 108,
   "metadata": {},
   "outputs": [],
   "source": [
    "# Với TRAIN DATASET thì sẽ có tổng cộng 3+70+11=84 dummies khi sử dụng one-hot encoding\n",
    "# Với TEST DATASET thì sẽ có tổng cộng 3+64+11=78 dummies khi sử dụng one-hot encoding"
   ]
  },
  {
   "cell_type": "markdown",
   "metadata": {},
   "source": [
    "Đưa các nominal (categorical) feature vào mảng numpy 2D (2D numpy array)"
   ]
  },
  {
   "cell_type": "code",
   "execution_count": 109,
   "metadata": {},
   "outputs": [
    {
     "name": "stdout",
     "output_type": "stream",
     "text": [
      "  protocol_type   service flag\n",
      "0           tcp  ftp_data   SF\n",
      "1           udp     other   SF\n",
      "2           tcp   private   S0\n",
      "3           tcp      http   SF\n",
      "4           tcp      http   SF\n"
     ]
    }
   ],
   "source": [
    "train_dataset_categorical_values = origin_train_dataFrame[nominal_features]\n",
    "test_dataset_categorical_values = origin_test_dataFrame[nominal_features]\n",
    "\n",
    "print(train_dataset_categorical_values.head())"
   ]
  },
  {
   "cell_type": "markdown",
   "metadata": {},
   "source": [
    "THỰC HIỆN DUMMY CÁC COLUMN (ATTRIBUTE)"
   ]
  },
  {
   "cell_type": "code",
   "execution_count": 110,
   "metadata": {},
   "outputs": [
    {
     "name": "stdout",
     "output_type": "stream",
     "text": [
      "['Protocol_type_icmp', 'Protocol_type_tcp', 'Protocol_type_udp', 'service_IRC', 'service_X11', 'service_Z39_50', 'service_aol', 'service_auth', 'service_bgp', 'service_courier', 'service_csnet_ns', 'service_ctf', 'service_daytime', 'service_discard', 'service_domain', 'service_domain_u', 'service_echo', 'service_eco_i', 'service_ecr_i', 'service_efs', 'service_exec', 'service_finger', 'service_ftp', 'service_ftp_data', 'service_gopher', 'service_harvest', 'service_hostnames', 'service_http', 'service_http_2784', 'service_http_443', 'service_http_8001', 'service_imap4', 'service_iso_tsap', 'service_klogin', 'service_kshell', 'service_ldap', 'service_link', 'service_login', 'service_mtp', 'service_name', 'service_netbios_dgm', 'service_netbios_ns', 'service_netbios_ssn', 'service_netstat', 'service_nnsp', 'service_nntp', 'service_ntp_u', 'service_other', 'service_pm_dump', 'service_pop_2', 'service_pop_3', 'service_printer', 'service_private', 'service_red_i', 'service_remote_job', 'service_rje', 'service_shell', 'service_smtp', 'service_sql_net', 'service_ssh', 'service_sunrpc', 'service_supdup', 'service_systat', 'service_telnet', 'service_tftp_u', 'service_tim_i', 'service_time', 'service_urh_i', 'service_urp_i', 'service_uucp', 'service_uucp_path', 'service_vmnet', 'service_whois', 'flag_OTH', 'flag_REJ', 'flag_RSTO', 'flag_RSTOS0', 'flag_RSTR', 'flag_S0', 'flag_S1', 'flag_S2', 'flag_S3', 'flag_SF', 'flag_SH']\n"
     ]
    }
   ],
   "source": [
    "# protocol type\n",
    "unique_protocol = sorted(origin_train_dataFrame.protocol_type.unique())\n",
    "string1 = 'Protocol_type_'\n",
    "unique_protocol2 = [string1 + x for x in unique_protocol]\n",
    "# service\n",
    "unique_service = sorted(origin_train_dataFrame.service.unique())\n",
    "string2 = 'service_'\n",
    "unique_service2 = [string2 + x for x in unique_service]\n",
    "# flag\n",
    "unique_flag = sorted(origin_train_dataFrame.flag.unique())\n",
    "string3 = 'flag_'\n",
    "unique_flag2 = [string3 + x for x in unique_flag]\n",
    "# Put together\n",
    "dumcols = unique_protocol2 + unique_service2 + unique_flag2\n",
    "print(dumcols)"
   ]
  },
  {
   "cell_type": "code",
   "execution_count": 111,
   "metadata": {},
   "outputs": [],
   "source": [
    "# Tương tự với TEST DATASET nhưng ở service chỉ có 64 giá trị khác nhau\n",
    "unique_service_test = sorted(origin_test_dataFrame.service.unique())\n",
    "unique_service2_test = [string2 + x for x in unique_service_test]\n",
    "testdumcols = unique_protocol2 + unique_service2_test + unique_flag2"
   ]
  },
  {
   "cell_type": "markdown",
   "metadata": {},
   "source": [
    "Chuyển categorical feature sang numerical sử dụng LabelEncoder()"
   ]
  },
  {
   "cell_type": "code",
   "execution_count": 112,
   "metadata": {},
   "outputs": [
    {
     "name": "stdout",
     "output_type": "stream",
     "text": [
      "   protocol_type  service  flag\n",
      "0              1       20     9\n",
      "1              2       44     9\n",
      "2              1       49     5\n",
      "3              1       24     9\n",
      "4              1       24     9\n"
     ]
    }
   ],
   "source": [
    "dataset_train_categorical_values_enc = train_dataset_categorical_values.apply(\n",
    "    LabelEncoder().fit_transform)\n",
    "# test set\n",
    "dataset_test_categorical_values_enc = test_dataset_categorical_values.apply(\n",
    "    LabelEncoder().fit_transform)\n",
    "print(dataset_train_categorical_values_enc.head())"
   ]
  },
  {
   "cell_type": "markdown",
   "metadata": {},
   "source": [
    "ONE-HOT ENCODING"
   ]
  },
  {
   "cell_type": "code",
   "execution_count": 113,
   "metadata": {},
   "outputs": [
    {
     "name": "stdout",
     "output_type": "stream",
     "text": [
      "        Protocol_type_icmp  Protocol_type_tcp  Protocol_type_udp  service_IRC  \\\n",
      "0                      0.0                1.0                0.0          0.0   \n",
      "1                      0.0                0.0                1.0          0.0   \n",
      "2                      0.0                1.0                0.0          0.0   \n",
      "3                      0.0                1.0                0.0          0.0   \n",
      "4                      0.0                1.0                0.0          0.0   \n",
      "...                    ...                ...                ...          ...   \n",
      "125968                 0.0                1.0                0.0          0.0   \n",
      "125969                 0.0                0.0                1.0          0.0   \n",
      "125970                 0.0                1.0                0.0          0.0   \n",
      "125971                 0.0                1.0                0.0          0.0   \n",
      "125972                 0.0                1.0                0.0          0.0   \n",
      "\n",
      "        service_X11  service_Z39_50  service_aol  service_auth  service_bgp  \\\n",
      "0               0.0             0.0          0.0           0.0          0.0   \n",
      "1               0.0             0.0          0.0           0.0          0.0   \n",
      "2               0.0             0.0          0.0           0.0          0.0   \n",
      "3               0.0             0.0          0.0           0.0          0.0   \n",
      "4               0.0             0.0          0.0           0.0          0.0   \n",
      "...             ...             ...          ...           ...          ...   \n",
      "125968          0.0             0.0          0.0           0.0          0.0   \n",
      "125969          0.0             0.0          0.0           0.0          0.0   \n",
      "125970          0.0             0.0          0.0           0.0          0.0   \n",
      "125971          0.0             0.0          0.0           0.0          0.0   \n",
      "125972          0.0             0.0          0.0           0.0          0.0   \n",
      "\n",
      "        service_courier  ...  flag_REJ  flag_RSTO  flag_RSTOS0  flag_RSTR  \\\n",
      "0                   0.0  ...       0.0        0.0          0.0        0.0   \n",
      "1                   0.0  ...       0.0        0.0          0.0        0.0   \n",
      "2                   0.0  ...       0.0        0.0          0.0        0.0   \n",
      "3                   0.0  ...       0.0        0.0          0.0        0.0   \n",
      "4                   0.0  ...       0.0        0.0          0.0        0.0   \n",
      "...                 ...  ...       ...        ...          ...        ...   \n",
      "125968              0.0  ...       0.0        0.0          0.0        0.0   \n",
      "125969              0.0  ...       0.0        0.0          0.0        0.0   \n",
      "125970              0.0  ...       0.0        0.0          0.0        0.0   \n",
      "125971              0.0  ...       0.0        0.0          0.0        0.0   \n",
      "125972              0.0  ...       0.0        0.0          0.0        0.0   \n",
      "\n",
      "        flag_S0  flag_S1  flag_S2  flag_S3  flag_SF  flag_SH  \n",
      "0           0.0      0.0      0.0      0.0      1.0      0.0  \n",
      "1           0.0      0.0      0.0      0.0      1.0      0.0  \n",
      "2           1.0      0.0      0.0      0.0      0.0      0.0  \n",
      "3           0.0      0.0      0.0      0.0      1.0      0.0  \n",
      "4           0.0      0.0      0.0      0.0      1.0      0.0  \n",
      "...         ...      ...      ...      ...      ...      ...  \n",
      "125968      1.0      0.0      0.0      0.0      0.0      0.0  \n",
      "125969      0.0      0.0      0.0      0.0      1.0      0.0  \n",
      "125970      0.0      0.0      0.0      0.0      1.0      0.0  \n",
      "125971      1.0      0.0      0.0      0.0      0.0      0.0  \n",
      "125972      0.0      0.0      0.0      0.0      1.0      0.0  \n",
      "\n",
      "[125973 rows x 84 columns]\n"
     ]
    }
   ],
   "source": [
    "enc = OneHotEncoder()\n",
    "# TRAIN DATASET\n",
    "dataset_train_categorical_values_encenc = enc.fit_transform(\n",
    "    dataset_train_categorical_values_enc)\n",
    "dataset_train_cat_data = pd.DataFrame(\n",
    "    dataset_train_categorical_values_encenc.toarray(), columns=dumcols)\n",
    "# TEST DATASET\n",
    "dataset_test_categorical_values_encenc = enc.fit_transform(\n",
    "    dataset_test_categorical_values_enc)\n",
    "dataset_test_cat_data = pd.DataFrame(\n",
    "    dataset_test_categorical_values_encenc.toarray(), columns=testdumcols)\n",
    "\n",
    "print(dataset_train_cat_data)"
   ]
  },
  {
   "cell_type": "markdown",
   "metadata": {},
   "source": [
    "Thêm 6 giá trị category trong attribute service từ TRAIN DATASET vào TEST DATASET"
   ]
  },
  {
   "cell_type": "code",
   "execution_count": 114,
   "metadata": {},
   "outputs": [
    {
     "name": "stdout",
     "output_type": "stream",
     "text": [
      "['service_urh_i', 'service_aol', 'service_harvest', 'service_http_2784', 'service_red_i', 'service_http_8001']\n"
     ]
    }
   ],
   "source": [
    "trainservice = origin_train_dataFrame['service'].tolist()\n",
    "testservice = origin_test_dataFrame['service'].tolist()\n",
    "difference = list(set(trainservice) - set(testservice))\n",
    "string = 'service_'\n",
    "difference = [string + x for x in difference]\n",
    "print(difference)\n",
    "for col in difference:\n",
    "    dataset_test_cat_data[col] = 0"
   ]
  },
  {
   "cell_type": "markdown",
   "metadata": {},
   "source": [
    "Join encoded categorical dataframe với các dataframe khác"
   ]
  },
  {
   "cell_type": "code",
   "execution_count": 115,
   "metadata": {},
   "outputs": [
    {
     "name": "stdout",
     "output_type": "stream",
     "text": [
      "(125973, 43)\n",
      "(22544, 43)\n",
      "(125973, 124)\n",
      "(22544, 124)\n"
     ]
    }
   ],
   "source": [
    "newdf = origin_train_dataFrame.join(dataset_train_cat_data)\n",
    "newdf.drop('flag', axis=1, inplace=True)\n",
    "newdf.drop('protocol_type', axis=1, inplace=True)\n",
    "newdf.drop('service', axis=1, inplace=True)\n",
    "# test data\n",
    "newdf_test = origin_test_dataFrame.join(dataset_test_cat_data)\n",
    "newdf_test.drop('flag', axis=1, inplace=True)\n",
    "newdf_test.drop('protocol_type', axis=1, inplace=True)\n",
    "newdf_test.drop('service', axis=1, inplace=True)\n",
    "# Shape sẽ thay đổi, tăng column\n",
    "print(origin_train_dataFrame.shape)\n",
    "print(origin_test_dataFrame.shape)\n",
    "print(newdf.shape)\n",
    "print(newdf_test.shape)"
   ]
  },
  {
   "cell_type": "markdown",
   "metadata": {},
   "source": [
    "Đặt lại giá trị cho label 0=normal, 1=DoS, 2=Probe, 3=R2L and 4=U2R"
   ]
  },
  {
   "cell_type": "code",
   "execution_count": 116,
   "metadata": {},
   "outputs": [
    {
     "name": "stdout",
     "output_type": "stream",
     "text": [
      "0    67343\n",
      "1    45927\n",
      "2    11656\n",
      "3      995\n",
      "4       52\n",
      "Name: labels5, dtype: int64\n"
     ]
    }
   ],
   "source": [
    "# Lấy label column\n",
    "labels5df = newdf['labels5']\n",
    "labels5df_test = newdf_test['labels5']\n",
    "\n",
    "labels2df = newdf['labels2']\n",
    "labels2df_test = newdf_test['labels2']\n",
    "# Đổi label column\n",
    "newlabels5df = labels5df.replace(\n",
    "    {'normal': 0, 'DoS': 1, 'Probe': 2, 'R2L': 3, 'U2R': 4})\n",
    "newlabels5df_test = labels5df_test.replace(\n",
    "    {'normal': 0, 'DoS': 1, 'Probe': 2, 'R2L': 3, 'U2R': 4})\n",
    "\n",
    "newlabels2df = labels2df.replace({'normal': 0, 'attack': 1})\n",
    "newlabels2df_test = labels2df_test.replace({'normal': 0, 'attack': 1})\n",
    "# Đưa label mới vào\n",
    "newdf['labels5'] = newlabels5df\n",
    "newdf_test['labels5'] = newlabels5df_test\n",
    "\n",
    "newdf['labels2'] = newlabels2df\n",
    "newdf_test['labels2'] = newlabels2df_test\n",
    "\n",
    "print(newdf['labels5'].value_counts())"
   ]
  },
  {
   "cell_type": "code",
   "execution_count": 117,
   "metadata": {},
   "outputs": [
    {
     "name": "stdout",
     "output_type": "stream",
     "text": [
      "0    67343\n",
      "1    58630\n",
      "Name: labels2, dtype: int64\n"
     ]
    }
   ],
   "source": [
    "print(newdf[\"labels2\"].value_counts())"
   ]
  },
  {
   "cell_type": "markdown",
   "metadata": {},
   "source": [
    "Tạo dataframe cho từng kiểu tấn công"
   ]
  },
  {
   "cell_type": "code",
   "execution_count": 118,
   "metadata": {},
   "outputs": [],
   "source": [
    "# 0 = normal, 1 = DoS, 2 = Probe, 3 = R2L, 4 = U2R\n",
    "to_drop_DoS = [2, 3, 4]\n",
    "to_drop_Probe = [1, 3, 4]\n",
    "to_drop_R2L = [1, 2, 4]\n",
    "to_drop_U2R = [1, 2, 3]\n",
    "# Tạo dataframe cho từng loại tấn công dựa vào newdf với feature \"label\" không chứa các nhãn trong top_drop_typeOfAttack\n",
    "DoS_df = newdf[~newdf['labels5'].isin(to_drop_DoS)]\n",
    "Probe_df = newdf[~newdf['labels5'].isin(to_drop_Probe)]\n",
    "R2L_df = newdf[~newdf['labels5'].isin(to_drop_R2L)]\n",
    "U2R_df = newdf[~newdf['labels5'].isin(to_drop_U2R)]\n",
    "\n",
    "# test\n",
    "DoS_df_test = newdf_test[~newdf_test['labels5'].isin(to_drop_DoS)]\n",
    "Probe_df_test = newdf_test[~newdf_test['labels5'].isin(to_drop_Probe)]\n",
    "R2L_df_test = newdf_test[~newdf_test['labels5'].isin(to_drop_R2L)]\n",
    "U2R_df_test = newdf_test[~newdf_test['labels5'].isin(to_drop_U2R)]"
   ]
  },
  {
   "cell_type": "code",
   "execution_count": 119,
   "metadata": {},
   "outputs": [
    {
     "name": "stdout",
     "output_type": "stream",
     "text": [
      "Train:\n",
      "Dimensions of train: (125973, 124)\n",
      "Dimensions of DoS: (113270, 124)\n",
      "Dimensions of Probe: (78999, 124)\n",
      "Dimensions of R2L: (68338, 124)\n",
      "Dimensions of U2R: (67395, 124)\n",
      "Test:\n",
      "Dimensions of test: (22544, 124)\n",
      "Dimensions of DoS: (17171, 124)\n",
      "Dimensions of Probe: (12132, 124)\n",
      "Dimensions of R2L: (12596, 124)\n",
      "Dimensions of U2R: (9778, 124)\n"
     ]
    }
   ],
   "source": [
    "print('Train:')\n",
    "print(\"Dimensions of train:\", newdf.shape)\n",
    "print('Dimensions of DoS:', DoS_df.shape)\n",
    "print('Dimensions of Probe:', Probe_df.shape)\n",
    "print('Dimensions of R2L:', R2L_df.shape)\n",
    "print('Dimensions of U2R:', U2R_df.shape)\n",
    "print('Test:')\n",
    "print(\"Dimensions of test:\", newdf_test.shape)\n",
    "print('Dimensions of DoS:', DoS_df_test.shape)\n",
    "print('Dimensions of Probe:', Probe_df_test.shape)\n",
    "print('Dimensions of R2L:', R2L_df_test.shape)\n",
    "print('Dimensions of U2R:', U2R_df_test.shape)\n"
   ]
  },
  {
   "cell_type": "markdown",
   "metadata": {},
   "source": [
    "FEATURE SCALING"
   ]
  },
  {
   "cell_type": "code",
   "execution_count": 120,
   "metadata": {},
   "outputs": [],
   "source": [
    "# Chia dataframe thành X & Y\n",
    "# N19DCAT033 - Tran Viet Hoang\n",
    "# Tạo multi_train_data để tránh làm biến đổi train dataset gốc khi scale dữ liệu\n",
    "multi_train_data = origin_train_dataFrame.copy()\n",
    "multi_test_data = origin_test_dataFrame.copy()\n",
    "# Chia X là dataframe gồm các feature, Y là các nhãn tấn công (lớp tấn công)\n",
    "X_train = newdf.drop(['labels2','labels5'], axis=1)\n",
    "Y_train = newdf.labels5\n",
    "\n",
    "X_DoS = DoS_df.drop(['labels2','labels5'], axis=1)\n",
    "Y_DoS = DoS_df.labels5\n",
    "X_Probe = Probe_df.drop(['labels2','labels5'], axis=1)\n",
    "Y_Probe = Probe_df.labels5\n",
    "X_R2L = R2L_df.drop(['labels2','labels5'], axis=1)\n",
    "Y_R2L = R2L_df.labels5\n",
    "X_U2R = U2R_df.drop(['labels2','labels5'], axis=1)\n",
    "Y_U2R = U2R_df.labels5\n",
    "# test set\n",
    "X_test = newdf_test.drop(['labels2','labels5'], axis=1)\n",
    "Y_test = newdf_test.labels5\n",
    "\n",
    "X_DoS_test = DoS_df_test.drop(['labels2','labels5'], axis=1)\n",
    "Y_DoS_test = DoS_df_test.labels5\n",
    "X_Probe_test = Probe_df_test.drop(['labels2','labels5'], axis=1)\n",
    "Y_Probe_test = Probe_df_test.labels5\n",
    "X_R2L_test = R2L_df_test.drop(['labels2','labels5'], axis=1)\n",
    "Y_R2L_test = R2L_df_test.labels5\n",
    "X_U2R_test = U2R_df_test.drop(['labels2','labels5'], axis=1)\n",
    "Y_U2R_test = U2R_df_test.labels5\n",
    "\n",
    "colNames = list(X_DoS)\n",
    "colNames_test = list(X_DoS_test)"
   ]
  },
  {
   "cell_type": "markdown",
   "metadata": {},
   "source": [
    "Dùng StandardScaler() và MinMaxScaler() để scale dataframes"
   ]
  },
  {
   "cell_type": "code",
   "execution_count": 121,
   "metadata": {},
   "outputs": [],
   "source": [
    "# Scale dữ liệu sẽ chuyển dữ liệu tỷ lệ hoặc định dạng dữ liệu về cùng một phạm vi để tránh việc các dữ liệu quá lớn ảnh hưởng tới model\n",
    "# Scale dữ liệu cho từng feature numeric với train dataset\n",
    "# Scale bằng MinMaxScaler để tránh giá trị âm\n",
    "# Ở đây chỉ cần scale các numeric features, các thuộc tính số bởi chỉ các thuộc tính số mới có range lớn\n",
    "def scaleStandardData(dataFrame, numeric_cols):\n",
    "  scaler = preprocessing.StandardScaler()\n",
    "  for col in numeric_cols:\n",
    "    arr = dataFrame[col]\n",
    "    arr = np.array(arr)\n",
    "    dataFrame[col] = scaler.fit_transform(arr.reshape(len(arr),1))\n",
    "  return dataFrame\n",
    "\n",
    "def scaleMinMaxData(dataFrame, numeric_cols):\n",
    "  scaler = preprocessing.MinMaxScaler()\n",
    "  for col in numeric_cols:\n",
    "    arr = dataFrame[col]\n",
    "    arr = np.array(arr)\n",
    "    dataFrame[col] = scaler.fit_transform(arr.reshape(len(arr),1))\n",
    "  return dataFrame\n",
    "\n",
    "def scaleData(dataFrame, numeric_cols):\n",
    "  dataFrame = scaleStandardData(dataFrame, numeric_cols)\n",
    "  # dataFrame = scaleMinMaxData(dataFrame, numeric_cols)\n",
    "  return dataFrame"
   ]
  },
  {
   "cell_type": "code",
   "execution_count": 122,
   "metadata": {},
   "outputs": [],
   "source": [
    "# Scale cho dữ liệu chung\n",
    "X_train = scaleData(X_train, numeric_features)\n",
    "X_test = scaleData(X_test, numeric_features)"
   ]
  },
  {
   "cell_type": "code",
   "execution_count": 123,
   "metadata": {},
   "outputs": [],
   "source": [
    "# Scale dữ liệu cho từng loại tấn công\n",
    "X_DoS = scaleData(X_DoS, numeric_features)\n",
    "X_Probe = scaleData(X_Probe, numeric_features)\n",
    "X_R2L = scaleData(X_R2L, numeric_features)\n",
    "X_U2R = scaleData(X_U2R, numeric_features)\n",
    "# scaler1 = preprocessing.StandardScaler().fit(X_DoS)\n",
    "# X_DoS=scaler1.transform(X_DoS) \n",
    "# scaler2 = preprocessing.StandardScaler().fit(X_Probe)\n",
    "# X_Probe=scaler2.transform(X_Probe) \n",
    "# scaler3 = preprocessing.StandardScaler().fit(X_R2L)\n",
    "# X_R2L=scaler3.transform(X_R2L) \n",
    "# scaler4 = preprocessing.StandardScaler().fit(X_U2R)\n",
    "# X_U2R=scaler4.transform(X_U2R) \n",
    "\n",
    "# test data\n",
    "X_DoS_test = scaleData(X_DoS_test, numeric_features)\n",
    "X_Probe_test = scaleData(X_Probe_test, numeric_features)\n",
    "X_R2L_test = scaleData(X_R2L_test, numeric_features)\n",
    "X_U2R_test = scaleData(X_U2R_test, numeric_features)\n",
    "# scaler5 = preprocessing.StandardScaler().fit(X_DoS_test)\n",
    "# X_DoS_test=scaler5.transform(X_DoS_test) \n",
    "# scaler6 = preprocessing.StandardScaler().fit(X_Probe_test)\n",
    "# X_Probe_test=scaler6.transform(X_Probe_test) \n",
    "# scaler7 = preprocessing.StandardScaler().fit(X_R2L_test)\n",
    "# X_R2L_test=scaler7.transform(X_R2L_test) \n",
    "# scaler8 = preprocessing.StandardScaler().fit(X_U2R_test)\n",
    "# X_U2R_test=scaler8.transform(X_U2R_test)"
   ]
  },
  {
   "cell_type": "code",
   "execution_count": 124,
   "metadata": {},
   "outputs": [
    {
     "name": "stdout",
     "output_type": "stream",
     "text": [
      "duration          1.000004\n",
      "src_bytes         1.000004\n",
      "dst_bytes         1.000004\n",
      "land              0.014086\n",
      "wrong_fragment    1.000004\n",
      "                    ...   \n",
      "flag_S1           0.053750\n",
      "flag_S2           0.031736\n",
      "flag_S3           0.019719\n",
      "flag_SF           0.490908\n",
      "flag_SH           0.046332\n",
      "Length: 122, dtype: float64\n"
     ]
    }
   ],
   "source": [
    "# print(X_DoS.std(axis=0))\n",
    "print(X_train.std())"
   ]
  },
  {
   "cell_type": "markdown",
   "metadata": {},
   "source": [
    "# END: DATA PROCESSING"
   ]
  },
  {
   "cell_type": "markdown",
   "metadata": {},
   "source": [
    "# START: FEATURE SELECTION"
   ]
  },
  {
   "cell_type": "markdown",
   "metadata": {},
   "source": [
    "Sử dụng Recursive feature elimination làm phương pháp trích chọn đặc trưng"
   ]
  },
  {
   "cell_type": "code",
   "execution_count": 125,
   "metadata": {},
   "outputs": [],
   "source": [
    "from sklearn.feature_selection import RFE\n",
    "from sklearn.tree import DecisionTreeClassifier\n",
    "\n",
    "# Áp dụng RFE để loại bỏ các feature có tác động yếu tới dữ liệu\n",
    "# RFE áp dụng thuật toán cây quyết định để tìm ra các feature có tác động yếu\n",
    "# Trong bài báo cáo chọn ra 40 feature có độ tác động lớn nhất\n",
    "clf = DecisionTreeClassifier(random_state=0)\n",
    "rfe = RFE(estimator=clf, n_features_to_select=40, step=1)"
   ]
  },
  {
   "cell_type": "code",
   "execution_count": 126,
   "metadata": {},
   "outputs": [],
   "source": [
    "# Đối với toàn bộ train dataset\n",
    "rfe.fit(X_train, Y_train.astype(int))\n",
    "X_rfeTrain=rfe.transform(X_train)\n",
    "true=rfe.support_\n",
    "rfecolindex_train=[i for i, x in enumerate(true) if x]\n",
    "rfecolname_train=list(colNames[i] for i in rfecolindex_train)"
   ]
  },
  {
   "cell_type": "code",
   "execution_count": 127,
   "metadata": {},
   "outputs": [],
   "source": [
    "# # Đối với DOS dataset\n",
    "# rfe.fit(X_DoS, Y_DoS.astype(int))\n",
    "# X_rfeDoS=rfe.transform(X_DoS)\n",
    "# true=rfe.support_\n",
    "# rfecolindex_DoS=[i for i, x in enumerate(true) if x]\n",
    "# rfecolname_DoS=list(colNames[i] for i in rfecolindex_DoS)"
   ]
  },
  {
   "cell_type": "code",
   "execution_count": 128,
   "metadata": {},
   "outputs": [],
   "source": [
    "# # Đối với Probe dataset\n",
    "# rfe.fit(X_Probe, Y_Probe.astype(int))\n",
    "# X_rfeProbe=rfe.transform(X_Probe)\n",
    "# true=rfe.support_\n",
    "# rfecolindex_Probe=[i for i, x in enumerate(true) if x]\n",
    "# rfecolname_Probe=list(colNames[i] for i in rfecolindex_Probe)"
   ]
  },
  {
   "cell_type": "code",
   "execution_count": 129,
   "metadata": {},
   "outputs": [],
   "source": [
    "# # Đối với R2L dataset\n",
    "# rfe.fit(X_R2L, Y_R2L.astype(int))\n",
    "# X_rfeR2L=rfe.transform(X_R2L)\n",
    "# true=rfe.support_\n",
    "# rfecolindex_R2L=[i for i, x in enumerate(true) if x]\n",
    "# rfecolname_R2L=list(colNames[i] for i in rfecolindex_R2L)"
   ]
  },
  {
   "cell_type": "code",
   "execution_count": 130,
   "metadata": {},
   "outputs": [],
   "source": [
    "# # Đối với U2R dataset\n",
    "# rfe.fit(X_U2R, Y_U2R.astype(int))\n",
    "# X_rfeU2R=rfe.transform(X_U2R)\n",
    "# true=rfe.support_\n",
    "# rfecolindex_U2R=[i for i, x in enumerate(true) if x]\n",
    "# rfecolname_U2R=list(colNames[i] for i in rfecolindex_U2R)"
   ]
  },
  {
   "cell_type": "code",
   "execution_count": 131,
   "metadata": {},
   "outputs": [
    {
     "name": "stdout",
     "output_type": "stream",
     "text": [
      "Features selected for Train: ['duration', 'src_bytes', 'dst_bytes', 'land', 'wrong_fragment', 'hot', 'num_failed_logins', 'logged_in', 'num_compromised', 'root_shell', 'num_file_creations', 'num_shells', 'count', 'srv_count', 'serror_rate', 'rerror_rate', 'diff_srv_rate', 'dst_host_count', 'dst_host_srv_count', 'dst_host_same_srv_rate', 'dst_host_diff_srv_rate', 'dst_host_same_src_port_rate', 'dst_host_srv_diff_host_rate', 'dst_host_serror_rate', 'dst_host_srv_serror_rate', 'dst_host_rerror_rate', 'Protocol_type_icmp', 'service_X11', 'service_auth', 'service_domain_u', 'service_ecr_i', 'service_finger', 'service_ftp_data', 'service_http', 'service_other', 'service_private', 'service_tim_i', 'service_urp_i', 'flag_RSTR', 'flag_SF']\n"
     ]
    }
   ],
   "source": [
    "print('Features selected for Train:',rfecolname_train)\n",
    "# print()\n",
    "# print('Features selected for DoS:',rfecolname_DoS)\n",
    "# print()\n",
    "# print('Features selected for Probe:',rfecolname_Probe)\n",
    "# print()\n",
    "# print('Features selected for R2L:',rfecolname_R2L)\n",
    "# print()\n",
    "# print('Features selected for U2R:',rfecolname_U2R)"
   ]
  },
  {
   "cell_type": "markdown",
   "metadata": {},
   "source": [
    "Từ bây giờ sẽ sử dụng dữ liệu đã được áp dụng RFE: X_rfeTrain, X_rfeDoS, X_rfeProbe, X_rfeR2L, X_rfeU2R"
   ]
  },
  {
   "cell_type": "code",
   "execution_count": 132,
   "metadata": {},
   "outputs": [],
   "source": [
    "X_rfeTest = X_test[rfecolname_train].copy()\n",
    "# X_rfeDoS_test = X_DoS_test[rfecolname_DoS].copy()\n",
    "# X_rfeProbe_test = X_Probe_test[rfecolname_Probe].copy()\n",
    "# X_rfeR2L_test = X_R2L_test[rfecolname_R2L].copy()\n",
    "# X_rfeU2R_test = X_U2R_test[rfecolname_U2R].copy()"
   ]
  },
  {
   "cell_type": "markdown",
   "metadata": {},
   "source": [
    "# END: FEATURE SELECTION"
   ]
  },
  {
   "cell_type": "markdown",
   "metadata": {},
   "source": [
    "# START: HIDDEN MARKOV MODEL"
   ]
  },
  {
   "cell_type": "markdown",
   "metadata": {},
   "source": [
    "Trong HMM (Hidden Markov Model) cần chú ý các params: N_COMPONENTS (n trạng thái ẩn của mô hình), TRANSMAT_PRIOR (xác xuất prior của ma trận chuyển tiếp), MEANS_PRIOR (prior mean cho phân phối phát xạ - emission distribution), CONVARS_PRIOR (prior convarience - hiệp phương sai cho các phân phối phát xạ), STARTPROB_PRIOR (xác xuất prior của trạng thái khởi tạo - BỎ)"
   ]
  },
  {
   "cell_type": "markdown",
   "metadata": {},
   "source": [
    "Trong NSL-KDD dataset, các phân phối phát xạ (emission distributions) có thể là các attribute (feature)"
   ]
  },
  {
   "cell_type": "markdown",
   "metadata": {},
   "source": [
    "Tính n_components dựa trên số lượng giá trị khác nhau của label"
   ]
  },
  {
   "cell_type": "code",
   "execution_count": 133,
   "metadata": {},
   "outputs": [
    {
     "name": "stdout",
     "output_type": "stream",
     "text": [
      "[0 1 3 2 4]\n"
     ]
    }
   ],
   "source": [
    "print(Y_train.unique())\n",
    "n_states = len(Y_train.unique())"
   ]
  },
  {
   "cell_type": "markdown",
   "metadata": {},
   "source": [
    "Tính means_prior dựa trên mean của dataset"
   ]
  },
  {
   "cell_type": "code",
   "execution_count": 134,
   "metadata": {},
   "outputs": [
    {
     "data": {
      "text/plain": [
       "array([ 2.54947740e-17, -4.51234938e-19,  7.61458958e-19,  1.98455225e-04,\n",
       "        4.23032754e-19, -2.24489382e-17,  2.98943147e-18,  3.95735594e-01,\n",
       "       -6.54995715e-18,  1.34155732e-03, -4.65336030e-18,  3.97650789e-18,\n",
       "       -3.94830571e-17,  4.16264230e-17,  4.48414720e-18,  3.82985654e-17,\n",
       "       -1.71469276e-17, -1.75699604e-17, -5.81529027e-17, -1.21551411e-16,\n",
       "       -2.37462386e-17,  2.89918448e-17,  3.06839758e-17,  1.71187255e-17,\n",
       "       -2.63126373e-17,  4.90717995e-17,  6.58156907e-02,  5.79489256e-04,\n",
       "        7.58098958e-03,  7.17852238e-02,  2.44258690e-02,  1.40268153e-02,\n",
       "        5.44561136e-02,  3.20211474e-01,  3.46026529e-02,  1.73473681e-01,\n",
       "        6.35056719e-05,  4.77880181e-03,  1.92184039e-02,  5.94929072e-01])"
      ]
     },
     "execution_count": 134,
     "metadata": {},
     "output_type": "execute_result"
    }
   ],
   "source": [
    "means = np.mean(X_rfeTrain, axis=0)\n",
    "means"
   ]
  },
  {
   "cell_type": "markdown",
   "metadata": {},
   "source": [
    "Tính convars_prior qua ma trận chuyển tiếp"
   ]
  },
  {
   "cell_type": "code",
   "execution_count": 135,
   "metadata": {},
   "outputs": [
    {
     "data": {
      "text/plain": [
       "(40, 40)"
      ]
     },
     "execution_count": 135,
     "metadata": {},
     "output_type": "execute_result"
    }
   ],
   "source": [
    "convarience = np.cov(X_rfeTrain.T)\n",
    "covars = 0.1 * convarience\n",
    "covars.shape"
   ]
  },
  {
   "cell_type": "markdown",
   "metadata": {},
   "source": [
    "Tính transmat_prior áp dụng định lý Bayes: P(A[i]|B) = (P(A[i]) * P(B|A[i])) / P(B)"
   ]
  },
  {
   "cell_type": "code",
   "execution_count": 136,
   "metadata": {},
   "outputs": [
    {
     "data": {
      "text/plain": [
       "(5, 5)"
      ]
     },
     "execution_count": 136,
     "metadata": {},
     "output_type": "execute_result"
    }
   ],
   "source": [
    "transmat_counts = np.zeros((n_states, n_states))\n",
    "for i in range(1, len(Y_train)):\n",
    "    current_state = Y_train[i - 1]\n",
    "    next_state = Y_train[i]\n",
    "    transmat_counts[current_state, next_state] += 1\n",
    "transmat = transmat_counts / np.sum(transmat_counts, axis=1, keepdims=True)\n",
    "transmat.shape"
   ]
  },
  {
   "cell_type": "code",
   "execution_count": 137,
   "metadata": {},
   "outputs": [
    {
     "data": {
      "text/plain": [
       "array([[5.34748003e-01, 3.65269817e-01, 9.17555166e-02, 7.85542455e-03,\n",
       "        3.71239345e-04],\n",
       "       [5.34979424e-01, 3.63185055e-01, 9.34308794e-02, 7.92562109e-03,\n",
       "        4.79021055e-04],\n",
       "       [5.33716541e-01, 3.64962251e-01, 9.33424846e-02, 7.54975978e-03,\n",
       "        4.28963624e-04],\n",
       "       [5.16582915e-01, 3.76884422e-01, 9.24623116e-02, 1.40703518e-02,\n",
       "        0.00000000e+00],\n",
       "       [5.00000000e-01, 3.84615385e-01, 1.15384615e-01, 0.00000000e+00,\n",
       "        0.00000000e+00]])"
      ]
     },
     "execution_count": 137,
     "metadata": {},
     "output_type": "execute_result"
    }
   ],
   "source": [
    "transmat"
   ]
  },
  {
   "cell_type": "markdown",
   "metadata": {},
   "source": [
    "Tính startprob_prior - BỎ"
   ]
  },
  {
   "cell_type": "code",
   "execution_count": 138,
   "metadata": {},
   "outputs": [
    {
     "data": {
      "text/plain": [
       "array([5.34582807e-01, 3.64578124e-01, 9.25277639e-02, 7.89851794e-03,\n",
       "       4.12786867e-04])"
      ]
     },
     "execution_count": 138,
     "metadata": {},
     "output_type": "execute_result"
    }
   ],
   "source": [
    "state_counts = [len(np.where(Y_train == i)[0]) for i in range(n_states)]\n",
    "startprob = np.array(state_counts) / len(Y_train)\n",
    "startprob"
   ]
  },
  {
   "cell_type": "markdown",
   "metadata": {},
   "source": [
    "BUILD MODEL"
   ]
  },
  {
   "cell_type": "code",
   "execution_count": 139,
   "metadata": {},
   "outputs": [],
   "source": [
    "from hmmlearn import hmm\n",
    "\n",
    "model = hmm.GaussianHMM(n_components=n_states, covariance_type=\"tied\", n_iter=10, means_prior=means, covars_prior=covars, transmat_prior=transmat)"
   ]
  },
  {
   "cell_type": "code",
   "execution_count": 140,
   "metadata": {},
   "outputs": [
    {
     "data": {
      "text/html": [
       "<style>#sk-container-id-4 {color: black;background-color: white;}#sk-container-id-4 pre{padding: 0;}#sk-container-id-4 div.sk-toggleable {background-color: white;}#sk-container-id-4 label.sk-toggleable__label {cursor: pointer;display: block;width: 100%;margin-bottom: 0;padding: 0.3em;box-sizing: border-box;text-align: center;}#sk-container-id-4 label.sk-toggleable__label-arrow:before {content: \"▸\";float: left;margin-right: 0.25em;color: #696969;}#sk-container-id-4 label.sk-toggleable__label-arrow:hover:before {color: black;}#sk-container-id-4 div.sk-estimator:hover label.sk-toggleable__label-arrow:before {color: black;}#sk-container-id-4 div.sk-toggleable__content {max-height: 0;max-width: 0;overflow: hidden;text-align: left;background-color: #f0f8ff;}#sk-container-id-4 div.sk-toggleable__content pre {margin: 0.2em;color: black;border-radius: 0.25em;background-color: #f0f8ff;}#sk-container-id-4 input.sk-toggleable__control:checked~div.sk-toggleable__content {max-height: 200px;max-width: 100%;overflow: auto;}#sk-container-id-4 input.sk-toggleable__control:checked~label.sk-toggleable__label-arrow:before {content: \"▾\";}#sk-container-id-4 div.sk-estimator input.sk-toggleable__control:checked~label.sk-toggleable__label {background-color: #d4ebff;}#sk-container-id-4 div.sk-label input.sk-toggleable__control:checked~label.sk-toggleable__label {background-color: #d4ebff;}#sk-container-id-4 input.sk-hidden--visually {border: 0;clip: rect(1px 1px 1px 1px);clip: rect(1px, 1px, 1px, 1px);height: 1px;margin: -1px;overflow: hidden;padding: 0;position: absolute;width: 1px;}#sk-container-id-4 div.sk-estimator {font-family: monospace;background-color: #f0f8ff;border: 1px dotted black;border-radius: 0.25em;box-sizing: border-box;margin-bottom: 0.5em;}#sk-container-id-4 div.sk-estimator:hover {background-color: #d4ebff;}#sk-container-id-4 div.sk-parallel-item::after {content: \"\";width: 100%;border-bottom: 1px solid gray;flex-grow: 1;}#sk-container-id-4 div.sk-label:hover label.sk-toggleable__label {background-color: #d4ebff;}#sk-container-id-4 div.sk-serial::before {content: \"\";position: absolute;border-left: 1px solid gray;box-sizing: border-box;top: 0;bottom: 0;left: 50%;z-index: 0;}#sk-container-id-4 div.sk-serial {display: flex;flex-direction: column;align-items: center;background-color: white;padding-right: 0.2em;padding-left: 0.2em;position: relative;}#sk-container-id-4 div.sk-item {position: relative;z-index: 1;}#sk-container-id-4 div.sk-parallel {display: flex;align-items: stretch;justify-content: center;background-color: white;position: relative;}#sk-container-id-4 div.sk-item::before, #sk-container-id-4 div.sk-parallel-item::before {content: \"\";position: absolute;border-left: 1px solid gray;box-sizing: border-box;top: 0;bottom: 0;left: 50%;z-index: -1;}#sk-container-id-4 div.sk-parallel-item {display: flex;flex-direction: column;z-index: 1;position: relative;background-color: white;}#sk-container-id-4 div.sk-parallel-item:first-child::after {align-self: flex-end;width: 50%;}#sk-container-id-4 div.sk-parallel-item:last-child::after {align-self: flex-start;width: 50%;}#sk-container-id-4 div.sk-parallel-item:only-child::after {width: 0;}#sk-container-id-4 div.sk-dashed-wrapped {border: 1px dashed gray;margin: 0 0.4em 0.5em 0.4em;box-sizing: border-box;padding-bottom: 0.4em;background-color: white;}#sk-container-id-4 div.sk-label label {font-family: monospace;font-weight: bold;display: inline-block;line-height: 1.2em;}#sk-container-id-4 div.sk-label-container {text-align: center;}#sk-container-id-4 div.sk-container {/* jupyter's `normalize.less` sets `[hidden] { display: none; }` but bootstrap.min.css set `[hidden] { display: none !important; }` so we also need the `!important` here to be able to override the default hidden behavior on the sphinx rendered scikit-learn.org. See: https://github.com/scikit-learn/scikit-learn/issues/21755 */display: inline-block !important;position: relative;}#sk-container-id-4 div.sk-text-repr-fallback {display: none;}</style><div id=\"sk-container-id-4\" class=\"sk-top-container\"><div class=\"sk-text-repr-fallback\"><pre>GaussianHMM(covariance_type=&#x27;tied&#x27;,\n",
       "            covars_prior=array([[ 1.00000794e-01,  7.07373897e-03,  3.48780752e-03, ...,\n",
       "        -5.26863369e-05,  7.41318765e-03, -3.35068923e-03],\n",
       "       [ 7.07373897e-03,  1.00000794e-01,  2.03884476e-05, ...,\n",
       "        -3.69853029e-06, -9.41020791e-06, -2.98442384e-04],\n",
       "       [ 3.48780752e-03,  2.03884476e-05,  1.00000794e-01, ...,\n",
       "        -2.35054133e-06,  4.07547782e-04, -2.21360666e-04],...\n",
       "            transmat_prior=array([[5.34748003e-01, 3.65269817e-01, 9.17555166e-02, 7.85542455e-03,\n",
       "        3.71239345e-04],\n",
       "       [5.34979424e-01, 3.63185055e-01, 9.34308794e-02, 7.92562109e-03,\n",
       "        4.79021055e-04],\n",
       "       [5.33716541e-01, 3.64962251e-01, 9.33424846e-02, 7.54975978e-03,\n",
       "        4.28963624e-04],\n",
       "       [5.16582915e-01, 3.76884422e-01, 9.24623116e-02, 1.40703518e-02,\n",
       "        0.00000000e+00],\n",
       "       [5.00000000e-01, 3.84615385e-01, 1.15384615e-01, 0.00000000e+00,\n",
       "        0.00000000e+00]]))</pre><b>In a Jupyter environment, please rerun this cell to show the HTML representation or trust the notebook. <br />On GitHub, the HTML representation is unable to render, please try loading this page with nbviewer.org.</b></div><div class=\"sk-container\" hidden><div class=\"sk-item\"><div class=\"sk-estimator sk-toggleable\"><input class=\"sk-toggleable__control sk-hidden--visually\" id=\"sk-estimator-id-4\" type=\"checkbox\" checked><label for=\"sk-estimator-id-4\" class=\"sk-toggleable__label sk-toggleable__label-arrow\">GaussianHMM</label><div class=\"sk-toggleable__content\"><pre>GaussianHMM(covariance_type=&#x27;tied&#x27;,\n",
       "            covars_prior=array([[ 1.00000794e-01,  7.07373897e-03,  3.48780752e-03, ...,\n",
       "        -5.26863369e-05,  7.41318765e-03, -3.35068923e-03],\n",
       "       [ 7.07373897e-03,  1.00000794e-01,  2.03884476e-05, ...,\n",
       "        -3.69853029e-06, -9.41020791e-06, -2.98442384e-04],\n",
       "       [ 3.48780752e-03,  2.03884476e-05,  1.00000794e-01, ...,\n",
       "        -2.35054133e-06,  4.07547782e-04, -2.21360666e-04],...\n",
       "            transmat_prior=array([[5.34748003e-01, 3.65269817e-01, 9.17555166e-02, 7.85542455e-03,\n",
       "        3.71239345e-04],\n",
       "       [5.34979424e-01, 3.63185055e-01, 9.34308794e-02, 7.92562109e-03,\n",
       "        4.79021055e-04],\n",
       "       [5.33716541e-01, 3.64962251e-01, 9.33424846e-02, 7.54975978e-03,\n",
       "        4.28963624e-04],\n",
       "       [5.16582915e-01, 3.76884422e-01, 9.24623116e-02, 1.40703518e-02,\n",
       "        0.00000000e+00],\n",
       "       [5.00000000e-01, 3.84615385e-01, 1.15384615e-01, 0.00000000e+00,\n",
       "        0.00000000e+00]]))</pre></div></div></div></div></div>"
      ],
      "text/plain": [
       "GaussianHMM(covariance_type='tied',\n",
       "            covars_prior=array([[ 1.00000794e-01,  7.07373897e-03,  3.48780752e-03, ...,\n",
       "        -5.26863369e-05,  7.41318765e-03, -3.35068923e-03],\n",
       "       [ 7.07373897e-03,  1.00000794e-01,  2.03884476e-05, ...,\n",
       "        -3.69853029e-06, -9.41020791e-06, -2.98442384e-04],\n",
       "       [ 3.48780752e-03,  2.03884476e-05,  1.00000794e-01, ...,\n",
       "        -2.35054133e-06,  4.07547782e-04, -2.21360666e-04],...\n",
       "            transmat_prior=array([[5.34748003e-01, 3.65269817e-01, 9.17555166e-02, 7.85542455e-03,\n",
       "        3.71239345e-04],\n",
       "       [5.34979424e-01, 3.63185055e-01, 9.34308794e-02, 7.92562109e-03,\n",
       "        4.79021055e-04],\n",
       "       [5.33716541e-01, 3.64962251e-01, 9.33424846e-02, 7.54975978e-03,\n",
       "        4.28963624e-04],\n",
       "       [5.16582915e-01, 3.76884422e-01, 9.24623116e-02, 1.40703518e-02,\n",
       "        0.00000000e+00],\n",
       "       [5.00000000e-01, 3.84615385e-01, 1.15384615e-01, 0.00000000e+00,\n",
       "        0.00000000e+00]]))"
      ]
     },
     "execution_count": 140,
     "metadata": {},
     "output_type": "execute_result"
    }
   ],
   "source": [
    "model.fit(X_rfeTrain)"
   ]
  },
  {
   "cell_type": "code",
   "execution_count": 141,
   "metadata": {},
   "outputs": [],
   "source": [
    "Y_pred = model.predict(X_rfeTest)"
   ]
  },
  {
   "cell_type": "markdown",
   "metadata": {},
   "source": [
    "# END: HIDDEN MARKOV MODEL"
   ]
  },
  {
   "cell_type": "markdown",
   "metadata": {},
   "source": [
    "# START: CONFUSION MATRIX"
   ]
  },
  {
   "cell_type": "code",
   "execution_count": 142,
   "metadata": {},
   "outputs": [
    {
     "data": {
      "text/plain": [
       "0.19787970191625265"
      ]
     },
     "execution_count": 142,
     "metadata": {},
     "output_type": "execute_result"
    }
   ],
   "source": [
    "from sklearn.metrics import accuracy_score\n",
    "accuracy = accuracy_score(Y_test, Y_pred)\n",
    "accuracy"
   ]
  },
  {
   "cell_type": "code",
   "execution_count": 143,
   "metadata": {},
   "outputs": [
    {
     "data": {
      "text/plain": [
       "array([[  20,  981,   79, 8625,    6],\n",
       "       [2300,  305, 3616, 1238,    1],\n",
       "       [ 314,    0, 1381,  726,    0],\n",
       "       [   1,    1,  127, 2755,    1],\n",
       "       [   5,    0,    0,   62,    0]])"
      ]
     },
     "execution_count": 143,
     "metadata": {},
     "output_type": "execute_result"
    }
   ],
   "source": [
    "from sklearn.metrics import confusion_matrix\n",
    "cm = confusion_matrix(Y_test, Y_pred)\n",
    "cm"
   ]
  },
  {
   "cell_type": "code",
   "execution_count": 144,
   "metadata": {},
   "outputs": [],
   "source": [
    "import matplotlib.pyplot as plt\n",
    "import seaborn as sns\n",
    "cm_df = pd.DataFrame(cm,\n",
    "                     index = ['Normal', 'DoS', 'Probe', 'R2L', 'U2R'], \n",
    "                     columns = ['Normal', 'DoS', 'Probe', 'R2L', 'U2R'])"
   ]
  },
  {
   "cell_type": "code",
   "execution_count": 145,
   "metadata": {},
   "outputs": [
    {
     "name": "stderr",
     "output_type": "stream",
     "text": [
      "/tmp/ipykernel_15058/2983344996.py:35: RuntimeWarning: invalid value encountered in double_scalars\n",
      "  list_label[c]['F1_score'] = (2*list_label[c]['PPV']*list_label[c]['TPR'])/(list_label[c]['PPV'] + list_label[c]['TPR'])\n"
     ]
    },
    {
     "name": "stdout",
     "output_type": "stream",
     "text": [
      "       TPR       ACC       PPV       NPV      FNR       FPR       FDR  \\\n",
      "0  0.00206  0.453912  0.007576  0.513113  0.99794  0.204161  0.992424   \n",
      "\n",
      "        FOR  F1_score  \n",
      "0  0.486887  0.003239  \n",
      "        TPR       ACC       PPV       NPV       FNR       FPR       FDR  \\\n",
      "0  0.040885  0.639061  0.236985  0.663405  0.959115  0.065102  0.763015   \n",
      "\n",
      "        FOR  F1_score  \n",
      "0  0.336595  0.069738  \n",
      "        TPR       ACC       PPV       NPV       FNR       FPR       FDR  \\\n",
      "0  0.570425  0.784333  0.265424  0.940027  0.429575  0.189932  0.734576   \n",
      "\n",
      "        FOR  F1_score  \n",
      "0  0.059973  0.362277  \n",
      "        TPR      ACC       PPV       NPV       FNR       FPR       FDR  \\\n",
      "0  0.954939  0.52178  0.205505  0.985774  0.045061  0.541787  0.794495   \n",
      "\n",
      "        FOR  F1_score  \n",
      "0  0.014226  0.338224  \n",
      "   TPR       ACC  PPV       NPV  FNR       FPR  FDR       FOR  F1_score\n",
      "0  0.0  0.996673  0.0  0.997027  1.0  0.000356  1.0  0.002973       NaN\n"
     ]
    },
    {
     "data": {
      "image/png": "[encoded data removed]",
      "text/plain": [
       "<Figure size 1000x500 with 1 Axes>"
      ]
     },
     "metadata": {},
     "output_type": "display_data"
    },
    {
     "data": {
      "image/png": "[encoded data removed]",
      "text/plain": [
       "<Figure size 1000x500 with 1 Axes>"
      ]
     },
     "metadata": {},
     "output_type": "display_data"
    },
    {
     "data": {
      "image/png": "[encoded data removed]",
      "text/plain": [
       "<Figure size 1000x500 with 1 Axes>"
      ]
     },
     "metadata": {},
     "output_type": "display_data"
    },
    {
     "data": {
      "image/png": "[encoded data removed]",
      "text/plain": [
       "<Figure size 1000x500 with 1 Axes>"
      ]
     },
     "metadata": {},
     "output_type": "display_data"
    },
    {
     "data": {
      "image/png": "[encoded data removed]",
      "text/plain": [
       "<Figure size 1000x500 with 1 Axes>"
      ]
     },
     "metadata": {},
     "output_type": "display_data"
    }
   ],
   "source": [
    "normal = {}\n",
    "DoS = {}\n",
    "Probe = {}\n",
    "R2L = {}\n",
    "U2R = {}\n",
    "\n",
    "list_label = [normal, DoS, Probe, R2L, U2R]\n",
    "sum_matrix = sum(sum(cm))\n",
    "for c in range(len(list_label)):\n",
    "    # True positive - số record mô hình dự đoán là attack giống như trong test dataset, dương tính đúng, dương tính thực\n",
    "    tp = cm[c,c]\n",
    "    # False positive - số record mô hình dự đoán là attack mà trong test dataset là normal, dương tính sai, dương tính giả\n",
    "    fp = sum(cm[:,c]) - cm[c,c]\n",
    "    # False negative - số record mô hình dự đoán là normal mà trong test dataset là attack, âm tính sai, âm tính giả\n",
    "    fn = sum(cm[c,:]) - cm[c,c]\n",
    "    # True negative - số record mô hình dự đoán là normal giống như trong test dataset, âm tính đúng, âm tính thật\n",
    "    tn = sum_matrix - tp - fp - fn\n",
    "    # Recall - True positive rate - độ nhạy - tỷ lệ dương tính thực\n",
    "    list_label[c]['TPR'] = tp/(tp+fn)\n",
    "    # Accuracy - độ chính xác\n",
    "    list_label[c]['ACC'] = (tp+tn)/(tp+fp+fn+tn)\n",
    "    # Precision - Positive Predictive Value - tỷ lệ dương tính đoán đúng\n",
    "    list_label[c]['PPV'] = tp/(tp+fp)\n",
    "    # Negative Predictive Value - tỷ lệ âm tính đoán đúng\n",
    "    list_label[c]['NPV'] = tn/(tn+fn)\n",
    "    # Miss Rate - False Negative Rate- tỷ lệ dương tính giả\n",
    "    list_label[c]['FNR'] = 1 - list_label[c]['TPR']\n",
    "    # Fall-out - False Positive Rate - Tỷ lệ âm tính giả \n",
    "    list_label[c]['FPR'] = fp/(fp+tn)\n",
    "    # False Discovery Rate - tỷ lệ đoán dương tính sai\n",
    "    list_label[c]['FDR'] = 1 - list_label[c]['PPV']\n",
    "    # False Omission Rate - tỷ lệ đoán âm tính sai\n",
    "    list_label[c]['FOR'] = 1 - list_label[c]['NPV']\n",
    "    # F1 score - điểm F1 - điểm trung bình hài hòa giữa Precision và Recall\n",
    "    list_label[c]['F1_score'] = (2*list_label[c]['PPV']*list_label[c]['TPR'])/(list_label[c]['PPV'] + list_label[c]['TPR'])\n",
    "list_tt = ['normal', 'DoS', 'Probe', 'R2L', 'U2R']\n",
    "for c in range(len(list_label)):\n",
    "\n",
    "  normal = [list_label[c]]\n",
    "  df = pd.DataFrame(normal)\n",
    "  print(df)\n",
    "  df.plot(kind='bar')\n",
    "  plt.rcParams['figure.figsize'] = [10, 5]\n",
    "  plt.rcParams['figure.dpi'] = 100\n",
    "  plt.title(label=list_tt[c], color=\"green\")\n",
    "  plt.xlabel('') \n",
    "  plt.xticks([])\n",
    "  plt.figure(1)\n",
    "  plt.plot()"
   ]
  },
  {
   "cell_type": "markdown",
   "metadata": {},
   "source": [
    "So với Hidden Markov Model (HMM) khi áp dụng Confusion Matrix, Covolutional Neural Network có độ chính xác (Accuracy) cao hơn"
   ]
  },
  {
   "cell_type": "code",
   "execution_count": 148,
   "metadata": {},
   "outputs": [
    {
     "name": "stdout",
     "output_type": "stream",
     "text": [
      "Average of Accuracy: 0.679151880766501\n"
     ]
    }
   ],
   "source": [
    "avg_acc = 0\n",
    "for item in list_label:\n",
    "    avg_acc+=item[\"ACC\"]\n",
    "avg_acc/=5\n",
    "print(\"Average of Accuracy:\",avg_acc)"
   ]
  },
  {
   "cell_type": "markdown",
   "metadata": {},
   "source": [
    "# END: CONFUSION MATRIX"
   ]
  }
 ],
 "metadata": {
  "kernelspec": {
   "display_name": "Python 3 (ipykernel)",
   "language": "python",
   "name": "python3"
  },
  "language_info": {
   "codemirror_mode": {
    "name": "ipython",
    "version": 3
   },
   "file_extension": ".py",
   "mimetype": "text/x-python",
   "name": "python",
   "nbconvert_exporter": "python",
   "pygments_lexer": "ipython3",
   "version": "3.10.9"
  }
 },
 "nbformat": 4,
 "nbformat_minor": 2
}
