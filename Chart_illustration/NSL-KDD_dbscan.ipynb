{
 "cells": [
  {
   "cell_type": "markdown",
   "metadata": {},
   "source": [
    "Nguyen Ngoc Tieu Long"
   ]
  },
  {
   "cell_type": "code",
   "execution_count": 36,
   "metadata": {},
   "outputs": [],
   "source": [
    "import numpy as np\n",
    "import pandas as pd\n",
    "import matplotlib.pyplot as plt\n",
    "import seaborn as sns\n",
    "from sklearn.preprocessing import LabelEncoder, OneHotEncoder\n",
    "from sklearn import preprocessing\n",
    "import sklearn.metrics as metrics"
   ]
  },
  {
   "cell_type": "markdown",
   "metadata": {},
   "source": [
    "# START: DATA GATHERING"
   ]
  },
  {
   "cell_type": "code",
   "execution_count": 37,
   "metadata": {},
   "outputs": [],
   "source": [
    "# Các thuộc tính của dataset\n",
    "col_names = [\"duration\", \"protocol_type\", \"service\", \"flag\", \"src_bytes\",\n",
    "             \"dst_bytes\", \"land\", \"wrong_fragment\", \"urgent\", \"hot\", \"num_failed_logins\",\n",
    "             \"logged_in\", \"num_compromised\", \"root_shell\", \"su_attempted\", \"num_root\",\n",
    "             \"num_file_creations\", \"num_shells\", \"num_access_files\", \"num_outbound_cmds\",\n",
    "             \"is_host_login\", \"is_guest_login\", \"count\", \"srv_count\", \"serror_rate\",\n",
    "             \"srv_serror_rate\", \"rerror_rate\", \"srv_rerror_rate\", \"same_srv_rate\",\n",
    "             \"diff_srv_rate\", \"srv_diff_host_rate\", \"dst_host_count\", \"dst_host_srv_count\",\n",
    "             \"dst_host_same_srv_rate\", \"dst_host_diff_srv_rate\", \"dst_host_same_src_port_rate\",\n",
    "             \"dst_host_srv_diff_host_rate\", \"dst_host_serror_rate\", \"dst_host_srv_serror_rate\",\n",
    "             \"dst_host_rerror_rate\", \"dst_host_srv_rerror_rate\", \"label\"]"
   ]
  },
  {
   "cell_type": "code",
   "execution_count": 38,
   "metadata": {},
   "outputs": [
    {
     "name": "stdout",
     "output_type": "stream",
     "text": [
      "(125973, 42)\n",
      "(22544, 42)\n"
     ]
    }
   ],
   "source": [
    "# Load dataset\n",
    "origin_train_dataFrame = pd.read_csv(\"NSL_KDD_Train.csv\", header=None, names=col_names)\n",
    "origin_test_dataFrame = pd.read_csv(\"NSL_KDD_Test.csv\", header=None, names=col_names)\n",
    "# origin_train_dataFrame.drop(\"score\",axis=1,inplace=True)\n",
    "# origin_test_dataFrame.drop(\"score\",axis=1,inplace=True)\n",
    "print(origin_train_dataFrame.shape)\n",
    "print(origin_test_dataFrame.shape)"
   ]
  },
  {
   "cell_type": "markdown",
   "metadata": {},
   "source": [
    "Nhóm các features vào 3 nhóm"
   ]
  },
  {
   "cell_type": "code",
   "execution_count": 39,
   "metadata": {},
   "outputs": [],
   "source": [
    "# nominal features: 2 - 3 - 4\n",
    "# binary features: 7 - 12 - 14 - 15 - 21\n",
    "# Còn lại là numeric features\n",
    "nominal_features = [\"protocol_type\", \"service\", \"flag\"]\n",
    "binary_features = [\"land\", \"logged_in\", \"root_shell\",\n",
    "                   \"su_attempted\", \"is_host_login\", \"is_guest_login\"]\n",
    "numeric_features = []\n",
    "for feature in col_names:\n",
    "    if ((feature not in nominal_features) and (feature not in binary_features) and (feature != \"label\")):\n",
    "        numeric_features.append(feature)"
   ]
  },
  {
   "cell_type": "code",
   "execution_count": 40,
   "metadata": {},
   "outputs": [
    {
     "name": "stdout",
     "output_type": "stream",
     "text": [
      "Nominal feature (3): ['protocol_type', 'service', 'flag']\n",
      "Binary features (6): ['land', 'logged_in', 'root_shell', 'su_attempted', 'is_host_login', 'is_guest_login']\n",
      "Numeric features (32): ['duration', 'src_bytes', 'dst_bytes', 'wrong_fragment', 'urgent', 'hot', 'num_failed_logins', 'num_compromised', 'num_root', 'num_file_creations', 'num_shells', 'num_access_files', 'num_outbound_cmds', 'count', 'srv_count', 'serror_rate', 'srv_serror_rate', 'rerror_rate', 'srv_rerror_rate', 'same_srv_rate', 'diff_srv_rate', 'srv_diff_host_rate', 'dst_host_count', 'dst_host_srv_count', 'dst_host_same_srv_rate', 'dst_host_diff_srv_rate', 'dst_host_same_src_port_rate', 'dst_host_srv_diff_host_rate', 'dst_host_serror_rate', 'dst_host_srv_serror_rate', 'dst_host_rerror_rate', 'dst_host_srv_rerror_rate']\n"
     ]
    }
   ],
   "source": [
    "# Liệt kê các features theo từng nhóm\n",
    "print(\"Nominal feature (\", len(nominal_features), \"): \", nominal_features, sep=\"\")\n",
    "print(\"Binary features (\", len(binary_features), \"): \", binary_features, sep=\"\")\n",
    "print(\"Numeric features (\", len(numeric_features), \"): \", numeric_features, sep=\"\")"
   ]
  },
  {
   "cell_type": "markdown",
   "metadata": {},
   "source": [
    "Chia lại các record vào 4 phân lớp tấn công"
   ]
  },
  {
   "cell_type": "code",
   "execution_count": 41,
   "metadata": {},
   "outputs": [
    {
     "name": "stdout",
     "output_type": "stream",
     "text": [
      "['normal' 'neptune' 'warezclient' 'ipsweep' 'portsweep' 'teardrop' 'nmap'\n",
      " 'satan' 'smurf' 'pod' 'back' 'guess_passwd' 'ftp_write' 'multihop'\n",
      " 'rootkit' 'buffer_overflow' 'imap' 'warezmaster' 'phf' 'land'\n",
      " 'loadmodule' 'spy' 'perl']\n",
      "['neptune' 'normal' 'saint' 'mscan' 'guess_passwd' 'smurf' 'apache2'\n",
      " 'satan' 'buffer_overflow' 'back' 'warezmaster' 'snmpgetattack'\n",
      " 'processtable' 'pod' 'httptunnel' 'nmap' 'ps' 'snmpguess' 'ipsweep'\n",
      " 'mailbomb' 'portsweep' 'multihop' 'named' 'sendmail' 'loadmodule' 'xterm'\n",
      " 'worm' 'teardrop' 'rootkit' 'xlock' 'perl' 'land' 'xsnoop' 'sqlattack'\n",
      " 'ftp_write' 'imap' 'udpstorm' 'phf']\n",
      "['xlock', 'saint', 'mailbomb', 'processtable', 'snmpgetattack', 'mscan', 'xsnoop', 'worm', 'udpstorm', 'snmpguess', 'ps', 'apache2', 'named', 'xterm', 'sendmail', 'httptunnel', 'sqlattack']\n"
     ]
    }
   ],
   "source": [
    "# Xem sự phân phối các subclass\n",
    "print(origin_train_dataFrame[\"label\"].unique())\n",
    "print(origin_test_dataFrame[\"label\"].unique())\n",
    "\n",
    "trainLabels = origin_train_dataFrame[\"label\"].tolist()\n",
    "testLabels = origin_test_dataFrame[\"label\"].tolist()\n",
    "\n",
    "differentLabels = list(set(testLabels) - set(trainLabels))\n",
    "print(differentLabels)\n",
    "# N19DCAT033 - Tran Viet Hoang"
   ]
  },
  {
   "cell_type": "code",
   "execution_count": 42,
   "metadata": {},
   "outputs": [],
   "source": [
    "# Trước tiên cần phải liệt kê danh sách các subclass của 4 phân lớp DoS, Probe, U2R, R2L\n",
    "# Tấn công DoS\n",
    "label_DoS = ['apache2', 'back', 'land', 'neptune', 'mailbomb',\n",
    "             'pod', 'processtable', 'smurf', 'teardrop', 'udpstorm', 'worm']\n",
    "# Tấn công thu thập thông tin\n",
    "label_Probe = ['ipsweep', 'mscan', 'nmap', 'portsweep', 'saint', 'satan']\n",
    "# Tấn công chiếm quyền, leo thang đặc quyền\n",
    "label_U2R = ['buffer_overflow', 'loadmodule',\n",
    "             'perl', 'ps', 'rootkit', 'sqlattack', 'xterm']\n",
    "# Tấn công kết nối truy cập từ xa\n",
    "label_R2L = ['ftp_write', 'guess_passwd', 'httptunnel', 'imap', 'multihop', 'named', 'phf',\n",
    "             'sendmail', 'snmpgetattack', 'snmpguess', 'spy', 'warezclient', 'warezmaster', 'xlock', 'xsnoop']"
   ]
  },
  {
   "cell_type": "markdown",
   "metadata": {},
   "source": [
    "Tách column label thành labels2 (normal - attack) và labels5 (normal - DoS, Probe, R2L, U2R)"
   ]
  },
  {
   "cell_type": "code",
   "execution_count": 43,
   "metadata": {},
   "outputs": [],
   "source": [
    "attack_labels = []\n",
    "attack_labels.extend(label_DoS)\n",
    "attack_labels.extend(label_Probe)\n",
    "attack_labels.extend(label_U2R)\n",
    "attack_labels.extend(label_R2L)"
   ]
  },
  {
   "cell_type": "code",
   "execution_count": 44,
   "metadata": {},
   "outputs": [],
   "source": [
    "# Đối với TRAIN DATASET\n",
    "origin_train_dataFrame.rename(columns={\"label\": \"labels2\"}, inplace=True)\n",
    "trainLabels2Column = origin_train_dataFrame[\"labels2\"].tolist()\n",
    "origin_train_dataFrame[\"labels5\"] = trainLabels2Column\n",
    "origin_train_dataFrame[\"labels2\"].replace(attack_labels, \"attack\", inplace=True)\n"
   ]
  },
  {
   "cell_type": "code",
   "execution_count": 45,
   "metadata": {},
   "outputs": [],
   "source": [
    "# Đối với TEST DATASET\n",
    "origin_test_dataFrame.rename(columns={\"label\": \"labels2\"}, inplace=True)\n",
    "testLabels2Column = origin_test_dataFrame[\"labels2\"].tolist()\n",
    "origin_test_dataFrame[\"labels5\"] = testLabels2Column\n",
    "origin_test_dataFrame[\"labels2\"].replace(attack_labels, \"attack\", inplace=True)"
   ]
  },
  {
   "cell_type": "code",
   "execution_count": 46,
   "metadata": {},
   "outputs": [
    {
     "name": "stdout",
     "output_type": "stream",
     "text": [
      "['normal' 'attack']\n",
      "['normal' 'neptune' 'warezclient' 'ipsweep' 'portsweep' 'teardrop' 'nmap'\n",
      " 'satan' 'smurf' 'pod' 'back' 'guess_passwd' 'ftp_write' 'multihop'\n",
      " 'rootkit' 'buffer_overflow' 'imap' 'warezmaster' 'phf' 'land'\n",
      " 'loadmodule' 'spy' 'perl']\n",
      "\n",
      "['attack' 'normal']\n",
      "['neptune' 'normal' 'saint' 'mscan' 'guess_passwd' 'smurf' 'apache2'\n",
      " 'satan' 'buffer_overflow' 'back' 'warezmaster' 'snmpgetattack'\n",
      " 'processtable' 'pod' 'httptunnel' 'nmap' 'ps' 'snmpguess' 'ipsweep'\n",
      " 'mailbomb' 'portsweep' 'multihop' 'named' 'sendmail' 'loadmodule' 'xterm'\n",
      " 'worm' 'teardrop' 'rootkit' 'xlock' 'perl' 'land' 'xsnoop' 'sqlattack'\n",
      " 'ftp_write' 'imap' 'udpstorm' 'phf']\n"
     ]
    }
   ],
   "source": [
    "print(origin_train_dataFrame[\"labels2\"].unique())\n",
    "print(origin_train_dataFrame[\"labels5\"].unique())\n",
    "print()\n",
    "print(origin_test_dataFrame[\"labels2\"].unique())\n",
    "print(origin_test_dataFrame[\"labels5\"].unique())"
   ]
  },
  {
   "cell_type": "code",
   "execution_count": 47,
   "metadata": {},
   "outputs": [],
   "source": [
    "# Đối với TRAIN DATASET\n",
    "# Chia các record vào DoS\n",
    "origin_train_dataFrame[\"labels5\"].replace(label_DoS, \"DoS\", inplace=True)\n",
    "# Chia các record vào Probe\n",
    "origin_train_dataFrame[\"labels5\"].replace(label_Probe, \"Probe\", inplace=True)\n",
    "# Chia các record vào U2R\n",
    "origin_train_dataFrame[\"labels5\"].replace(label_U2R, \"U2R\", inplace=True)\n",
    "# Chia các record vào R2L\n",
    "origin_train_dataFrame[\"labels5\"].replace(label_R2L, \"R2L\", inplace=True)\n",
    "\n",
    "# Đối với TEST DATASET\n",
    "# Chia các record vào DoS\n",
    "origin_test_dataFrame[\"labels5\"].replace(label_DoS, \"DoS\", inplace=True)\n",
    "# Chia các record vào Probe\n",
    "origin_test_dataFrame[\"labels5\"].replace(label_Probe, \"Probe\", inplace=True)\n",
    "# Chia các record vào U2R\n",
    "origin_test_dataFrame[\"labels5\"].replace(label_U2R, \"U2R\", inplace=True)\n",
    "# Chia các record vào R2L\n",
    "origin_test_dataFrame[\"labels5\"].replace(label_R2L, \"R2L\", inplace=True)"
   ]
  },
  {
   "cell_type": "code",
   "execution_count": 48,
   "metadata": {},
   "outputs": [
    {
     "name": "stdout",
     "output_type": "stream",
     "text": [
      "normal    67343\n",
      "attack    58630\n",
      "Name: labels2, dtype: int64\n"
     ]
    },
    {
     "data": {
      "image/png": "[encoded data removed]",
      "text/plain": [
       "<Figure size 640x480 with 1 Axes>"
      ]
     },
     "metadata": {},
     "output_type": "display_data"
    }
   ],
   "source": [
    "# Xem sự phân phối theo normal - attack\n",
    "print(origin_train_dataFrame[\"labels2\"].value_counts())\n",
    "# Vẽ biểu đồ phân phối theo normal - attack\n",
    "x_label_distribute = np.array(\n",
    "    origin_train_dataFrame[\"labels2\"].value_counts().index.tolist())\n",
    "y_label_distribute = np.array(\n",
    "    origin_train_dataFrame[\"labels2\"].value_counts().values.tolist())\n",
    "plt.bar(x_label_distribute, y_label_distribute)\n",
    "plt.show()"
   ]
  },
  {
   "cell_type": "code",
   "execution_count": 49,
   "metadata": {},
   "outputs": [
    {
     "name": "stdout",
     "output_type": "stream",
     "text": [
      "normal    67343\n",
      "DoS       45927\n",
      "Probe     11656\n",
      "R2L         995\n",
      "U2R          52\n",
      "Name: labels5, dtype: int64\n"
     ]
    },
    {
     "data": {
      "image/png": "[encoded data removed]",
      "text/plain": [
       "<Figure size 640x480 with 1 Axes>"
      ]
     },
     "metadata": {},
     "output_type": "display_data"
    }
   ],
   "source": [
    "# Xem lại sự phân phối theo lớp tấn công\n",
    "print(origin_train_dataFrame[\"labels5\"].value_counts())\n",
    "# Vẽ biểu đồ phân phối theo lớp tấn công\n",
    "x_label_distribute = np.array(\n",
    "    origin_train_dataFrame[\"labels5\"].value_counts().index.tolist())\n",
    "y_label_distribute = np.array(\n",
    "    origin_train_dataFrame[\"labels5\"].value_counts().values.tolist())\n",
    "plt.bar(x_label_distribute, y_label_distribute)\n",
    "plt.show()"
   ]
  },
  {
   "cell_type": "markdown",
   "metadata": {},
   "source": [
    "# END: DATA GATHERING"
   ]
  },
  {
   "cell_type": "markdown",
   "metadata": {},
   "source": [
    "# START: DATA PROCESSING"
   ]
  },
  {
   "cell_type": "code",
   "execution_count": 50,
   "metadata": {},
   "outputs": [],
   "source": [
    "# N19DCAT033 - Tran Viet Hoang\n",
    "# Trong dataset nsl-kdd có 3 thuộc tính nominal (string) nên không thể thực hiện tính toán các chỉ số trực tiếp\n",
    "# Sử dụng one-hot encoding để chuyển các nominal attribute sang numeric attribute\n",
    "# Các feature được scale để tránh việc các feature mang giá trị quá lớn ảnh hưởng tới kết quả của mô hình"
   ]
  },
  {
   "cell_type": "code",
   "execution_count": 51,
   "metadata": {},
   "outputs": [
    {
     "name": "stdout",
     "output_type": "stream",
     "text": [
      "\n",
      "Number of unique values in TRAIN DATASET for nominal attributes\n",
      "Feature 'protocol_type' has 3 categories\n",
      "Feature 'service' has 70 categories\n",
      "Feature 'flag' has 11 categories\n",
      "Feature 'labels2' has 2 categories\n",
      "Feature 'labels5' has 5 categories\n",
      "\n",
      "Number of unique values in TEST DATASET for nominal attributes\n",
      "Feature 'protocol_type' has 3 categories\n",
      "Feature 'service' has 64 categories\n",
      "Feature 'flag' has 11 categories\n",
      "Feature 'labels2' has 2 categories\n",
      "Feature 'labels5' has 5 categories\n"
     ]
    }
   ],
   "source": [
    "# Số lượng các giá trị khác nhau trong 3 nominal attribute\n",
    "print(\"\\nNumber of unique values in TRAIN DATASET for nominal attributes\")\n",
    "for col in origin_train_dataFrame.columns:\n",
    "    if origin_train_dataFrame[col].dtypes == 'object':\n",
    "        unique_cat = len(origin_train_dataFrame[col].unique())\n",
    "        print(\"Feature '{col}' has {unique_cat} categories\".format(\n",
    "            col=col, unique_cat=unique_cat))\n",
    "\n",
    "print(\"\\nNumber of unique values in TEST DATASET for nominal attributes\")\n",
    "for col in origin_test_dataFrame.columns:\n",
    "    if origin_test_dataFrame[col].dtypes == 'object':\n",
    "        unique_cat = len(origin_test_dataFrame[col].unique())\n",
    "        print(\"Feature '{col}' has {unique_cat} categories\".format(\n",
    "            col=col, unique_cat=unique_cat))"
   ]
  },
  {
   "cell_type": "code",
   "execution_count": 52,
   "metadata": {},
   "outputs": [],
   "source": [
    "# Với TRAIN DATASET thì sẽ có tổng cộng 3+70+11=84 dummies (column - feature mới) khi sử dụng one-hot encoding\n",
    "# Với TEST DATASET thì sẽ có tổng cộng 3+64+11=78 dummies khi sử dụng one-hot encoding"
   ]
  },
  {
   "cell_type": "markdown",
   "metadata": {},
   "source": [
    "Đưa các nominal (categorical) feature vào mảng numpy 2D (2D numpy array)"
   ]
  },
  {
   "cell_type": "code",
   "execution_count": 53,
   "metadata": {},
   "outputs": [
    {
     "name": "stdout",
     "output_type": "stream",
     "text": [
      "  protocol_type   service flag\n",
      "0           tcp  ftp_data   SF\n",
      "1           udp     other   SF\n",
      "2           tcp   private   S0\n",
      "3           tcp      http   SF\n",
      "4           tcp      http   SF\n"
     ]
    }
   ],
   "source": [
    "train_dataset_categorical_values = origin_train_dataFrame[nominal_features]\n",
    "test_dataset_categorical_values = origin_test_dataFrame[nominal_features]\n",
    "\n",
    "print(train_dataset_categorical_values.head())"
   ]
  },
  {
   "cell_type": "markdown",
   "metadata": {},
   "source": [
    "THỰC HIỆN DUMMY CÁC COLUMN (ATTRIBUTE)"
   ]
  },
  {
   "cell_type": "code",
   "execution_count": 54,
   "metadata": {},
   "outputs": [
    {
     "name": "stdout",
     "output_type": "stream",
     "text": [
      "['Protocol_type_icmp', 'Protocol_type_tcp', 'Protocol_type_udp', 'service_IRC', 'service_X11', 'service_Z39_50', 'service_aol', 'service_auth', 'service_bgp', 'service_courier', 'service_csnet_ns', 'service_ctf', 'service_daytime', 'service_discard', 'service_domain', 'service_domain_u', 'service_echo', 'service_eco_i', 'service_ecr_i', 'service_efs', 'service_exec', 'service_finger', 'service_ftp', 'service_ftp_data', 'service_gopher', 'service_harvest', 'service_hostnames', 'service_http', 'service_http_2784', 'service_http_443', 'service_http_8001', 'service_imap4', 'service_iso_tsap', 'service_klogin', 'service_kshell', 'service_ldap', 'service_link', 'service_login', 'service_mtp', 'service_name', 'service_netbios_dgm', 'service_netbios_ns', 'service_netbios_ssn', 'service_netstat', 'service_nnsp', 'service_nntp', 'service_ntp_u', 'service_other', 'service_pm_dump', 'service_pop_2', 'service_pop_3', 'service_printer', 'service_private', 'service_red_i', 'service_remote_job', 'service_rje', 'service_shell', 'service_smtp', 'service_sql_net', 'service_ssh', 'service_sunrpc', 'service_supdup', 'service_systat', 'service_telnet', 'service_tftp_u', 'service_tim_i', 'service_time', 'service_urh_i', 'service_urp_i', 'service_uucp', 'service_uucp_path', 'service_vmnet', 'service_whois', 'flag_OTH', 'flag_REJ', 'flag_RSTO', 'flag_RSTOS0', 'flag_RSTR', 'flag_S0', 'flag_S1', 'flag_S2', 'flag_S3', 'flag_SF', 'flag_SH']\n"
     ]
    }
   ],
   "source": [
    "# protocol type\n",
    "unique_protocol = sorted(origin_train_dataFrame.protocol_type.unique())\n",
    "string1 = 'Protocol_type_'\n",
    "unique_protocol2 = [string1 + x for x in unique_protocol]\n",
    "# service\n",
    "unique_service = sorted(origin_train_dataFrame.service.unique())\n",
    "string2 = 'service_'\n",
    "unique_service2 = [string2 + x for x in unique_service]\n",
    "# flag\n",
    "unique_flag = sorted(origin_train_dataFrame.flag.unique())\n",
    "string3 = 'flag_'\n",
    "unique_flag2 = [string3 + x for x in unique_flag]\n",
    "# Put together\n",
    "dumcols = unique_protocol2 + unique_service2 + unique_flag2\n",
    "print(dumcols)"
   ]
  },
  {
   "cell_type": "code",
   "execution_count": 55,
   "metadata": {},
   "outputs": [],
   "source": [
    "# Tương tự với TEST DATASET nhưng ở service chỉ có 64 giá trị khác nhau\n",
    "unique_service_test = sorted(origin_test_dataFrame.service.unique())\n",
    "unique_service2_test = [string2 + x for x in unique_service_test]\n",
    "testdumcols = unique_protocol2 + unique_service2_test + unique_flag2"
   ]
  },
  {
   "cell_type": "markdown",
   "metadata": {},
   "source": [
    "Chuyển categorical feature sang numerical sử dụng LabelEncoder()"
   ]
  },
  {
   "cell_type": "code",
   "execution_count": 56,
   "metadata": {},
   "outputs": [
    {
     "name": "stdout",
     "output_type": "stream",
     "text": [
      "   protocol_type  service  flag\n",
      "0              1       20     9\n",
      "1              2       44     9\n",
      "2              1       49     5\n",
      "3              1       24     9\n",
      "4              1       24     9\n"
     ]
    }
   ],
   "source": [
    "dataset_train_categorical_values_enc = train_dataset_categorical_values.apply(\n",
    "    LabelEncoder().fit_transform)\n",
    "# test set\n",
    "dataset_test_categorical_values_enc = test_dataset_categorical_values.apply(\n",
    "    LabelEncoder().fit_transform)\n",
    "print(dataset_train_categorical_values_enc.head())"
   ]
  },
  {
   "cell_type": "markdown",
   "metadata": {},
   "source": [
    "ONE-HOT ENCODING"
   ]
  },
  {
   "cell_type": "code",
   "execution_count": 57,
   "metadata": {},
   "outputs": [
    {
     "name": "stdout",
     "output_type": "stream",
     "text": [
      "        Protocol_type_icmp  Protocol_type_tcp  Protocol_type_udp  service_IRC  \\\n",
      "0                      0.0                1.0                0.0          0.0   \n",
      "1                      0.0                0.0                1.0          0.0   \n",
      "2                      0.0                1.0                0.0          0.0   \n",
      "3                      0.0                1.0                0.0          0.0   \n",
      "4                      0.0                1.0                0.0          0.0   \n",
      "...                    ...                ...                ...          ...   \n",
      "125968                 0.0                1.0                0.0          0.0   \n",
      "125969                 0.0                0.0                1.0          0.0   \n",
      "125970                 0.0                1.0                0.0          0.0   \n",
      "125971                 0.0                1.0                0.0          0.0   \n",
      "125972                 0.0                1.0                0.0          0.0   \n",
      "\n",
      "        service_X11  service_Z39_50  service_aol  service_auth  service_bgp  \\\n",
      "0               0.0             0.0          0.0           0.0          0.0   \n",
      "1               0.0             0.0          0.0           0.0          0.0   \n",
      "2               0.0             0.0          0.0           0.0          0.0   \n",
      "3               0.0             0.0          0.0           0.0          0.0   \n",
      "4               0.0             0.0          0.0           0.0          0.0   \n",
      "...             ...             ...          ...           ...          ...   \n",
      "125968          0.0             0.0          0.0           0.0          0.0   \n",
      "125969          0.0             0.0          0.0           0.0          0.0   \n",
      "125970          0.0             0.0          0.0           0.0          0.0   \n",
      "125971          0.0             0.0          0.0           0.0          0.0   \n",
      "125972          0.0             0.0          0.0           0.0          0.0   \n",
      "\n",
      "        service_courier  ...  flag_REJ  flag_RSTO  flag_RSTOS0  flag_RSTR  \\\n",
      "0                   0.0  ...       0.0        0.0          0.0        0.0   \n",
      "1                   0.0  ...       0.0        0.0          0.0        0.0   \n",
      "2                   0.0  ...       0.0        0.0          0.0        0.0   \n",
      "3                   0.0  ...       0.0        0.0          0.0        0.0   \n",
      "4                   0.0  ...       0.0        0.0          0.0        0.0   \n",
      "...                 ...  ...       ...        ...          ...        ...   \n",
      "125968              0.0  ...       0.0        0.0          0.0        0.0   \n",
      "125969              0.0  ...       0.0        0.0          0.0        0.0   \n",
      "125970              0.0  ...       0.0        0.0          0.0        0.0   \n",
      "125971              0.0  ...       0.0        0.0          0.0        0.0   \n",
      "125972              0.0  ...       0.0        0.0          0.0        0.0   \n",
      "\n",
      "        flag_S0  flag_S1  flag_S2  flag_S3  flag_SF  flag_SH  \n",
      "0           0.0      0.0      0.0      0.0      1.0      0.0  \n",
      "1           0.0      0.0      0.0      0.0      1.0      0.0  \n",
      "2           1.0      0.0      0.0      0.0      0.0      0.0  \n",
      "3           0.0      0.0      0.0      0.0      1.0      0.0  \n",
      "4           0.0      0.0      0.0      0.0      1.0      0.0  \n",
      "...         ...      ...      ...      ...      ...      ...  \n",
      "125968      1.0      0.0      0.0      0.0      0.0      0.0  \n",
      "125969      0.0      0.0      0.0      0.0      1.0      0.0  \n",
      "125970      0.0      0.0      0.0      0.0      1.0      0.0  \n",
      "125971      1.0      0.0      0.0      0.0      0.0      0.0  \n",
      "125972      0.0      0.0      0.0      0.0      1.0      0.0  \n",
      "\n",
      "[125973 rows x 84 columns]\n"
     ]
    }
   ],
   "source": [
    "enc = OneHotEncoder()\n",
    "# TRAIN DATASET\n",
    "dataset_train_categorical_values_encenc = enc.fit_transform(\n",
    "    dataset_train_categorical_values_enc)\n",
    "dataset_train_cat_data = pd.DataFrame(\n",
    "    dataset_train_categorical_values_encenc.toarray(), columns=dumcols)\n",
    "# TEST DATASET\n",
    "dataset_test_categorical_values_encenc = enc.fit_transform(\n",
    "    dataset_test_categorical_values_enc)\n",
    "dataset_test_cat_data = pd.DataFrame(\n",
    "    dataset_test_categorical_values_encenc.toarray(), columns=testdumcols)\n",
    "\n",
    "print(dataset_train_cat_data)"
   ]
  },
  {
   "cell_type": "markdown",
   "metadata": {},
   "source": [
    "Thêm 6 giá trị category (numeric) trong attribute service từ TRAIN DATASET vào TEST DATASET"
   ]
  },
  {
   "cell_type": "code",
   "execution_count": 58,
   "metadata": {},
   "outputs": [
    {
     "name": "stdout",
     "output_type": "stream",
     "text": [
      "['service_http_8001', 'service_urh_i', 'service_harvest', 'service_aol', 'service_red_i', 'service_http_2784']\n"
     ]
    }
   ],
   "source": [
    "trainservice = origin_train_dataFrame['service'].tolist()\n",
    "testservice = origin_test_dataFrame['service'].tolist()\n",
    "difference = list(set(trainservice) - set(testservice))\n",
    "string = 'service_'\n",
    "difference = [string + x for x in difference]\n",
    "print(difference)\n",
    "for col in difference:\n",
    "    dataset_test_cat_data[col] = 0"
   ]
  },
  {
   "cell_type": "markdown",
   "metadata": {},
   "source": [
    "Join encoded categorical dataframe với các dataframe khác"
   ]
  },
  {
   "cell_type": "code",
   "execution_count": 59,
   "metadata": {},
   "outputs": [
    {
     "name": "stdout",
     "output_type": "stream",
     "text": [
      "(125973, 43)\n",
      "(22544, 43)\n",
      "(125973, 124)\n",
      "(22544, 124)\n"
     ]
    }
   ],
   "source": [
    "newdf = origin_train_dataFrame.join(dataset_train_cat_data)\n",
    "newdf.drop('flag', axis=1, inplace=True)\n",
    "newdf.drop('protocol_type', axis=1, inplace=True)\n",
    "newdf.drop('service', axis=1, inplace=True)\n",
    "# test data\n",
    "newdf_test = origin_test_dataFrame.join(dataset_test_cat_data)\n",
    "newdf_test.drop('flag', axis=1, inplace=True)\n",
    "newdf_test.drop('protocol_type', axis=1, inplace=True)\n",
    "newdf_test.drop('service', axis=1, inplace=True)\n",
    "# Shape sẽ thay đổi, tăng column\n",
    "print(origin_train_dataFrame.shape)\n",
    "print(origin_test_dataFrame.shape)\n",
    "print(newdf.shape)\n",
    "print(newdf_test.shape)"
   ]
  },
  {
   "cell_type": "markdown",
   "metadata": {},
   "source": [
    "Đặt lại giá trị cho label 0=normal, 1=DoS, 2=Probe, 3=R2L and 4=U2R"
   ]
  },
  {
   "cell_type": "code",
   "execution_count": 60,
   "metadata": {},
   "outputs": [
    {
     "name": "stdout",
     "output_type": "stream",
     "text": [
      "0    67343\n",
      "1    45927\n",
      "2    11656\n",
      "3      995\n",
      "4       52\n",
      "Name: labels5, dtype: int64\n"
     ]
    }
   ],
   "source": [
    "# Lấy label column\n",
    "labels5df = newdf['labels5']\n",
    "labels5df_test = newdf_test['labels5']\n",
    "\n",
    "labels2df = newdf['labels2']\n",
    "labels2df_test = newdf_test['labels2']\n",
    "# Đổi label column\n",
    "newlabels5df = labels5df.replace(\n",
    "    {'normal': 0, 'DoS': 1, 'Probe': 2, 'R2L': 3, 'U2R': 4})\n",
    "newlabels5df_test = labels5df_test.replace(\n",
    "    {'normal': 0, 'DoS': 1, 'Probe': 2, 'R2L': 3, 'U2R': 4})\n",
    "\n",
    "newlabels2df = labels2df.replace({'normal': 0, 'attack': 1})\n",
    "newlabels2df_test = labels2df_test.replace({'normal': 0, 'attack': 1})\n",
    "# Đưa label mới vào\n",
    "newdf['labels5'] = newlabels5df\n",
    "newdf_test['labels5'] = newlabels5df_test\n",
    "\n",
    "newdf['labels2'] = newlabels2df\n",
    "newdf_test['labels2'] = newlabels2df_test\n",
    "\n",
    "print(newdf['labels5'].value_counts())"
   ]
  },
  {
   "cell_type": "code",
   "execution_count": 61,
   "metadata": {},
   "outputs": [
    {
     "name": "stdout",
     "output_type": "stream",
     "text": [
      "0    67343\n",
      "1    58630\n",
      "Name: labels2, dtype: int64\n"
     ]
    }
   ],
   "source": [
    "print(newdf[\"labels2\"].value_counts())"
   ]
  },
  {
   "cell_type": "markdown",
   "metadata": {},
   "source": [
    "Tạo dataframe cho từng kiểu tấn công"
   ]
  },
  {
   "cell_type": "code",
   "execution_count": 62,
   "metadata": {},
   "outputs": [],
   "source": [
    "# 0 = normal, 1 = DoS, 2 = Probe, 3 = R2L, 4 = U2R\n",
    "to_drop_DoS = [2, 3, 4]\n",
    "to_drop_Probe = [1, 3, 4]\n",
    "to_drop_R2L = [1, 2, 4]\n",
    "to_drop_U2R = [1, 2, 3]\n",
    "# Tạo dataframe cho từng loại tấn công dựa vào newdf với feature \"label\" không chứa các nhãn trong top_drop_typeOfAttack\n",
    "DoS_df = newdf[~newdf['labels5'].isin(to_drop_DoS)]\n",
    "Probe_df = newdf[~newdf['labels5'].isin(to_drop_Probe)]\n",
    "R2L_df = newdf[~newdf['labels5'].isin(to_drop_R2L)]\n",
    "U2R_df = newdf[~newdf['labels5'].isin(to_drop_U2R)]\n",
    "\n",
    "# test\n",
    "DoS_df_test = newdf_test[~newdf_test['labels5'].isin(to_drop_DoS)]\n",
    "Probe_df_test = newdf_test[~newdf_test['labels5'].isin(to_drop_Probe)]\n",
    "R2L_df_test = newdf_test[~newdf_test['labels5'].isin(to_drop_R2L)]\n",
    "U2R_df_test = newdf_test[~newdf_test['labels5'].isin(to_drop_U2R)]"
   ]
  },
  {
   "cell_type": "code",
   "execution_count": 63,
   "metadata": {},
   "outputs": [
    {
     "name": "stdout",
     "output_type": "stream",
     "text": [
      "Train:\n",
      "Dimensions of train: (125973, 124)\n",
      "Dimensions of DoS: (113270, 124)\n",
      "Dimensions of Probe: (78999, 124)\n",
      "Dimensions of R2L: (68338, 124)\n",
      "Dimensions of U2R: (67395, 124)\n",
      "Test:\n",
      "Dimensions of test: (22544, 124)\n",
      "Dimensions of DoS: (17171, 124)\n",
      "Dimensions of Probe: (12132, 124)\n",
      "Dimensions of R2L: (12596, 124)\n",
      "Dimensions of U2R: (9778, 124)\n"
     ]
    }
   ],
   "source": [
    "print('Train:')\n",
    "print(\"Dimensions of train:\", newdf.shape)\n",
    "print('Dimensions of DoS:', DoS_df.shape)\n",
    "print('Dimensions of Probe:', Probe_df.shape)\n",
    "print('Dimensions of R2L:', R2L_df.shape)\n",
    "print('Dimensions of U2R:', U2R_df.shape)\n",
    "print('Test:')\n",
    "print(\"Dimensions of test:\", newdf_test.shape)\n",
    "print('Dimensions of DoS:', DoS_df_test.shape)\n",
    "print('Dimensions of Probe:', Probe_df_test.shape)\n",
    "print('Dimensions of R2L:', R2L_df_test.shape)\n",
    "print('Dimensions of U2R:', U2R_df_test.shape)\n"
   ]
  },
  {
   "cell_type": "markdown",
   "metadata": {},
   "source": [
    "FEATURE SCALING"
   ]
  },
  {
   "cell_type": "code",
   "execution_count": 64,
   "metadata": {},
   "outputs": [],
   "source": [
    "# Chia dataframe thành X & Y\n",
    "# N19DCAT033 - Tran Viet Hoang\n",
    "# Tạo multi_train_data để tránh làm biến đổi train dataset gốc khi scale dữ liệu\n",
    "multi_train_data = origin_train_dataFrame.copy()\n",
    "multi_test_data = origin_test_dataFrame.copy()\n",
    "# Chia X là dataframe gồm các feature, Y là các nhãn tấn công (lớp tấn công)\n",
    "X_train = newdf.drop(['labels2','labels5'], axis=1)\n",
    "Y_train = newdf.labels5\n",
    "\n",
    "X_DoS = DoS_df.drop(['labels2','labels5'], axis=1)\n",
    "Y_DoS = DoS_df.labels5\n",
    "X_Probe = Probe_df.drop(['labels2','labels5'], axis=1)\n",
    "Y_Probe = Probe_df.labels5\n",
    "X_R2L = R2L_df.drop(['labels2','labels5'], axis=1)\n",
    "Y_R2L = R2L_df.labels5\n",
    "X_U2R = U2R_df.drop(['labels2','labels5'], axis=1)\n",
    "Y_U2R = U2R_df.labels5\n",
    "# test set\n",
    "X_test = newdf_test.drop(['labels2','labels5'], axis=1)\n",
    "Y_test = newdf_test.labels5\n",
    "\n",
    "X_DoS_test = DoS_df_test.drop(['labels2','labels5'], axis=1)\n",
    "Y_DoS_test = DoS_df_test.labels5\n",
    "X_Probe_test = Probe_df_test.drop(['labels2','labels5'], axis=1)\n",
    "Y_Probe_test = Probe_df_test.labels5\n",
    "X_R2L_test = R2L_df_test.drop(['labels2','labels5'], axis=1)\n",
    "Y_R2L_test = R2L_df_test.labels5\n",
    "X_U2R_test = U2R_df_test.drop(['labels2','labels5'], axis=1)\n",
    "Y_U2R_test = U2R_df_test.labels5\n",
    "\n",
    "colNames = list(X_DoS)\n",
    "colNames_test = list(X_DoS_test)"
   ]
  },
  {
   "cell_type": "markdown",
   "metadata": {},
   "source": [
    "Dùng StandardScaler() và MinMaxScaler() để scale dataframes"
   ]
  },
  {
   "cell_type": "code",
   "execution_count": 65,
   "metadata": {},
   "outputs": [],
   "source": [
    "# Scale dữ liệu sẽ chuyển dữ liệu tỷ lệ hoặc định dạng dữ liệu về cùng một phạm vi để tránh việc các dữ liệu quá lớn ảnh hưởng tới model\n",
    "# Scale dữ liệu cho từng feature numeric với train dataset\n",
    "# Scale bằng MinMaxScaler để tránh giá trị âm\n",
    "# Ở đây chỉ cần scale các numeric features, các thuộc tính số bởi chỉ các thuộc tính số mới có range lớn\n",
    "def scaleStandardData(dataFrame, numeric_cols):\n",
    "  scaler = preprocessing.StandardScaler()\n",
    "  for col in numeric_cols:\n",
    "    arr = dataFrame[col]\n",
    "    arr = np.array(arr)\n",
    "    dataFrame[col] = scaler.fit_transform(arr.reshape(len(arr),1))\n",
    "  return dataFrame\n",
    "\n",
    "def scaleMinMaxData(dataFrame, numeric_cols):\n",
    "  scaler = preprocessing.MinMaxScaler()\n",
    "  for col in numeric_cols:\n",
    "    arr = dataFrame[col]\n",
    "    arr = np.array(arr)\n",
    "    dataFrame[col] = scaler.fit_transform(arr.reshape(len(arr),1))\n",
    "  return dataFrame\n",
    "\n",
    "def scaleData(dataFrame, numeric_cols):\n",
    "  dataFrame = scaleStandardData(dataFrame, numeric_cols)\n",
    "  dataFrame = scaleMinMaxData(dataFrame, numeric_cols)\n",
    "  return dataFrame"
   ]
  },
  {
   "cell_type": "code",
   "execution_count": 66,
   "metadata": {},
   "outputs": [],
   "source": [
    "# Scale cho dữ liệu chung\n",
    "X_train = scaleData(X_train, numeric_features)\n",
    "X_test = scaleData(X_test, numeric_features)"
   ]
  },
  {
   "cell_type": "code",
   "execution_count": 67,
   "metadata": {},
   "outputs": [],
   "source": [
    "# Scale dữ liệu cho từng loại tấn công\n",
    "X_DoS = scaleData(X_DoS, numeric_features)\n",
    "X_Probe = scaleData(X_Probe, numeric_features)\n",
    "X_R2L = scaleData(X_R2L, numeric_features)\n",
    "X_U2R = scaleData(X_U2R, numeric_features)\n",
    "# scaler1 = preprocessing.StandardScaler().fit(X_DoS)\n",
    "# X_DoS=scaler1.transform(X_DoS) \n",
    "# scaler2 = preprocessing.StandardScaler().fit(X_Probe)\n",
    "# X_Probe=scaler2.transform(X_Probe) \n",
    "# scaler3 = preprocessing.StandardScaler().fit(X_R2L)\n",
    "# X_R2L=scaler3.transform(X_R2L) \n",
    "# scaler4 = preprocessing.StandardScaler().fit(X_U2R)\n",
    "# X_U2R=scaler4.transform(X_U2R) \n",
    "\n",
    "# test data\n",
    "X_DoS_test = scaleData(X_DoS_test, numeric_features)\n",
    "X_Probe_test = scaleData(X_Probe_test, numeric_features)\n",
    "X_R2L_test = scaleData(X_R2L_test, numeric_features)\n",
    "X_U2R_test = scaleData(X_U2R_test, numeric_features)\n",
    "# scaler5 = preprocessing.StandardScaler().fit(X_DoS_test)\n",
    "# X_DoS_test=scaler5.transform(X_DoS_test) \n",
    "# scaler6 = preprocessing.StandardScaler().fit(X_Probe_test)\n",
    "# X_Probe_test=scaler6.transform(X_Probe_test) \n",
    "# scaler7 = preprocessing.StandardScaler().fit(X_R2L_test)\n",
    "# X_R2L_test=scaler7.transform(X_R2L_test) \n",
    "# scaler8 = preprocessing.StandardScaler().fit(X_U2R_test)\n",
    "# X_U2R_test=scaler8.transform(X_U2R_test)"
   ]
  },
  {
   "cell_type": "code",
   "execution_count": 68,
   "metadata": {},
   "outputs": [
    {
     "name": "stdout",
     "output_type": "stream",
     "text": [
      "duration          0.060700\n",
      "src_bytes         0.004254\n",
      "dst_bytes         0.003070\n",
      "land              0.014086\n",
      "wrong_fragment    0.084510\n",
      "                    ...   \n",
      "flag_S1           0.053750\n",
      "flag_S2           0.031736\n",
      "flag_S3           0.019719\n",
      "flag_SF           0.490908\n",
      "flag_SH           0.046332\n",
      "Length: 122, dtype: float64\n"
     ]
    }
   ],
   "source": [
    "# print(X_DoS.std(axis=0))\n",
    "print(X_train.std())"
   ]
  },
  {
   "cell_type": "markdown",
   "metadata": {},
   "source": [
    "# END: DATA PROCESSING"
   ]
  },
  {
   "cell_type": "markdown",
   "metadata": {},
   "source": [
    "# START: FEATURE SELECTION"
   ]
  },
  {
   "cell_type": "markdown",
   "metadata": {},
   "source": [
    "Sử dụng Recursive feature elimination làm phương pháp trích chọn đặc trưng"
   ]
  },
  {
   "cell_type": "code",
   "execution_count": 69,
   "metadata": {},
   "outputs": [],
   "source": [
    "from sklearn.feature_selection import RFE\n",
    "from sklearn.tree import DecisionTreeClassifier\n",
    "\n",
    "# Áp dụng RFE để loại bỏ các feature có tác động yếu tới dữ liệu\n",
    "# RFE áp dụng thuật toán cây quyết định để tìm ra các feature có tác động yếu\n",
    "# Trong bài báo cáo chọn ra 30 feature có độ tác động lớn nhất\n",
    "clf = DecisionTreeClassifier(random_state=0)\n",
    "rfe = RFE(estimator=clf, n_features_to_select=30, step=1)"
   ]
  },
  {
   "cell_type": "code",
   "execution_count": 70,
   "metadata": {},
   "outputs": [],
   "source": [
    "# Đối với toàn bộ train dataset\n",
    "rfe.fit(X_train, Y_train.astype(int))\n",
    "X_rfeTrain=rfe.transform(X_train)\n",
    "true=rfe.support_\n",
    "rfecolindex_train=[i for i, x in enumerate(true) if x]\n",
    "rfecolname_train=list(colNames[i] for i in rfecolindex_train)"
   ]
  },
  {
   "cell_type": "code",
   "execution_count": 71,
   "metadata": {},
   "outputs": [],
   "source": [
    "# Đối với DOS dataset\n",
    "rfe.fit(X_DoS, Y_DoS.astype(int))\n",
    "X_rfeDoS=rfe.transform(X_DoS)\n",
    "true=rfe.support_\n",
    "rfecolindex_DoS=[i for i, x in enumerate(true) if x]\n",
    "rfecolname_DoS=list(colNames[i] for i in rfecolindex_DoS)"
   ]
  },
  {
   "cell_type": "code",
   "execution_count": 72,
   "metadata": {},
   "outputs": [],
   "source": [
    "# Đối với Probe dataset\n",
    "rfe.fit(X_Probe, Y_Probe.astype(int))\n",
    "X_rfeProbe=rfe.transform(X_Probe)\n",
    "true=rfe.support_\n",
    "rfecolindex_Probe=[i for i, x in enumerate(true) if x]\n",
    "rfecolname_Probe=list(colNames[i] for i in rfecolindex_Probe)"
   ]
  },
  {
   "cell_type": "code",
   "execution_count": 73,
   "metadata": {},
   "outputs": [],
   "source": [
    "# Đối với R2L dataset\n",
    "rfe.fit(X_R2L, Y_R2L.astype(int))\n",
    "X_rfeR2L=rfe.transform(X_R2L)\n",
    "true=rfe.support_\n",
    "rfecolindex_R2L=[i for i, x in enumerate(true) if x]\n",
    "rfecolname_R2L=list(colNames[i] for i in rfecolindex_R2L)"
   ]
  },
  {
   "cell_type": "code",
   "execution_count": 74,
   "metadata": {},
   "outputs": [],
   "source": [
    "# Đối với U2R dataset\n",
    "rfe.fit(X_U2R, Y_U2R.astype(int))\n",
    "X_rfeU2R=rfe.transform(X_U2R)\n",
    "true=rfe.support_\n",
    "rfecolindex_U2R=[i for i, x in enumerate(true) if x]\n",
    "rfecolname_U2R=list(colNames[i] for i in rfecolindex_U2R)"
   ]
  },
  {
   "cell_type": "code",
   "execution_count": 75,
   "metadata": {},
   "outputs": [
    {
     "name": "stdout",
     "output_type": "stream",
     "text": [
      "Features selected for Train: ['duration', 'src_bytes', 'dst_bytes', 'wrong_fragment', 'hot', 'num_failed_logins', 'num_compromised', 'num_file_creations', 'count', 'same_srv_rate', 'diff_srv_rate', 'dst_host_count', 'dst_host_srv_count', 'dst_host_same_srv_rate', 'dst_host_diff_srv_rate', 'dst_host_same_src_port_rate', 'dst_host_srv_diff_host_rate', 'dst_host_serror_rate', 'dst_host_srv_serror_rate', 'dst_host_rerror_rate', 'dst_host_srv_rerror_rate', 'Protocol_type_icmp', 'service_eco_i', 'service_ftp_data', 'service_other', 'service_private', 'flag_RSTR', 'flag_S0', 'flag_SF', 'flag_SH']\n",
      "\n",
      "Features selected for DoS: ['src_bytes', 'dst_bytes', 'land', 'wrong_fragment', 'urgent', 'hot', 'num_failed_logins', 'logged_in', 'num_compromised', 'num_root', 'srv_count', 'same_srv_rate', 'diff_srv_rate', 'srv_diff_host_rate', 'dst_host_count', 'dst_host_srv_count', 'dst_host_same_srv_rate', 'dst_host_diff_srv_rate', 'dst_host_srv_diff_host_rate', 'dst_host_serror_rate', 'dst_host_srv_serror_rate', 'dst_host_rerror_rate', 'dst_host_srv_rerror_rate', 'service_ecr_i', 'service_private', 'service_tim_i', 'flag_RSTR', 'flag_S0', 'flag_S3', 'flag_SF']\n",
      "\n",
      "Features selected for Probe: ['duration', 'src_bytes', 'dst_bytes', 'logged_in', 'count', 'srv_count', 'same_srv_rate', 'diff_srv_rate', 'srv_diff_host_rate', 'dst_host_count', 'dst_host_srv_count', 'dst_host_same_srv_rate', 'dst_host_diff_srv_rate', 'dst_host_same_src_port_rate', 'dst_host_srv_diff_host_rate', 'dst_host_serror_rate', 'dst_host_srv_serror_rate', 'dst_host_rerror_rate', 'Protocol_type_udp', 'service_eco_i', 'service_ecr_i', 'service_ftp_data', 'service_gopher', 'service_http', 'service_other', 'service_private', 'service_supdup', 'flag_REJ', 'flag_RSTR', 'flag_SH']\n",
      "\n",
      "Features selected for R2L: ['duration', 'src_bytes', 'dst_bytes', 'land', 'wrong_fragment', 'urgent', 'hot', 'num_failed_logins', 'logged_in', 'num_root', 'num_file_creations', 'num_shells', 'num_access_files', 'num_outbound_cmds', 'is_host_login', 'is_guest_login', 'count', 'srv_count', 'srv_diff_host_rate', 'dst_host_count', 'dst_host_srv_count', 'dst_host_same_srv_rate', 'dst_host_same_src_port_rate', 'dst_host_srv_diff_host_rate', 'dst_host_serror_rate', 'dst_host_srv_serror_rate', 'service_ftp_data', 'service_imap4', 'service_ldap', 'service_login']\n",
      "\n",
      "Features selected for U2R: ['duration', 'src_bytes', 'dst_bytes', 'land', 'wrong_fragment', 'urgent', 'hot', 'num_failed_logins', 'logged_in', 'num_compromised', 'root_shell', 'num_file_creations', 'num_shells', 'srv_count', 'dst_host_count', 'dst_host_srv_count', 'dst_host_same_srv_rate', 'dst_host_srv_diff_host_rate', 'Protocol_type_udp', 'service_ftp_data', 'service_http', 'service_imap4', 'service_kshell', 'service_ldap', 'service_other', 'service_ssh', 'service_sunrpc', 'service_supdup', 'service_systat', 'service_telnet']\n"
     ]
    }
   ],
   "source": [
    "print('Features selected for Train:',rfecolname_train)\n",
    "print()\n",
    "print('Features selected for DoS:',rfecolname_DoS)\n",
    "print()\n",
    "print('Features selected for Probe:',rfecolname_Probe)\n",
    "print()\n",
    "print('Features selected for R2L:',rfecolname_R2L)\n",
    "print()\n",
    "print('Features selected for U2R:',rfecolname_U2R)"
   ]
  },
  {
   "cell_type": "markdown",
   "metadata": {},
   "source": [
    "Từ bây giờ sẽ sử dụng dữ liệu đã được áp dụng RFE: X_rfeTrain, X_rfeDoS, X_rfeProbe, X_rfeR2L, X_rfeU2R"
   ]
  },
  {
   "cell_type": "code",
   "execution_count": 76,
   "metadata": {},
   "outputs": [],
   "source": [
    "X_rfeTest = X_test[rfecolname_train].copy()\n",
    "X_rfeDoS_test = X_DoS_test[rfecolname_DoS].copy()\n",
    "X_rfeProbe_test = X_Probe_test[rfecolname_Probe].copy()\n",
    "X_rfeR2L_test = X_R2L_test[rfecolname_R2L].copy()\n",
    "X_rfeU2R_test = X_U2R_test[rfecolname_U2R].copy()"
   ]
  },
  {
   "cell_type": "markdown",
   "metadata": {},
   "source": [
    "# END: FEATURE SELECTION"
   ]
  },
  {
   "cell_type": "markdown",
   "metadata": {},
   "source": [
    "# START: FEATURE EXTRACTION"
   ]
  },
  {
   "cell_type": "markdown",
   "metadata": {},
   "source": [
    "Sử dụng PCA làm phương pháp trích xuất đặc trưng, giảm chiều dữ liệu từ 30 feature xuống 15 feature"
   ]
  },
  {
   "cell_type": "markdown",
   "metadata": {},
   "source": [
    "Trích xuất đặc trưng trên toàn bộ dataset"
   ]
  },
  {
   "cell_type": "code",
   "execution_count": 77,
   "metadata": {},
   "outputs": [],
   "source": [
    "from sklearn.decomposition import PCA\n",
    "pca = PCA(n_components=15)\n",
    "X_pcaTrain = pca.fit_transform(X_rfeTrain)\n",
    "X_pcaTest = pca.fit_transform(X_rfeTest)"
   ]
  },
  {
   "cell_type": "code",
   "execution_count": 78,
   "metadata": {},
   "outputs": [
    {
     "name": "stdout",
     "output_type": "stream",
     "text": [
      "(125973, 30)\n",
      "(125973, 15)\n",
      "(22544, 30)\n",
      "(22544, 15)\n"
     ]
    }
   ],
   "source": [
    "print(X_rfeTrain.shape)\n",
    "print(X_pcaTrain.shape)\n",
    "print(X_rfeTest.shape)\n",
    "print(X_pcaTest.shape)"
   ]
  },
  {
   "cell_type": "markdown",
   "metadata": {},
   "source": [
    "Trích xuất đặc trưng trên DoS dataset"
   ]
  },
  {
   "cell_type": "code",
   "execution_count": 79,
   "metadata": {},
   "outputs": [
    {
     "name": "stdout",
     "output_type": "stream",
     "text": [
      "(113270, 30)\n",
      "(113270, 15)\n"
     ]
    }
   ],
   "source": [
    "X_pcaDoS = pca.fit_transform(X_rfeDoS)\n",
    "X_pcaDoS_test = pca.fit_transform(X_rfeDoS_test)\n",
    "print(X_rfeDoS.shape)\n",
    "print(X_pcaDoS.shape)"
   ]
  },
  {
   "cell_type": "markdown",
   "metadata": {},
   "source": [
    "Trích xuất đặc trưng trên Probe dataset"
   ]
  },
  {
   "cell_type": "code",
   "execution_count": 80,
   "metadata": {},
   "outputs": [
    {
     "name": "stdout",
     "output_type": "stream",
     "text": [
      "(78999, 30)\n",
      "(78999, 15)\n"
     ]
    }
   ],
   "source": [
    "X_pcaProbe = pca.fit_transform(X_rfeProbe)\n",
    "X_pcaProbe_test = pca.fit_transform(X_rfeProbe_test)\n",
    "print(X_rfeProbe.shape)\n",
    "print(X_pcaProbe.shape)"
   ]
  },
  {
   "cell_type": "markdown",
   "metadata": {},
   "source": [
    "Trích xuất đặc trưng trên R2L dataset"
   ]
  },
  {
   "cell_type": "code",
   "execution_count": 81,
   "metadata": {},
   "outputs": [
    {
     "name": "stdout",
     "output_type": "stream",
     "text": [
      "(68338, 30)\n",
      "(68338, 15)\n"
     ]
    }
   ],
   "source": [
    "X_pcaR2L = pca.fit_transform(X_rfeR2L)\n",
    "X_pcaR2L_test = pca.fit_transform(X_rfeR2L_test)\n",
    "print(X_rfeR2L.shape)\n",
    "print(X_pcaR2L.shape)"
   ]
  },
  {
   "cell_type": "markdown",
   "metadata": {},
   "source": [
    "Trích xuất đặc trưng trên U2R dataset"
   ]
  },
  {
   "cell_type": "code",
   "execution_count": 82,
   "metadata": {},
   "outputs": [
    {
     "name": "stdout",
     "output_type": "stream",
     "text": [
      "(67395, 30)\n",
      "(67395, 15)\n"
     ]
    }
   ],
   "source": [
    "X_pcaU2R = pca.fit_transform(X_rfeU2R)\n",
    "X_pcaU2R_test = pca.fit_transform(X_rfeU2R_test)\n",
    "print(X_rfeU2R.shape)\n",
    "print(X_pcaU2R.shape)"
   ]
  },
  {
   "cell_type": "markdown",
   "metadata": {},
   "source": [
    "# END: FEATURE EXTRACTION"
   ]
  },
  {
   "cell_type": "markdown",
   "metadata": {},
   "source": [
    "# START: DBSCAN"
   ]
  },
  {
   "cell_type": "markdown",
   "metadata": {},
   "source": [
    "# Train model DBSCAN trên toàn bộ dataset"
   ]
  },
  {
   "cell_type": "code",
   "execution_count": 83,
   "metadata": {},
   "outputs": [
    {
     "data": {
      "text/plain": [
       "(22544, 15)"
      ]
     },
     "execution_count": 83,
     "metadata": {},
     "output_type": "execute_result"
    }
   ],
   "source": [
    "X_pcaTest.shape"
   ]
  },
  {
   "cell_type": "markdown",
   "metadata": {},
   "source": [
    "Lựa chọn 2 chỉ số eps (epsilon) và min_samples (min points) trong bài lab đã được thử nghiệm nhiều lần để tìm ra được chỉ số sao cho nhiễu ở mức chấp nhận được"
   ]
  },
  {
   "cell_type": "code",
   "execution_count": 84,
   "metadata": {},
   "outputs": [
    {
     "name": "stdout",
     "output_type": "stream",
     "text": [
      "{0, 1, 2, 3, 4, 5, 6, 7, 8, -1}\n"
     ]
    }
   ],
   "source": [
    "from sklearn.cluster import DBSCAN\n",
    "Full_dbscan = DBSCAN(eps=0.7, min_samples=500)\n",
    "# Train model\n",
    "Full_dbscan.fit(X_pcaTrain)\n",
    "# Predict\n",
    "Full_dbscanPredict = Full_dbscan.fit_predict(X_pcaTest)\n",
    "print(set(Full_dbscanPredict))"
   ]
  },
  {
   "cell_type": "code",
   "execution_count": 85,
   "metadata": {},
   "outputs": [
    {
     "data": {
      "text/html": [
       "<div>\n",
       "<style scoped>\n",
       "    .dataframe tbody tr th:only-of-type {\n",
       "        vertical-align: middle;\n",
       "    }\n",
       "\n",
       "    .dataframe tbody tr th {\n",
       "        vertical-align: top;\n",
       "    }\n",
       "\n",
       "    .dataframe thead th {\n",
       "        text-align: right;\n",
       "    }\n",
       "</style>\n",
       "<table border=\"1\" class=\"dataframe\">\n",
       "  <thead>\n",
       "    <tr style=\"text-align: right;\">\n",
       "      <th>Clusters</th>\n",
       "      <th>-1</th>\n",
       "      <th>0</th>\n",
       "      <th>1</th>\n",
       "      <th>2</th>\n",
       "      <th>3</th>\n",
       "      <th>4</th>\n",
       "      <th>5</th>\n",
       "      <th>6</th>\n",
       "      <th>7</th>\n",
       "      <th>8</th>\n",
       "    </tr>\n",
       "    <tr>\n",
       "      <th>Types of attack</th>\n",
       "      <th></th>\n",
       "      <th></th>\n",
       "      <th></th>\n",
       "      <th></th>\n",
       "      <th></th>\n",
       "      <th></th>\n",
       "      <th></th>\n",
       "      <th></th>\n",
       "      <th></th>\n",
       "      <th></th>\n",
       "    </tr>\n",
       "  </thead>\n",
       "  <tbody>\n",
       "    <tr>\n",
       "      <th>0</th>\n",
       "      <td>635</td>\n",
       "      <td>0</td>\n",
       "      <td>8287</td>\n",
       "      <td>0</td>\n",
       "      <td>0</td>\n",
       "      <td>556</td>\n",
       "      <td>1</td>\n",
       "      <td>0</td>\n",
       "      <td>0</td>\n",
       "      <td>232</td>\n",
       "    </tr>\n",
       "    <tr>\n",
       "      <th>1</th>\n",
       "      <td>801</td>\n",
       "      <td>1967</td>\n",
       "      <td>1045</td>\n",
       "      <td>1118</td>\n",
       "      <td>917</td>\n",
       "      <td>0</td>\n",
       "      <td>572</td>\n",
       "      <td>533</td>\n",
       "      <td>507</td>\n",
       "      <td>0</td>\n",
       "    </tr>\n",
       "    <tr>\n",
       "      <th>2</th>\n",
       "      <td>2189</td>\n",
       "      <td>0</td>\n",
       "      <td>58</td>\n",
       "      <td>155</td>\n",
       "      <td>0</td>\n",
       "      <td>0</td>\n",
       "      <td>0</td>\n",
       "      <td>0</td>\n",
       "      <td>19</td>\n",
       "      <td>0</td>\n",
       "    </tr>\n",
       "    <tr>\n",
       "      <th>3</th>\n",
       "      <td>239</td>\n",
       "      <td>0</td>\n",
       "      <td>1724</td>\n",
       "      <td>0</td>\n",
       "      <td>0</td>\n",
       "      <td>497</td>\n",
       "      <td>0</td>\n",
       "      <td>2</td>\n",
       "      <td>0</td>\n",
       "      <td>423</td>\n",
       "    </tr>\n",
       "    <tr>\n",
       "      <th>4</th>\n",
       "      <td>7</td>\n",
       "      <td>0</td>\n",
       "      <td>51</td>\n",
       "      <td>0</td>\n",
       "      <td>0</td>\n",
       "      <td>0</td>\n",
       "      <td>0</td>\n",
       "      <td>0</td>\n",
       "      <td>0</td>\n",
       "      <td>9</td>\n",
       "    </tr>\n",
       "  </tbody>\n",
       "</table>\n",
       "</div>"
      ],
      "text/plain": [
       "Clusters           -1     0     1     2    3    4    5    6    7    8\n",
       "Types of attack                                                      \n",
       "0                 635     0  8287     0    0  556    1    0    0  232\n",
       "1                 801  1967  1045  1118  917    0  572  533  507    0\n",
       "2                2189     0    58   155    0    0    0    0   19    0\n",
       "3                 239     0  1724     0    0  497    0    2    0  423\n",
       "4                   7     0    51     0    0    0    0    0    0    9"
      ]
     },
     "execution_count": 85,
     "metadata": {},
     "output_type": "execute_result"
    }
   ],
   "source": [
    "pd.crosstab(Y_test, Full_dbscanPredict, rownames=['Types of attack'], colnames=['Clusters'])"
   ]
  },
  {
   "cell_type": "markdown",
   "metadata": {},
   "source": [
    "Từ bảng trên, rút ra kết luận, với tập full, ứng dụng dbscan với eps=0.7 và min_samples=500, sẽ có 9 cluster. Trong đó các cluster 0, 2, 3, 5, 6, 7, 8 là các cluster tấn công, các cluster 1, 4 là các cluster normal. Xác định cluster là tấn công hay normal dựa trên sự tương quan giữa số lượng record là normal (0) với số lượng record thuộc về lớp tấn công DoS (1)- Probe(2) - R2L(3) - U2R(4)"
   ]
  },
  {
   "cell_type": "markdown",
   "metadata": {},
   "source": [
    "# Train model DBSCAN trên DoS dataset"
   ]
  },
  {
   "cell_type": "code",
   "execution_count": 86,
   "metadata": {},
   "outputs": [
    {
     "data": {
      "text/plain": [
       "(17171, 15)"
      ]
     },
     "execution_count": 86,
     "metadata": {},
     "output_type": "execute_result"
    }
   ],
   "source": [
    "X_pcaDoS_test.shape"
   ]
  },
  {
   "cell_type": "code",
   "execution_count": 87,
   "metadata": {},
   "outputs": [
    {
     "name": "stdout",
     "output_type": "stream",
     "text": [
      "{0, 1, 2, 3, 4, 5, 6, 7, 8, -1}\n"
     ]
    }
   ],
   "source": [
    "DoS_dbscan = DBSCAN(eps=0.5, min_samples=450)\n",
    "DoS_dbscan.fit(X_pcaDoS)\n",
    "DoS_dbscanPredict = DoS_dbscan.fit_predict(X_pcaDoS_test)\n",
    "print(set(DoS_dbscanPredict))"
   ]
  },
  {
   "cell_type": "code",
   "execution_count": 88,
   "metadata": {},
   "outputs": [
    {
     "data": {
      "text/html": [
       "<div>\n",
       "<style scoped>\n",
       "    .dataframe tbody tr th:only-of-type {\n",
       "        vertical-align: middle;\n",
       "    }\n",
       "\n",
       "    .dataframe tbody tr th {\n",
       "        vertical-align: top;\n",
       "    }\n",
       "\n",
       "    .dataframe thead th {\n",
       "        text-align: right;\n",
       "    }\n",
       "</style>\n",
       "<table border=\"1\" class=\"dataframe\">\n",
       "  <thead>\n",
       "    <tr style=\"text-align: right;\">\n",
       "      <th>Clusters</th>\n",
       "      <th>-1</th>\n",
       "      <th>0</th>\n",
       "      <th>1</th>\n",
       "      <th>2</th>\n",
       "      <th>3</th>\n",
       "      <th>4</th>\n",
       "      <th>5</th>\n",
       "      <th>6</th>\n",
       "      <th>7</th>\n",
       "      <th>8</th>\n",
       "    </tr>\n",
       "    <tr>\n",
       "      <th>Types of attack</th>\n",
       "      <th></th>\n",
       "      <th></th>\n",
       "      <th></th>\n",
       "      <th></th>\n",
       "      <th></th>\n",
       "      <th></th>\n",
       "      <th></th>\n",
       "      <th></th>\n",
       "      <th></th>\n",
       "      <th></th>\n",
       "    </tr>\n",
       "  </thead>\n",
       "  <tbody>\n",
       "    <tr>\n",
       "      <th>0</th>\n",
       "      <td>1462</td>\n",
       "      <td>1</td>\n",
       "      <td>6948</td>\n",
       "      <td>0</td>\n",
       "      <td>785</td>\n",
       "      <td>0</td>\n",
       "      <td>0</td>\n",
       "      <td>0</td>\n",
       "      <td>515</td>\n",
       "      <td>0</td>\n",
       "    </tr>\n",
       "    <tr>\n",
       "      <th>1</th>\n",
       "      <td>1103</td>\n",
       "      <td>1957</td>\n",
       "      <td>492</td>\n",
       "      <td>1156</td>\n",
       "      <td>251</td>\n",
       "      <td>905</td>\n",
       "      <td>530</td>\n",
       "      <td>539</td>\n",
       "      <td>0</td>\n",
       "      <td>527</td>\n",
       "    </tr>\n",
       "  </tbody>\n",
       "</table>\n",
       "</div>"
      ],
      "text/plain": [
       "Clusters           -1     0     1     2    3    4    5    6    7    8\n",
       "Types of attack                                                      \n",
       "0                1462     1  6948     0  785    0    0    0  515    0\n",
       "1                1103  1957   492  1156  251  905  530  539    0  527"
      ]
     },
     "execution_count": 88,
     "metadata": {},
     "output_type": "execute_result"
    }
   ],
   "source": [
    "pd.crosstab(Y_DoS_test, DoS_dbscanPredict, rownames=['Types of attack'], colnames=['Clusters'])"
   ]
  },
  {
   "cell_type": "markdown",
   "metadata": {},
   "source": [
    "Từ bảng trên, rút ra kết luận, với tập DoS, ứng dụng dbscan với eps=0.5 và min_samples=450, sẽ có 9 cluster. Trong đó các cluster 0, 2, 4, 5, 6, 8 là các cluster tấn công, các cluster 1, 3, 7 là các cluster normal."
   ]
  },
  {
   "cell_type": "markdown",
   "metadata": {},
   "source": [
    "# Train model DBSCAN trên Probe dataset"
   ]
  },
  {
   "cell_type": "code",
   "execution_count": 89,
   "metadata": {},
   "outputs": [
    {
     "data": {
      "text/plain": [
       "(12132, 15)"
      ]
     },
     "execution_count": 89,
     "metadata": {},
     "output_type": "execute_result"
    }
   ],
   "source": [
    "X_pcaProbe_test.shape"
   ]
  },
  {
   "cell_type": "code",
   "execution_count": 90,
   "metadata": {},
   "outputs": [
    {
     "name": "stdout",
     "output_type": "stream",
     "text": [
      "{0, 1, 2, 3, 4, 5, 6, 7, -1}\n"
     ]
    }
   ],
   "source": [
    "Probe_dbscan = DBSCAN(eps=0.8, min_samples=200)\n",
    "Probe_dbscan.fit(X_pcaProbe)\n",
    "Probe_dbscanPredict = Probe_dbscan.fit_predict(X_pcaProbe_test)\n",
    "print(set(Probe_dbscanPredict))"
   ]
  },
  {
   "cell_type": "code",
   "execution_count": 91,
   "metadata": {},
   "outputs": [
    {
     "data": {
      "text/html": [
       "<div>\n",
       "<style scoped>\n",
       "    .dataframe tbody tr th:only-of-type {\n",
       "        vertical-align: middle;\n",
       "    }\n",
       "\n",
       "    .dataframe tbody tr th {\n",
       "        vertical-align: top;\n",
       "    }\n",
       "\n",
       "    .dataframe thead th {\n",
       "        text-align: right;\n",
       "    }\n",
       "</style>\n",
       "<table border=\"1\" class=\"dataframe\">\n",
       "  <thead>\n",
       "    <tr style=\"text-align: right;\">\n",
       "      <th>Clusters</th>\n",
       "      <th>-1</th>\n",
       "      <th>0</th>\n",
       "      <th>1</th>\n",
       "      <th>2</th>\n",
       "      <th>3</th>\n",
       "      <th>4</th>\n",
       "      <th>5</th>\n",
       "      <th>6</th>\n",
       "      <th>7</th>\n",
       "    </tr>\n",
       "    <tr>\n",
       "      <th>Types of attack</th>\n",
       "      <th></th>\n",
       "      <th></th>\n",
       "      <th></th>\n",
       "      <th></th>\n",
       "      <th></th>\n",
       "      <th></th>\n",
       "      <th></th>\n",
       "      <th></th>\n",
       "      <th></th>\n",
       "    </tr>\n",
       "  </thead>\n",
       "  <tbody>\n",
       "    <tr>\n",
       "      <th>0</th>\n",
       "      <td>482</td>\n",
       "      <td>308</td>\n",
       "      <td>6647</td>\n",
       "      <td>688</td>\n",
       "      <td>643</td>\n",
       "      <td>120</td>\n",
       "      <td>823</td>\n",
       "      <td>0</td>\n",
       "      <td>0</td>\n",
       "    </tr>\n",
       "    <tr>\n",
       "      <th>2</th>\n",
       "      <td>1597</td>\n",
       "      <td>0</td>\n",
       "      <td>0</td>\n",
       "      <td>0</td>\n",
       "      <td>9</td>\n",
       "      <td>188</td>\n",
       "      <td>0</td>\n",
       "      <td>426</td>\n",
       "      <td>201</td>\n",
       "    </tr>\n",
       "  </tbody>\n",
       "</table>\n",
       "</div>"
      ],
      "text/plain": [
       "Clusters           -1    0     1    2    3    4    5    6    7\n",
       "Types of attack                                               \n",
       "0                 482  308  6647  688  643  120  823    0    0\n",
       "2                1597    0     0    0    9  188    0  426  201"
      ]
     },
     "execution_count": 91,
     "metadata": {},
     "output_type": "execute_result"
    }
   ],
   "source": [
    "pd.crosstab(Y_Probe_test, Probe_dbscanPredict, rownames=['Types of attack'], colnames=['Clusters'])"
   ]
  },
  {
   "cell_type": "markdown",
   "metadata": {},
   "source": [
    "Từ bảng trên, rút ra kết luận, với tập Probe, ứng dụng dbscan với eps=0.8 và min_samples=200, sẽ có 8 cluster. Trong đó các cluster 4, 6, 7 là các cluster tấn công, các cluster 0, 1, 2, 3, 5 là các cluster normal."
   ]
  },
  {
   "cell_type": "markdown",
   "metadata": {},
   "source": [
    "# Train model DBSCAN trên R2L dataset"
   ]
  },
  {
   "cell_type": "code",
   "execution_count": 92,
   "metadata": {},
   "outputs": [
    {
     "data": {
      "text/plain": [
       "(12596, 15)"
      ]
     },
     "execution_count": 92,
     "metadata": {},
     "output_type": "execute_result"
    }
   ],
   "source": [
    "X_pcaR2L_test.shape"
   ]
  },
  {
   "cell_type": "code",
   "execution_count": 93,
   "metadata": {},
   "outputs": [
    {
     "name": "stdout",
     "output_type": "stream",
     "text": [
      "{0, 1, 2, 3, -1}\n"
     ]
    }
   ],
   "source": [
    "R2L_dbscan = DBSCAN(eps=0.8, min_samples=200)\n",
    "R2L_dbscan.fit(X_pcaR2L)\n",
    "R2L_dbscanPredict = R2L_dbscan.fit_predict(X_pcaR2L_test)\n",
    "print(set(R2L_dbscanPredict))"
   ]
  },
  {
   "cell_type": "code",
   "execution_count": 94,
   "metadata": {},
   "outputs": [
    {
     "data": {
      "text/html": [
       "<div>\n",
       "<style scoped>\n",
       "    .dataframe tbody tr th:only-of-type {\n",
       "        vertical-align: middle;\n",
       "    }\n",
       "\n",
       "    .dataframe tbody tr th {\n",
       "        vertical-align: top;\n",
       "    }\n",
       "\n",
       "    .dataframe thead th {\n",
       "        text-align: right;\n",
       "    }\n",
       "</style>\n",
       "<table border=\"1\" class=\"dataframe\">\n",
       "  <thead>\n",
       "    <tr style=\"text-align: right;\">\n",
       "      <th>Clusters</th>\n",
       "      <th>-1</th>\n",
       "      <th>0</th>\n",
       "      <th>1</th>\n",
       "      <th>2</th>\n",
       "      <th>3</th>\n",
       "    </tr>\n",
       "    <tr>\n",
       "      <th>Types of attack</th>\n",
       "      <th></th>\n",
       "      <th></th>\n",
       "      <th></th>\n",
       "      <th></th>\n",
       "      <th></th>\n",
       "    </tr>\n",
       "  </thead>\n",
       "  <tbody>\n",
       "    <tr>\n",
       "      <th>0</th>\n",
       "      <td>59</td>\n",
       "      <td>320</td>\n",
       "      <td>7297</td>\n",
       "      <td>1993</td>\n",
       "      <td>42</td>\n",
       "    </tr>\n",
       "    <tr>\n",
       "      <th>3</th>\n",
       "      <td>113</td>\n",
       "      <td>451</td>\n",
       "      <td>777</td>\n",
       "      <td>1047</td>\n",
       "      <td>497</td>\n",
       "    </tr>\n",
       "  </tbody>\n",
       "</table>\n",
       "</div>"
      ],
      "text/plain": [
       "Clusters          -1    0     1     2    3\n",
       "Types of attack                           \n",
       "0                 59  320  7297  1993   42\n",
       "3                113  451   777  1047  497"
      ]
     },
     "execution_count": 94,
     "metadata": {},
     "output_type": "execute_result"
    }
   ],
   "source": [
    "pd.crosstab(Y_R2L_test, R2L_dbscanPredict, rownames=['Types of attack'], colnames=['Clusters'])"
   ]
  },
  {
   "cell_type": "markdown",
   "metadata": {},
   "source": [
    "Từ bảng trên, rút ra kết luận, với tập R2L, ứng dụng dbscan với eps=0.8 và min_samples=200, sẽ có 4 cluster. Trong đó các cluster 0, 3 là các cluster tấn công, các cluster 1, 2 là các cluster normal."
   ]
  },
  {
   "cell_type": "markdown",
   "metadata": {},
   "source": [
    "# Train model DBSCAN trên U2R dataset"
   ]
  },
  {
   "cell_type": "code",
   "execution_count": 95,
   "metadata": {},
   "outputs": [
    {
     "data": {
      "text/plain": [
       "(9778, 15)"
      ]
     },
     "execution_count": 95,
     "metadata": {},
     "output_type": "execute_result"
    }
   ],
   "source": [
    "X_pcaU2R_test.shape"
   ]
  },
  {
   "cell_type": "code",
   "execution_count": 96,
   "metadata": {},
   "outputs": [],
   "source": [
    "# Dùng đoạn code sau để thử tìm eps và min_samples\n",
    "# for i in np.arange(0.3, 1, 0.1):\n",
    "#     if i >= 0.9:\n",
    "#         break\n",
    "#     for j in range(150, 500, 50):\n",
    "#         U2R_dbscan = DBSCAN(eps=i, min_samples=j)\n",
    "#         U2R_dbscan.fit(X_pcaU2R)\n",
    "#         U2R_dbscanPredict = DoS_dbscan.fit_predict(X_pcaU2R_test)\n",
    "#         print(\"eps=\",i,\", min_sample=\",j, \" --> \", set(U2R_dbscanPredict),sep=\"\")"
   ]
  },
  {
   "cell_type": "code",
   "execution_count": 97,
   "metadata": {},
   "outputs": [
    {
     "name": "stdout",
     "output_type": "stream",
     "text": [
      "{0, 1, -1}\n"
     ]
    }
   ],
   "source": [
    "U2R_dbscan = DBSCAN(eps=0.8, min_samples=200)\n",
    "U2R_dbscan.fit(X_pcaU2R)\n",
    "U2R_dbscanPredict = DoS_dbscan.fit_predict(X_pcaU2R_test)\n",
    "print(set(U2R_dbscanPredict))"
   ]
  },
  {
   "cell_type": "code",
   "execution_count": 98,
   "metadata": {},
   "outputs": [
    {
     "data": {
      "text/html": [
       "<div>\n",
       "<style scoped>\n",
       "    .dataframe tbody tr th:only-of-type {\n",
       "        vertical-align: middle;\n",
       "    }\n",
       "\n",
       "    .dataframe tbody tr th {\n",
       "        vertical-align: top;\n",
       "    }\n",
       "\n",
       "    .dataframe thead th {\n",
       "        text-align: right;\n",
       "    }\n",
       "</style>\n",
       "<table border=\"1\" class=\"dataframe\">\n",
       "  <thead>\n",
       "    <tr style=\"text-align: right;\">\n",
       "      <th>Clusters</th>\n",
       "      <th>-1</th>\n",
       "      <th>0</th>\n",
       "      <th>1</th>\n",
       "    </tr>\n",
       "    <tr>\n",
       "      <th>Types of attack</th>\n",
       "      <th></th>\n",
       "      <th></th>\n",
       "      <th></th>\n",
       "    </tr>\n",
       "  </thead>\n",
       "  <tbody>\n",
       "    <tr>\n",
       "      <th>0</th>\n",
       "      <td>1609</td>\n",
       "      <td>6621</td>\n",
       "      <td>1481</td>\n",
       "    </tr>\n",
       "    <tr>\n",
       "      <th>4</th>\n",
       "      <td>67</td>\n",
       "      <td>0</td>\n",
       "      <td>0</td>\n",
       "    </tr>\n",
       "  </tbody>\n",
       "</table>\n",
       "</div>"
      ],
      "text/plain": [
       "Clusters           -1     0     1\n",
       "Types of attack                  \n",
       "0                1609  6621  1481\n",
       "4                  67     0     0"
      ]
     },
     "execution_count": 98,
     "metadata": {},
     "output_type": "execute_result"
    }
   ],
   "source": [
    "pd.crosstab(Y_U2R_test, U2R_dbscanPredict, rownames=['Types of attack'], colnames=['Clusters'])"
   ]
  },
  {
   "cell_type": "markdown",
   "metadata": {},
   "source": [
    "Từ bảng trên, rút ra kết luận, với tập U2R, ứng dụng dbscan với eps=0.8 và min_samples=200, sẽ có 2 cluster và cả 2 cluster đều là normal"
   ]
  },
  {
   "cell_type": "markdown",
   "metadata": {},
   "source": [
    "DBSCAN là một mô hình học máy không giám sát (Unsupervised Learning) nên không thể trực tiếp tính toán độ chính xác (Accuracy) thông qua Confusion Matrix - vốn chỉ có thể sử dụng trên các mô hình học máy giám sát (có gán nhãn). Có thể tính toán hiệu năng của DBSCAN thông qua silhouette score, Davies-Bouldin index hoặc Calinski-Harabasz index"
   ]
  },
  {
   "cell_type": "markdown",
   "metadata": {},
   "source": [
    "# END: DBSCAN"
   ]
  }
 ],
 "metadata": {
  "kernelspec": {
   "display_name": "Python 3 (ipykernel)",
   "language": "python",
   "name": "python3"
  },
  "language_info": {
   "codemirror_mode": {
    "name": "ipython",
    "version": 3
   },
   "file_extension": ".py",
   "mimetype": "text/x-python",
   "name": "python",
   "nbconvert_exporter": "python",
   "pygments_lexer": "ipython3",
   "version": "3.10.9"
  }
 },
 "nbformat": 4,
 "nbformat_minor": 2
}
